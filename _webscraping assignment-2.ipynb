{
 "cells": [
  {
   "cell_type": "code",
   "execution_count": 2,
   "id": "3f55321e",
   "metadata": {},
   "outputs": [
    {
     "name": "stdout",
     "output_type": "stream",
     "text": [
      "Requirement already satisfied: selenium in c:\\users\\saranya\\anaconda3\\lib\\site-packages (4.4.3)\n",
      "Requirement already satisfied: urllib3[socks]~=1.26 in c:\\users\\saranya\\anaconda3\\lib\\site-packages (from selenium) (1.26.7)\n",
      "Requirement already satisfied: trio-websocket~=0.9 in c:\\users\\saranya\\anaconda3\\lib\\site-packages (from selenium) (0.9.2)\n",
      "Requirement already satisfied: certifi>=2021.10.8 in c:\\users\\saranya\\anaconda3\\lib\\site-packages (from selenium) (2021.10.8)\n",
      "Requirement already satisfied: trio~=0.17 in c:\\users\\saranya\\anaconda3\\lib\\site-packages (from selenium) (0.21.0)\n",
      "Requirement already satisfied: sortedcontainers in c:\\users\\saranya\\anaconda3\\lib\\site-packages (from trio~=0.17->selenium) (2.4.0)\n",
      "Requirement already satisfied: outcome in c:\\users\\saranya\\anaconda3\\lib\\site-packages (from trio~=0.17->selenium) (1.2.0)\n",
      "Requirement already satisfied: idna in c:\\users\\saranya\\anaconda3\\lib\\site-packages (from trio~=0.17->selenium) (3.2)\n",
      "Requirement already satisfied: cffi>=1.14 in c:\\users\\saranya\\anaconda3\\lib\\site-packages (from trio~=0.17->selenium) (1.14.6)\n",
      "Requirement already satisfied: attrs>=19.2.0 in c:\\users\\saranya\\anaconda3\\lib\\site-packages (from trio~=0.17->selenium) (21.2.0)\n",
      "Requirement already satisfied: async-generator>=1.9 in c:\\users\\saranya\\anaconda3\\lib\\site-packages (from trio~=0.17->selenium) (1.10)\n",
      "Requirement already satisfied: sniffio in c:\\users\\saranya\\anaconda3\\lib\\site-packages (from trio~=0.17->selenium) (1.2.0)\n",
      "Requirement already satisfied: pycparser in c:\\users\\saranya\\anaconda3\\lib\\site-packages (from cffi>=1.14->trio~=0.17->selenium) (2.20)\n",
      "Requirement already satisfied: wsproto>=0.14 in c:\\users\\saranya\\anaconda3\\lib\\site-packages (from trio-websocket~=0.9->selenium) (1.2.0)\n",
      "Requirement already satisfied: PySocks!=1.5.7,<2.0,>=1.5.6 in c:\\users\\saranya\\anaconda3\\lib\\site-packages (from urllib3[socks]~=1.26->selenium) (1.7.1)\n",
      "Requirement already satisfied: h11<1,>=0.9.0 in c:\\users\\saranya\\anaconda3\\lib\\site-packages (from wsproto>=0.14->trio-websocket~=0.9->selenium) (0.13.0)\n"
     ]
    }
   ],
   "source": [
    "! pip3 install selenium"
   ]
  },
  {
   "cell_type": "code",
   "execution_count": 3,
   "id": "80678cf2",
   "metadata": {},
   "outputs": [],
   "source": [
    "import selenium\n",
    "import pandas as pd\n",
    "from selenium import webdriver\n",
    "from selenium.webdriver.common.by import By\n",
    "import time\n",
    "from selenium.webdriver.chrome.service import Service\n",
    "import warnings\n",
    "warnings.filterwarnings('ignore')"
   ]
  },
  {
   "cell_type": "code",
   "execution_count": 5,
   "id": "f03ee694",
   "metadata": {},
   "outputs": [
    {
     "data": {
      "text/plain": [
       "<selenium.webdriver.chrome.webdriver.WebDriver (session=\"ed00973c6e58356bea56fe939b1525f7\")>"
      ]
     },
     "execution_count": 5,
     "metadata": {},
     "output_type": "execute_result"
    }
   ],
   "source": [
    "driver = webdriver.Chrome(r\"C:\\\\Users\\\\Saranya\\\\Downloads\\\\chromedriver.exe\")\n",
    "driver"
   ]
  },
  {
   "cell_type": "code",
   "execution_count": 6,
   "id": "23be89ed",
   "metadata": {},
   "outputs": [],
   "source": [
    "url = \"https://www.naukri.com\"\n",
    "driver.get(url)"
   ]
  },
  {
   "cell_type": "code",
   "execution_count": 7,
   "id": "29913cde",
   "metadata": {},
   "outputs": [
    {
     "data": {
      "text/plain": [
       "<selenium.webdriver.remote.webelement.WebElement (session=\"ed00973c6e58356bea56fe939b1525f7\", element=\"7472a5ec-0876-43f4-ba50-8b7bee28d1e4\")>"
      ]
     },
     "execution_count": 7,
     "metadata": {},
     "output_type": "execute_result"
    }
   ],
   "source": [
    "search_job = driver.find_element_by_xpath(\"//input[@class='sugInp']\")\n",
    "search_job"
   ]
  },
  {
   "cell_type": "code",
   "execution_count": null,
   "id": "114cc650",
   "metadata": {},
   "outputs": [],
   "source": [
    "designation.send_keys('Data Analyst')"
   ]
  },
  {
   "cell_type": "code",
   "execution_count": 8,
   "id": "80f47fda",
   "metadata": {},
   "outputs": [
    {
     "data": {
      "text/plain": [
       "<selenium.webdriver.remote.webelement.WebElement (session=\"ed00973c6e58356bea56fe939b1525f7\", element=\"7472a5ec-0876-43f4-ba50-8b7bee28d1e4\")>"
      ]
     },
     "execution_count": 8,
     "metadata": {},
     "output_type": "execute_result"
    }
   ],
   "source": [
    "location = driver.find_element(By.CLASS_NAME,\"suggestor-input \")\n",
    "location"
   ]
  },
  {
   "cell_type": "code",
   "execution_count": 9,
   "id": "11e0a34e",
   "metadata": {},
   "outputs": [],
   "source": [
    "location.send_keys('Bangalore')"
   ]
  },
  {
   "cell_type": "code",
   "execution_count": 10,
   "id": "dbb02483",
   "metadata": {},
   "outputs": [
    {
     "data": {
      "text/plain": [
       "<selenium.webdriver.remote.webelement.WebElement (session=\"ed00973c6e58356bea56fe939b1525f7\", element=\"5d1666fd-9f73-4b17-9190-fdf301bb8251\")>"
      ]
     },
     "execution_count": 10,
     "metadata": {},
     "output_type": "execute_result"
    }
   ],
   "source": [
    "search_btn= driver.find_element(By.CLASS_NAME,\"qsbSubmit\")\n",
    "search_btn"
   ]
  },
  {
   "cell_type": "code",
   "execution_count": 11,
   "id": "9d0f2c27",
   "metadata": {},
   "outputs": [],
   "source": [
    "search_btn= driver.find_element(By.CLASS_NAME,\"qsbSubmit\")\n",
    "search_btn.click()"
   ]
  },
  {
   "cell_type": "code",
   "execution_count": 13,
   "id": "92871ce4",
   "metadata": {},
   "outputs": [
    {
     "data": {
      "text/plain": [
       "[<selenium.webdriver.remote.webelement.WebElement (session=\"ed00973c6e58356bea56fe939b1525f7\", element=\"415ee44e-45b3-4f23-9528-1d0ef80711a9\")>,\n",
       " <selenium.webdriver.remote.webelement.WebElement (session=\"ed00973c6e58356bea56fe939b1525f7\", element=\"6e6239c2-6ee1-4762-b72b-4693c10f1ee5\")>,\n",
       " <selenium.webdriver.remote.webelement.WebElement (session=\"ed00973c6e58356bea56fe939b1525f7\", element=\"ac505133-cb27-4b49-8678-93db1f28d802\")>,\n",
       " <selenium.webdriver.remote.webelement.WebElement (session=\"ed00973c6e58356bea56fe939b1525f7\", element=\"754c1e84-e88d-4864-8a21-97fcb3e1c40f\")>,\n",
       " <selenium.webdriver.remote.webelement.WebElement (session=\"ed00973c6e58356bea56fe939b1525f7\", element=\"61733fc1-fd26-4b9b-acb2-840bbd6732eb\")>,\n",
       " <selenium.webdriver.remote.webelement.WebElement (session=\"ed00973c6e58356bea56fe939b1525f7\", element=\"37c63478-727b-4257-a7d0-e8c006737258\")>,\n",
       " <selenium.webdriver.remote.webelement.WebElement (session=\"ed00973c6e58356bea56fe939b1525f7\", element=\"5ad19b3c-c87b-4edb-b1b1-4832cf5d5d55\")>,\n",
       " <selenium.webdriver.remote.webelement.WebElement (session=\"ed00973c6e58356bea56fe939b1525f7\", element=\"08bb13d1-1e86-4e2e-994b-5fcb9a1a9394\")>,\n",
       " <selenium.webdriver.remote.webelement.WebElement (session=\"ed00973c6e58356bea56fe939b1525f7\", element=\"89921298-d6f6-471d-82ec-b94e45e7e61b\")>,\n",
       " <selenium.webdriver.remote.webelement.WebElement (session=\"ed00973c6e58356bea56fe939b1525f7\", element=\"f391d553-bef5-4f09-aa81-b40dd97c38fb\")>,\n",
       " <selenium.webdriver.remote.webelement.WebElement (session=\"ed00973c6e58356bea56fe939b1525f7\", element=\"37a632d2-c6a7-48bf-a01c-6df38daae7bc\")>,\n",
       " <selenium.webdriver.remote.webelement.WebElement (session=\"ed00973c6e58356bea56fe939b1525f7\", element=\"b901dbba-8ed7-4a9a-b490-2839460621af\")>,\n",
       " <selenium.webdriver.remote.webelement.WebElement (session=\"ed00973c6e58356bea56fe939b1525f7\", element=\"15291d03-3de0-46f2-b967-d667d3d3b8f6\")>,\n",
       " <selenium.webdriver.remote.webelement.WebElement (session=\"ed00973c6e58356bea56fe939b1525f7\", element=\"c3927152-0a18-47eb-8b52-78677485d729\")>,\n",
       " <selenium.webdriver.remote.webelement.WebElement (session=\"ed00973c6e58356bea56fe939b1525f7\", element=\"e4e17744-a850-4861-a775-03b5bb34bda1\")>,\n",
       " <selenium.webdriver.remote.webelement.WebElement (session=\"ed00973c6e58356bea56fe939b1525f7\", element=\"cc519f9e-7aac-460a-8b62-33b013d58f0d\")>,\n",
       " <selenium.webdriver.remote.webelement.WebElement (session=\"ed00973c6e58356bea56fe939b1525f7\", element=\"98ead70f-9afe-4cdb-bcbf-583d3f452860\")>,\n",
       " <selenium.webdriver.remote.webelement.WebElement (session=\"ed00973c6e58356bea56fe939b1525f7\", element=\"c18a1f1f-4bc1-4dc0-ad4a-ad3d49a85469\")>,\n",
       " <selenium.webdriver.remote.webelement.WebElement (session=\"ed00973c6e58356bea56fe939b1525f7\", element=\"1d4a2eed-4d80-40dd-89dd-95ae12d90c63\")>,\n",
       " <selenium.webdriver.remote.webelement.WebElement (session=\"ed00973c6e58356bea56fe939b1525f7\", element=\"32dcce95-7560-439a-ac4d-c2e52dbe0ae4\")>]"
      ]
     },
     "execution_count": 13,
     "metadata": {},
     "output_type": "execute_result"
    }
   ],
   "source": [
    "Job_title = driver.find_elements(By.XPATH,'//a[@class=\"title fw500 ellipsis\"]')\n",
    "Job_title"
   ]
  },
  {
   "cell_type": "code",
   "execution_count": 17,
   "id": "0cb253c3",
   "metadata": {},
   "outputs": [
    {
     "data": {
      "text/plain": [
       "['HR Executive and Recruiter',\n",
       " 'Hiring Opening For SQL server Developer For MNC In Hyd',\n",
       " 'Immediate Hiring For .Net Developer CTH role MNC',\n",
       " 'EPM (Enterprise Performance Management); Lead Integrations',\n",
       " 'Edmcs (Enterprise Data Management); EPM Lead',\n",
       " 'TRCS (Tax Reporting Cloud Service) EPM Leads/Architects',\n",
       " 'Analytics and Modeling Analyst',\n",
       " 'Vim Consultant',\n",
       " 'SQL(MSBI) Developer',\n",
       " 'Openings with HCL- Remote Working - SAP Basis/ Hana with Cloud']"
      ]
     },
     "execution_count": 17,
     "metadata": {},
     "output_type": "execute_result"
    }
   ],
   "source": [
    " job_titles=[]\n",
    "for i in Job_title:\n",
    "    if i.text is None:\n",
    "        job_titles.append('Not')\n",
    "    else:\n",
    "        job_titles.append(i.text)\n",
    "job_titles[:10] "
   ]
  },
  {
   "cell_type": "code",
   "execution_count": 18,
   "id": "f49f8ff8",
   "metadata": {},
   "outputs": [
    {
     "data": {
      "text/plain": [
       "[<selenium.webdriver.remote.webelement.WebElement (session=\"ed00973c6e58356bea56fe939b1525f7\", element=\"198741c6-fad7-4f53-89e8-47bb070a6799\")>,\n",
       " <selenium.webdriver.remote.webelement.WebElement (session=\"ed00973c6e58356bea56fe939b1525f7\", element=\"54596ce7-fe0d-4329-a954-d65cc2a02001\")>,\n",
       " <selenium.webdriver.remote.webelement.WebElement (session=\"ed00973c6e58356bea56fe939b1525f7\", element=\"0d10b927-8644-40eb-8513-85169db9d568\")>,\n",
       " <selenium.webdriver.remote.webelement.WebElement (session=\"ed00973c6e58356bea56fe939b1525f7\", element=\"db8e0b06-f1a7-43e4-bada-d1411dc15c8e\")>,\n",
       " <selenium.webdriver.remote.webelement.WebElement (session=\"ed00973c6e58356bea56fe939b1525f7\", element=\"72a526ea-5534-46d5-bb4e-ac8f7934c2d6\")>,\n",
       " <selenium.webdriver.remote.webelement.WebElement (session=\"ed00973c6e58356bea56fe939b1525f7\", element=\"ca25d73d-2555-484e-8431-6d3b21bead9a\")>,\n",
       " <selenium.webdriver.remote.webelement.WebElement (session=\"ed00973c6e58356bea56fe939b1525f7\", element=\"4c94285b-14d9-4051-8af5-34359fb8ddb2\")>,\n",
       " <selenium.webdriver.remote.webelement.WebElement (session=\"ed00973c6e58356bea56fe939b1525f7\", element=\"d973ea66-4213-4bc2-99f4-46f183c2ee10\")>,\n",
       " <selenium.webdriver.remote.webelement.WebElement (session=\"ed00973c6e58356bea56fe939b1525f7\", element=\"2fe3113b-47a5-490f-9e71-b3b586c5fbed\")>,\n",
       " <selenium.webdriver.remote.webelement.WebElement (session=\"ed00973c6e58356bea56fe939b1525f7\", element=\"9cf26693-d866-48cc-a493-46fcc4e42509\")>,\n",
       " <selenium.webdriver.remote.webelement.WebElement (session=\"ed00973c6e58356bea56fe939b1525f7\", element=\"31528f36-7a76-484c-8058-0699d3573ac2\")>,\n",
       " <selenium.webdriver.remote.webelement.WebElement (session=\"ed00973c6e58356bea56fe939b1525f7\", element=\"6361f31b-ae84-41f8-a831-cf424f49f064\")>,\n",
       " <selenium.webdriver.remote.webelement.WebElement (session=\"ed00973c6e58356bea56fe939b1525f7\", element=\"54cd7ee7-79c7-4309-a3d7-f69cf4a23c84\")>,\n",
       " <selenium.webdriver.remote.webelement.WebElement (session=\"ed00973c6e58356bea56fe939b1525f7\", element=\"af1fc082-7261-4ca1-a872-4c6e8a792da5\")>,\n",
       " <selenium.webdriver.remote.webelement.WebElement (session=\"ed00973c6e58356bea56fe939b1525f7\", element=\"910673df-18d9-4319-84b6-b8a1aed88e4c\")>,\n",
       " <selenium.webdriver.remote.webelement.WebElement (session=\"ed00973c6e58356bea56fe939b1525f7\", element=\"e8a0eb32-2b19-4b04-90cb-11238d21259b\")>,\n",
       " <selenium.webdriver.remote.webelement.WebElement (session=\"ed00973c6e58356bea56fe939b1525f7\", element=\"08665559-4237-4d1c-b6fa-127ab12e2548\")>,\n",
       " <selenium.webdriver.remote.webelement.WebElement (session=\"ed00973c6e58356bea56fe939b1525f7\", element=\"a94d243f-a159-4fc6-85f8-c4efff2397fe\")>,\n",
       " <selenium.webdriver.remote.webelement.WebElement (session=\"ed00973c6e58356bea56fe939b1525f7\", element=\"64d6a981-0102-43f9-a85b-081185ee3763\")>,\n",
       " <selenium.webdriver.remote.webelement.WebElement (session=\"ed00973c6e58356bea56fe939b1525f7\", element=\"ab0de43e-ec02-484d-8944-f34010ed9723\")>]"
      ]
     },
     "execution_count": 18,
     "metadata": {},
     "output_type": "execute_result"
    }
   ],
   "source": [
    "company_tag=driver.find_elements(By.XPATH, \"//a[@class='subTitle ellipsis fleft']\")\n",
    "company_tag"
   ]
  },
  {
   "cell_type": "code",
   "execution_count": 20,
   "id": "2a6754bd",
   "metadata": {},
   "outputs": [
    {
     "data": {
      "text/plain": [
       "['Teleperformance (TP)',\n",
       " 'TeamLease',\n",
       " 'TeamLease',\n",
       " 'Oracle',\n",
       " 'Oracle',\n",
       " 'Oracle',\n",
       " 'Accenture',\n",
       " 'TATA CONSULTANCY SERVICES (TCS)',\n",
       " 'GlobalData',\n",
       " 'HCL Technologies']"
      ]
     },
     "execution_count": 20,
     "metadata": {},
     "output_type": "execute_result"
    }
   ],
   "source": [
    "companies_names=[]\n",
    "\n",
    "for i in company_tag:\n",
    "    companies_names.append(i.text)\n",
    "companies_names[:10] "
   ]
  },
  {
   "cell_type": "code",
   "execution_count": 22,
   "id": "c697f346",
   "metadata": {},
   "outputs": [
    {
     "data": {
      "text/plain": [
       "[<selenium.webdriver.remote.webelement.WebElement (session=\"ed00973c6e58356bea56fe939b1525f7\", element=\"bc34a32f-7652-4580-87c1-bde9b73f9025\")>,\n",
       " <selenium.webdriver.remote.webelement.WebElement (session=\"ed00973c6e58356bea56fe939b1525f7\", element=\"b47bbb7e-d332-41c7-b3b6-d1c426cf310b\")>,\n",
       " <selenium.webdriver.remote.webelement.WebElement (session=\"ed00973c6e58356bea56fe939b1525f7\", element=\"66e7aa5b-5624-4511-8f7e-b34cf8f0341c\")>,\n",
       " <selenium.webdriver.remote.webelement.WebElement (session=\"ed00973c6e58356bea56fe939b1525f7\", element=\"468b7328-23ef-41d1-a3af-c284eac5b49d\")>,\n",
       " <selenium.webdriver.remote.webelement.WebElement (session=\"ed00973c6e58356bea56fe939b1525f7\", element=\"aa640698-a1ee-40ef-a801-b68aa8745a9a\")>,\n",
       " <selenium.webdriver.remote.webelement.WebElement (session=\"ed00973c6e58356bea56fe939b1525f7\", element=\"3aa9e008-a244-4384-8b44-f2e8a6c527be\")>,\n",
       " <selenium.webdriver.remote.webelement.WebElement (session=\"ed00973c6e58356bea56fe939b1525f7\", element=\"150c8f85-a02f-44f4-b390-8085eaf3d29e\")>,\n",
       " <selenium.webdriver.remote.webelement.WebElement (session=\"ed00973c6e58356bea56fe939b1525f7\", element=\"03f13948-0fa0-4420-995f-b6e6b4516c5c\")>,\n",
       " <selenium.webdriver.remote.webelement.WebElement (session=\"ed00973c6e58356bea56fe939b1525f7\", element=\"ad3c8d64-06c0-4d1f-ad2d-764cb8d4e3f2\")>,\n",
       " <selenium.webdriver.remote.webelement.WebElement (session=\"ed00973c6e58356bea56fe939b1525f7\", element=\"08ebe804-f896-4989-844a-0f821821081d\")>,\n",
       " <selenium.webdriver.remote.webelement.WebElement (session=\"ed00973c6e58356bea56fe939b1525f7\", element=\"51e88399-92e8-4c3d-b6fd-796fd47cbddd\")>,\n",
       " <selenium.webdriver.remote.webelement.WebElement (session=\"ed00973c6e58356bea56fe939b1525f7\", element=\"ffd9e048-e52a-4b13-a23e-d989c3c3ce5e\")>,\n",
       " <selenium.webdriver.remote.webelement.WebElement (session=\"ed00973c6e58356bea56fe939b1525f7\", element=\"aaaf9623-33e9-44e3-be38-608af6bcc79f\")>,\n",
       " <selenium.webdriver.remote.webelement.WebElement (session=\"ed00973c6e58356bea56fe939b1525f7\", element=\"168a6172-b2b1-41d2-a20d-28e89cc5b711\")>,\n",
       " <selenium.webdriver.remote.webelement.WebElement (session=\"ed00973c6e58356bea56fe939b1525f7\", element=\"e437c397-76ea-442f-8101-a421ea8385ce\")>,\n",
       " <selenium.webdriver.remote.webelement.WebElement (session=\"ed00973c6e58356bea56fe939b1525f7\", element=\"a4187cd2-d03b-44f0-ac2b-b29414d5a995\")>,\n",
       " <selenium.webdriver.remote.webelement.WebElement (session=\"ed00973c6e58356bea56fe939b1525f7\", element=\"f816947e-0d85-4281-b5f4-d3888f9745b5\")>,\n",
       " <selenium.webdriver.remote.webelement.WebElement (session=\"ed00973c6e58356bea56fe939b1525f7\", element=\"fec4767a-d161-461f-8822-1b449281ee06\")>,\n",
       " <selenium.webdriver.remote.webelement.WebElement (session=\"ed00973c6e58356bea56fe939b1525f7\", element=\"9a8fead6-4ee9-43c6-be44-4a4b5abf70e5\")>,\n",
       " <selenium.webdriver.remote.webelement.WebElement (session=\"ed00973c6e58356bea56fe939b1525f7\", element=\"726684cd-2a53-4bac-9e4c-d8ca65c94144\")>]"
      ]
     },
     "execution_count": 22,
     "metadata": {},
     "output_type": "execute_result"
    }
   ],
   "source": [
    "experience_tags=driver.find_elements(By.XPATH,\"//li[@class='fleft grey-text br2 placeHolderLi experience'] //span\")\n",
    "experience_tags"
   ]
  },
  {
   "cell_type": "code",
   "execution_count": 23,
   "id": "7bf72a9f",
   "metadata": {},
   "outputs": [
    {
     "data": {
      "text/plain": [
       "['0-2 Yrs',\n",
       " '8-13 Yrs',\n",
       " '5-10 Yrs',\n",
       " '7-12 Yrs',\n",
       " '7-12 Yrs',\n",
       " '8-13 Yrs',\n",
       " '3-4 Yrs',\n",
       " '5-8 Yrs',\n",
       " '3-8 Yrs',\n",
       " '5-10 Yrs']"
      ]
     },
     "execution_count": 23,
     "metadata": {},
     "output_type": "execute_result"
    }
   ],
   "source": [
    "experience_list=[]\n",
    "for i in experience_tags:\n",
    "    experience_list.append(i.text)\n",
    "experience_list[:10] "
   ]
  },
  {
   "cell_type": "code",
   "execution_count": 25,
   "id": "e88734cf",
   "metadata": {},
   "outputs": [
    {
     "data": {
      "text/plain": [
       "[<selenium.webdriver.remote.webelement.WebElement (session=\"ed00973c6e58356bea56fe939b1525f7\", element=\"59bfec05-f16c-4ae2-aa49-fd96700eb91b\")>,\n",
       " <selenium.webdriver.remote.webelement.WebElement (session=\"ed00973c6e58356bea56fe939b1525f7\", element=\"863ecf68-94a6-4d4f-a4d8-e35c4ab3909c\")>,\n",
       " <selenium.webdriver.remote.webelement.WebElement (session=\"ed00973c6e58356bea56fe939b1525f7\", element=\"1d91e8c0-93d8-4661-8232-820c11032a59\")>,\n",
       " <selenium.webdriver.remote.webelement.WebElement (session=\"ed00973c6e58356bea56fe939b1525f7\", element=\"ce27bc5a-6a19-4573-82fc-e12c79bc32cf\")>,\n",
       " <selenium.webdriver.remote.webelement.WebElement (session=\"ed00973c6e58356bea56fe939b1525f7\", element=\"6e2c220b-58a3-4ff2-945b-20a955c9b665\")>,\n",
       " <selenium.webdriver.remote.webelement.WebElement (session=\"ed00973c6e58356bea56fe939b1525f7\", element=\"2f13e120-3881-4a14-a84a-c35981ddb366\")>,\n",
       " <selenium.webdriver.remote.webelement.WebElement (session=\"ed00973c6e58356bea56fe939b1525f7\", element=\"7bc9ccfb-7477-4a18-b56b-3fd94dae6d89\")>,\n",
       " <selenium.webdriver.remote.webelement.WebElement (session=\"ed00973c6e58356bea56fe939b1525f7\", element=\"86ef999f-6568-429b-becd-2b5b4484da71\")>,\n",
       " <selenium.webdriver.remote.webelement.WebElement (session=\"ed00973c6e58356bea56fe939b1525f7\", element=\"09ff5d05-9f06-4099-8e83-eb64c73c618f\")>,\n",
       " <selenium.webdriver.remote.webelement.WebElement (session=\"ed00973c6e58356bea56fe939b1525f7\", element=\"624759ea-1fd2-4618-885a-a58c282698db\")>,\n",
       " <selenium.webdriver.remote.webelement.WebElement (session=\"ed00973c6e58356bea56fe939b1525f7\", element=\"5c9d0733-527e-42f2-b50e-e30fa7a2b440\")>,\n",
       " <selenium.webdriver.remote.webelement.WebElement (session=\"ed00973c6e58356bea56fe939b1525f7\", element=\"608ae1c0-510f-4d62-86bc-c0b3d3dc7730\")>,\n",
       " <selenium.webdriver.remote.webelement.WebElement (session=\"ed00973c6e58356bea56fe939b1525f7\", element=\"4b9a9665-d2ea-4e41-b34f-ff8632fc68ed\")>,\n",
       " <selenium.webdriver.remote.webelement.WebElement (session=\"ed00973c6e58356bea56fe939b1525f7\", element=\"8a33c0f5-9b68-4d2a-9eb4-a2698aad5362\")>,\n",
       " <selenium.webdriver.remote.webelement.WebElement (session=\"ed00973c6e58356bea56fe939b1525f7\", element=\"26ffbd5b-f590-4bf1-8def-842061323273\")>,\n",
       " <selenium.webdriver.remote.webelement.WebElement (session=\"ed00973c6e58356bea56fe939b1525f7\", element=\"986e1d73-a5e0-476a-a37e-fe96c4c5790b\")>,\n",
       " <selenium.webdriver.remote.webelement.WebElement (session=\"ed00973c6e58356bea56fe939b1525f7\", element=\"8658348a-36da-4305-93c6-e89967b49d19\")>,\n",
       " <selenium.webdriver.remote.webelement.WebElement (session=\"ed00973c6e58356bea56fe939b1525f7\", element=\"fc19fb91-170c-4112-950d-d58c9cfa96bf\")>,\n",
       " <selenium.webdriver.remote.webelement.WebElement (session=\"ed00973c6e58356bea56fe939b1525f7\", element=\"b4978620-3108-46a6-8d2e-1e5f6ccb5e84\")>,\n",
       " <selenium.webdriver.remote.webelement.WebElement (session=\"ed00973c6e58356bea56fe939b1525f7\", element=\"a8522e89-39b7-488e-b07a-6f1c92451b27\")>]"
      ]
     },
     "execution_count": 25,
     "metadata": {},
     "output_type": "execute_result"
    }
   ],
   "source": [
    "locations_tags=driver.find_elements(By.XPATH, \"//li[@class='fleft grey-text br2 placeHolderLi location']/span\")\n",
    "locations_tags"
   ]
  },
  {
   "cell_type": "code",
   "execution_count": 26,
   "id": "ee1585c5",
   "metadata": {},
   "outputs": [
    {
     "data": {
      "text/plain": [
       "['Bangalore/Bengaluru, Pune, Ahmedabad, Jaipur, Delhi / NCR, Mumbai (All Areas)',\n",
       " 'Bangalore/Bengaluru, Hyderabad/Secunderabad, Pune, Delhi / NCR, Mumbai (All Areas)',\n",
       " 'Bangalore/Bengaluru, Kolkata, Hyderabad/Secunderabad, Pune, Chennai, Mumbai (All Areas)',\n",
       " 'Bangalore/Bengaluru, Noida, Kolkata, Gandhinagar, Hyderabad/Secunderabad, Pune, Chennai, Mumbai (All Areas)',\n",
       " 'Bangalore/Bengaluru, Noida, Kolkata, Gandhinagar, Hyderabad/Secunderabad, Pune, Chennai, Mumbai (All Areas)',\n",
       " 'Bangalore/Bengaluru, Noida, Kolkata, Mumbai, Gandhinagar, Hyderabad/Secunderabad, Pune, Chennai',\n",
       " 'Bangalore/Bengaluru, Kolkata, Mumbai, Hyderabad/Secunderabad, Pune, Chennai',\n",
       " 'Bangalore/Bengaluru, Hyderabad/Secunderabad, Pune, Chennai, Mumbai (All Areas)',\n",
       " 'Bangalore/Bengaluru, Kolkata, Hyderabad/Secunderabad, Pune, Ahmedabad, Chennai, Delhi / NCR, Mumbai (All Areas)',\n",
       " 'Bangalore/Bengaluru, Kolkata, Hyderabad/Secunderabad, Pune, Chennai, Delhi / NCR, Mumbai (All Areas)']"
      ]
     },
     "execution_count": 26,
     "metadata": {},
     "output_type": "execute_result"
    }
   ],
   "source": [
    "locations_list=[]\n",
    "for i in locations_tags:\n",
    "    locations_list.append(i.text)\n",
    "locations_list[:10] "
   ]
  },
  {
   "cell_type": "code",
   "execution_count": 27,
   "id": "0a936559",
   "metadata": {},
   "outputs": [
    {
     "name": "stdout",
     "output_type": "stream",
     "text": [
      "10\n",
      "10\n",
      "10\n",
      "10\n"
     ]
    },
    {
     "data": {
      "text/plain": [
       "(None, None, None, None)"
      ]
     },
     "execution_count": 27,
     "metadata": {},
     "output_type": "execute_result"
    }
   ],
   "source": [
    "print(len(job_titles[:10])),print(len(companies_names[:10])),print(len(experience_list[:10])),print(len(locations_list[:10])) "
   ]
  },
  {
   "cell_type": "code",
   "execution_count": 30,
   "id": "813a4e6e",
   "metadata": {},
   "outputs": [],
   "source": [
    "jobs=pd.DataFrame({})\n",
    "jobs['title']=job_titles[:10]\n",
    "jobs['company']=companies_names[:10]\n",
    "jobs['experience_required']=experience_list[:10]\n",
    "jobs['location']=locations_list[:10]"
   ]
  },
  {
   "cell_type": "code",
   "execution_count": 31,
   "id": "3dcb413f",
   "metadata": {},
   "outputs": [
    {
     "data": {
      "text/html": [
       "<div>\n",
       "<style scoped>\n",
       "    .dataframe tbody tr th:only-of-type {\n",
       "        vertical-align: middle;\n",
       "    }\n",
       "\n",
       "    .dataframe tbody tr th {\n",
       "        vertical-align: top;\n",
       "    }\n",
       "\n",
       "    .dataframe thead th {\n",
       "        text-align: right;\n",
       "    }\n",
       "</style>\n",
       "<table border=\"1\" class=\"dataframe\">\n",
       "  <thead>\n",
       "    <tr style=\"text-align: right;\">\n",
       "      <th></th>\n",
       "      <th>title</th>\n",
       "      <th>company</th>\n",
       "      <th>experience_required</th>\n",
       "      <th>location</th>\n",
       "    </tr>\n",
       "  </thead>\n",
       "  <tbody>\n",
       "    <tr>\n",
       "      <th>0</th>\n",
       "      <td>HR Executive and Recruiter</td>\n",
       "      <td>Teleperformance (TP)</td>\n",
       "      <td>0-2 Yrs</td>\n",
       "      <td>Bangalore/Bengaluru, Pune, Ahmedabad, Jaipur, ...</td>\n",
       "    </tr>\n",
       "    <tr>\n",
       "      <th>1</th>\n",
       "      <td>Hiring Opening For SQL server Developer For MN...</td>\n",
       "      <td>TeamLease</td>\n",
       "      <td>8-13 Yrs</td>\n",
       "      <td>Bangalore/Bengaluru, Hyderabad/Secunderabad, P...</td>\n",
       "    </tr>\n",
       "    <tr>\n",
       "      <th>2</th>\n",
       "      <td>Immediate Hiring For .Net Developer CTH role MNC</td>\n",
       "      <td>TeamLease</td>\n",
       "      <td>5-10 Yrs</td>\n",
       "      <td>Bangalore/Bengaluru, Kolkata, Hyderabad/Secund...</td>\n",
       "    </tr>\n",
       "    <tr>\n",
       "      <th>3</th>\n",
       "      <td>EPM (Enterprise Performance Management); Lead ...</td>\n",
       "      <td>Oracle</td>\n",
       "      <td>7-12 Yrs</td>\n",
       "      <td>Bangalore/Bengaluru, Noida, Kolkata, Gandhinag...</td>\n",
       "    </tr>\n",
       "    <tr>\n",
       "      <th>4</th>\n",
       "      <td>Edmcs (Enterprise Data Management); EPM Lead</td>\n",
       "      <td>Oracle</td>\n",
       "      <td>7-12 Yrs</td>\n",
       "      <td>Bangalore/Bengaluru, Noida, Kolkata, Gandhinag...</td>\n",
       "    </tr>\n",
       "    <tr>\n",
       "      <th>5</th>\n",
       "      <td>TRCS (Tax Reporting Cloud Service) EPM Leads/A...</td>\n",
       "      <td>Oracle</td>\n",
       "      <td>8-13 Yrs</td>\n",
       "      <td>Bangalore/Bengaluru, Noida, Kolkata, Mumbai, G...</td>\n",
       "    </tr>\n",
       "    <tr>\n",
       "      <th>6</th>\n",
       "      <td>Analytics and Modeling Analyst</td>\n",
       "      <td>Accenture</td>\n",
       "      <td>3-4 Yrs</td>\n",
       "      <td>Bangalore/Bengaluru, Kolkata, Mumbai, Hyderaba...</td>\n",
       "    </tr>\n",
       "    <tr>\n",
       "      <th>7</th>\n",
       "      <td>Vim Consultant</td>\n",
       "      <td>TATA CONSULTANCY SERVICES (TCS)</td>\n",
       "      <td>5-8 Yrs</td>\n",
       "      <td>Bangalore/Bengaluru, Hyderabad/Secunderabad, P...</td>\n",
       "    </tr>\n",
       "    <tr>\n",
       "      <th>8</th>\n",
       "      <td>SQL(MSBI) Developer</td>\n",
       "      <td>GlobalData</td>\n",
       "      <td>3-8 Yrs</td>\n",
       "      <td>Bangalore/Bengaluru, Kolkata, Hyderabad/Secund...</td>\n",
       "    </tr>\n",
       "    <tr>\n",
       "      <th>9</th>\n",
       "      <td>Openings with HCL- Remote Working - SAP Basis/...</td>\n",
       "      <td>HCL Technologies</td>\n",
       "      <td>5-10 Yrs</td>\n",
       "      <td>Bangalore/Bengaluru, Kolkata, Hyderabad/Secund...</td>\n",
       "    </tr>\n",
       "  </tbody>\n",
       "</table>\n",
       "</div>"
      ],
      "text/plain": [
       "                                               title  \\\n",
       "0                         HR Executive and Recruiter   \n",
       "1  Hiring Opening For SQL server Developer For MN...   \n",
       "2   Immediate Hiring For .Net Developer CTH role MNC   \n",
       "3  EPM (Enterprise Performance Management); Lead ...   \n",
       "4       Edmcs (Enterprise Data Management); EPM Lead   \n",
       "5  TRCS (Tax Reporting Cloud Service) EPM Leads/A...   \n",
       "6                     Analytics and Modeling Analyst   \n",
       "7                                     Vim Consultant   \n",
       "8                                SQL(MSBI) Developer   \n",
       "9  Openings with HCL- Remote Working - SAP Basis/...   \n",
       "\n",
       "                           company experience_required  \\\n",
       "0             Teleperformance (TP)             0-2 Yrs   \n",
       "1                        TeamLease            8-13 Yrs   \n",
       "2                        TeamLease            5-10 Yrs   \n",
       "3                           Oracle            7-12 Yrs   \n",
       "4                           Oracle            7-12 Yrs   \n",
       "5                           Oracle            8-13 Yrs   \n",
       "6                        Accenture             3-4 Yrs   \n",
       "7  TATA CONSULTANCY SERVICES (TCS)             5-8 Yrs   \n",
       "8                       GlobalData             3-8 Yrs   \n",
       "9                 HCL Technologies            5-10 Yrs   \n",
       "\n",
       "                                            location  \n",
       "0  Bangalore/Bengaluru, Pune, Ahmedabad, Jaipur, ...  \n",
       "1  Bangalore/Bengaluru, Hyderabad/Secunderabad, P...  \n",
       "2  Bangalore/Bengaluru, Kolkata, Hyderabad/Secund...  \n",
       "3  Bangalore/Bengaluru, Noida, Kolkata, Gandhinag...  \n",
       "4  Bangalore/Bengaluru, Noida, Kolkata, Gandhinag...  \n",
       "5  Bangalore/Bengaluru, Noida, Kolkata, Mumbai, G...  \n",
       "6  Bangalore/Bengaluru, Kolkata, Mumbai, Hyderaba...  \n",
       "7  Bangalore/Bengaluru, Hyderabad/Secunderabad, P...  \n",
       "8  Bangalore/Bengaluru, Kolkata, Hyderabad/Secund...  \n",
       "9  Bangalore/Bengaluru, Kolkata, Hyderabad/Secund...  "
      ]
     },
     "execution_count": 31,
     "metadata": {},
     "output_type": "execute_result"
    }
   ],
   "source": [
    "jobs"
   ]
  },
  {
   "cell_type": "code",
   "execution_count": 54,
   "id": "fcac6108",
   "metadata": {},
   "outputs": [
    {
     "name": "stdout",
     "output_type": "stream",
     "text": [
      "Requirement already satisfied: selenium in c:\\users\\saranya\\anaconda3\\lib\\site-packages (4.4.3)\n",
      "Requirement already satisfied: trio~=0.17 in c:\\users\\saranya\\anaconda3\\lib\\site-packages (from selenium) (0.21.0)\n",
      "Requirement already satisfied: urllib3[socks]~=1.26 in c:\\users\\saranya\\anaconda3\\lib\\site-packages (from selenium) (1.26.7)\n",
      "Requirement already satisfied: certifi>=2021.10.8 in c:\\users\\saranya\\anaconda3\\lib\\site-packages (from selenium) (2021.10.8)\n",
      "Requirement already satisfied: trio-websocket~=0.9 in c:\\users\\saranya\\anaconda3\\lib\\site-packages (from selenium) (0.9.2)\n",
      "Requirement already satisfied: cffi>=1.14 in c:\\users\\saranya\\anaconda3\\lib\\site-packages (from trio~=0.17->selenium) (1.14.6)\n",
      "Requirement already satisfied: sniffio in c:\\users\\saranya\\anaconda3\\lib\\site-packages (from trio~=0.17->selenium) (1.2.0)\n",
      "Requirement already satisfied: attrs>=19.2.0 in c:\\users\\saranya\\anaconda3\\lib\\site-packages (from trio~=0.17->selenium) (21.2.0)\n",
      "Requirement already satisfied: async-generator>=1.9 in c:\\users\\saranya\\anaconda3\\lib\\site-packages (from trio~=0.17->selenium) (1.10)\n",
      "Requirement already satisfied: outcome in c:\\users\\saranya\\anaconda3\\lib\\site-packages (from trio~=0.17->selenium) (1.2.0)\n",
      "Requirement already satisfied: sortedcontainers in c:\\users\\saranya\\anaconda3\\lib\\site-packages (from trio~=0.17->selenium) (2.4.0)\n",
      "Requirement already satisfied: idna in c:\\users\\saranya\\anaconda3\\lib\\site-packages (from trio~=0.17->selenium) (3.2)\n",
      "Requirement already satisfied: pycparser in c:\\users\\saranya\\anaconda3\\lib\\site-packages (from cffi>=1.14->trio~=0.17->selenium) (2.20)\n",
      "Requirement already satisfied: wsproto>=0.14 in c:\\users\\saranya\\anaconda3\\lib\\site-packages (from trio-websocket~=0.9->selenium) (1.2.0)\n",
      "Requirement already satisfied: PySocks!=1.5.7,<2.0,>=1.5.6 in c:\\users\\saranya\\anaconda3\\lib\\site-packages (from urllib3[socks]~=1.26->selenium) (1.7.1)\n",
      "Requirement already satisfied: h11<1,>=0.9.0 in c:\\users\\saranya\\anaconda3\\lib\\site-packages (from wsproto>=0.14->trio-websocket~=0.9->selenium) (0.13.0)\n"
     ]
    }
   ],
   "source": [
    "! pip3 install selenium"
   ]
  },
  {
   "cell_type": "code",
   "execution_count": 55,
   "id": "47c5ec60",
   "metadata": {},
   "outputs": [],
   "source": [
    "import selenium\n",
    "import pandas as pd\n",
    "from selenium import webdriver\n",
    "from selenium.webdriver.common.by import By\n",
    "import time\n",
    "from selenium.webdriver.chrome.service import Service\n",
    "import warnings\n",
    "warnings.filterwarnings('ignore')"
   ]
  },
  {
   "cell_type": "code",
   "execution_count": 56,
   "id": "4382d5a3",
   "metadata": {},
   "outputs": [
    {
     "data": {
      "text/plain": [
       "<selenium.webdriver.chrome.webdriver.WebDriver (session=\"f444344221cd9a8ef26fcfe18cbd05e7\")>"
      ]
     },
     "execution_count": 56,
     "metadata": {},
     "output_type": "execute_result"
    }
   ],
   "source": [
    "driver = webdriver.Chrome(r\"C:\\\\Users\\\\Saranya\\\\Downloads\\\\chromedriver.exe\")\n",
    "driver"
   ]
  },
  {
   "cell_type": "code",
   "execution_count": 57,
   "id": "1e072eaa",
   "metadata": {},
   "outputs": [],
   "source": [
    "url = \"https://www.naukri.com/\"\n",
    "driver.get(url)"
   ]
  },
  {
   "cell_type": "code",
   "execution_count": 58,
   "id": "b6b829b6",
   "metadata": {},
   "outputs": [
    {
     "data": {
      "text/plain": [
       "<selenium.webdriver.remote.webelement.WebElement (session=\"f444344221cd9a8ef26fcfe18cbd05e7\", element=\"18a6bee9-5154-4dbd-a085-58515454d9fa\")>"
      ]
     },
     "execution_count": 58,
     "metadata": {},
     "output_type": "execute_result"
    }
   ],
   "source": [
    "designation = driver.find_element(By.CLASS_NAME, \"suggestor-input \")\n",
    "designation"
   ]
  },
  {
   "cell_type": "code",
   "execution_count": 59,
   "id": "f69a93e9",
   "metadata": {},
   "outputs": [],
   "source": [
    "designation.send_keys('Data Scientist')"
   ]
  },
  {
   "cell_type": "code",
   "execution_count": 60,
   "id": "a9c85718",
   "metadata": {},
   "outputs": [
    {
     "data": {
      "text/plain": [
       "<selenium.webdriver.remote.webelement.WebElement (session=\"f444344221cd9a8ef26fcfe18cbd05e7\", element=\"18a6bee9-5154-4dbd-a085-58515454d9fa\")>"
      ]
     },
     "execution_count": 60,
     "metadata": {},
     "output_type": "execute_result"
    }
   ],
   "source": [
    "location = driver.find_element(By.CLASS_NAME,\"suggestor-input \")\n",
    "location"
   ]
  },
  {
   "cell_type": "code",
   "execution_count": 61,
   "id": "fd147eb9",
   "metadata": {},
   "outputs": [],
   "source": [
    "location.send_keys('Bangalore')"
   ]
  },
  {
   "cell_type": "code",
   "execution_count": 62,
   "id": "83f6b341",
   "metadata": {},
   "outputs": [
    {
     "data": {
      "text/plain": [
       "<selenium.webdriver.remote.webelement.WebElement (session=\"f444344221cd9a8ef26fcfe18cbd05e7\", element=\"2ba497ec-432c-4d74-9fa2-78d9078f4ebd\")>"
      ]
     },
     "execution_count": 62,
     "metadata": {},
     "output_type": "execute_result"
    }
   ],
   "source": [
    "search_btn= driver.find_element(By.CLASS_NAME,\"qsbSubmit\")\n",
    "search_btn"
   ]
  },
  {
   "cell_type": "code",
   "execution_count": 63,
   "id": "85294b37",
   "metadata": {},
   "outputs": [],
   "source": [
    "search_btn= driver.find_element(By.CLASS_NAME,\"qsbSubmit\")\n",
    "search_btn.click()"
   ]
  },
  {
   "cell_type": "code",
   "execution_count": 66,
   "id": "1cbf10b7",
   "metadata": {},
   "outputs": [
    {
     "data": {
      "text/plain": [
       "[<selenium.webdriver.remote.webelement.WebElement (session=\"f444344221cd9a8ef26fcfe18cbd05e7\", element=\"7bdabf9e-e9cf-4a71-861b-0766473f1825\")>,\n",
       " <selenium.webdriver.remote.webelement.WebElement (session=\"f444344221cd9a8ef26fcfe18cbd05e7\", element=\"027991d5-c571-43fc-bc98-0c03f9f3e712\")>,\n",
       " <selenium.webdriver.remote.webelement.WebElement (session=\"f444344221cd9a8ef26fcfe18cbd05e7\", element=\"23ce8fd1-4c7d-4051-8e0f-15617a007744\")>]"
      ]
     },
     "execution_count": 66,
     "metadata": {},
     "output_type": "execute_result"
    }
   ],
   "source": [
    "Job_title = driver.find_elements(By.XPATH,'//a[@class=\"title fw500 ellipsis\"]')\n",
    "Job_title"
   ]
  },
  {
   "cell_type": "code",
   "execution_count": 67,
   "id": "eb92433e",
   "metadata": {},
   "outputs": [
    {
     "data": {
      "text/plain": [
       "['Data Scientist/AIML Engineer', 'Data Science Intern', 'Data Scientist']"
      ]
     },
     "execution_count": 67,
     "metadata": {},
     "output_type": "execute_result"
    }
   ],
   "source": [
    "job_titles=[]\n",
    "for i in Job_title:\n",
    "    if i.text is None:\n",
    "        job_titles.append('Not')\n",
    "    else:\n",
    "        job_titles.append(i.text)\n",
    "job_titles[:10] "
   ]
  },
  {
   "cell_type": "code",
   "execution_count": 68,
   "id": "7281140d",
   "metadata": {},
   "outputs": [
    {
     "data": {
      "text/plain": [
       "[<selenium.webdriver.remote.webelement.WebElement (session=\"f444344221cd9a8ef26fcfe18cbd05e7\", element=\"a659a2fe-cedb-4098-992f-863e98218dcd\")>,\n",
       " <selenium.webdriver.remote.webelement.WebElement (session=\"f444344221cd9a8ef26fcfe18cbd05e7\", element=\"2a33d35c-47d8-4e40-83b7-affc8f59da4e\")>,\n",
       " <selenium.webdriver.remote.webelement.WebElement (session=\"f444344221cd9a8ef26fcfe18cbd05e7\", element=\"a55075a2-2a26-49b4-8199-28c4d4a8a400\")>]"
      ]
     },
     "execution_count": 68,
     "metadata": {},
     "output_type": "execute_result"
    }
   ],
   "source": [
    "company_tag=driver.find_elements(By.XPATH, \"//a[@class='subTitle ellipsis fleft']\")\n",
    "company_tag"
   ]
  },
  {
   "cell_type": "code",
   "execution_count": 69,
   "id": "0a679444",
   "metadata": {},
   "outputs": [
    {
     "data": {
      "text/plain": [
       "['upGrad', 'Wow Labz', 'Amakshar Technology']"
      ]
     },
     "execution_count": 69,
     "metadata": {},
     "output_type": "execute_result"
    }
   ],
   "source": [
    "companies_names=[]\n",
    "\n",
    "for i in company_tag:\n",
    "    companies_names.append(i.text)\n",
    "companies_names[:10] "
   ]
  },
  {
   "cell_type": "code",
   "execution_count": 70,
   "id": "cbbf5aeb",
   "metadata": {},
   "outputs": [
    {
     "data": {
      "text/plain": [
       "[<selenium.webdriver.remote.webelement.WebElement (session=\"f444344221cd9a8ef26fcfe18cbd05e7\", element=\"6b5069a8-0df0-4770-890b-b8e20a0fa8e8\")>,\n",
       " <selenium.webdriver.remote.webelement.WebElement (session=\"f444344221cd9a8ef26fcfe18cbd05e7\", element=\"66fc1ed6-d810-41c2-974f-edd6504966c5\")>,\n",
       " <selenium.webdriver.remote.webelement.WebElement (session=\"f444344221cd9a8ef26fcfe18cbd05e7\", element=\"57f658cd-6381-4ac0-a7e8-b18a036a8f03\")>]"
      ]
     },
     "execution_count": 70,
     "metadata": {},
     "output_type": "execute_result"
    }
   ],
   "source": [
    "experience_tags=driver.find_elements(By.XPATH,\"//li[@class='fleft grey-text br2 placeHolderLi experience'] //span\")\n",
    "experience_tags"
   ]
  },
  {
   "cell_type": "code",
   "execution_count": 71,
   "id": "083fd7e2",
   "metadata": {},
   "outputs": [
    {
     "data": {
      "text/plain": [
       "['0-2 Yrs', '0-1 Yrs', '0-3 Yrs']"
      ]
     },
     "execution_count": 71,
     "metadata": {},
     "output_type": "execute_result"
    }
   ],
   "source": [
    "experience_list=[]\n",
    "for i in experience_tags:\n",
    "    experience_list.append(i.text)\n",
    "experience_list[:10] "
   ]
  },
  {
   "cell_type": "code",
   "execution_count": 72,
   "id": "af558f85",
   "metadata": {},
   "outputs": [
    {
     "data": {
      "text/plain": [
       "[<selenium.webdriver.remote.webelement.WebElement (session=\"f444344221cd9a8ef26fcfe18cbd05e7\", element=\"cd7e7e80-7bf7-4d76-95aa-3050e1703a4f\")>,\n",
       " <selenium.webdriver.remote.webelement.WebElement (session=\"f444344221cd9a8ef26fcfe18cbd05e7\", element=\"18375e22-ed50-40be-8894-c3a03eaaa924\")>,\n",
       " <selenium.webdriver.remote.webelement.WebElement (session=\"f444344221cd9a8ef26fcfe18cbd05e7\", element=\"f9831bad-e67f-4cb7-8880-11904c0e8ab3\")>]"
      ]
     },
     "execution_count": 72,
     "metadata": {},
     "output_type": "execute_result"
    }
   ],
   "source": [
    "locations_tags=driver.find_elements(By.XPATH, \"//li[@class='fleft grey-text br2 placeHolderLi location']/span\")\n",
    "locations_tags"
   ]
  },
  {
   "cell_type": "code",
   "execution_count": 73,
   "id": "ec07f9dc",
   "metadata": {},
   "outputs": [
    {
     "data": {
      "text/plain": [
       "['Bangalore/Bengaluru, Mumbai, Hyderabad/Secunderabad',\n",
       " 'Bangalore/Bengaluru',\n",
       " 'Bangalore/Bengaluru, Chennai']"
      ]
     },
     "execution_count": 73,
     "metadata": {},
     "output_type": "execute_result"
    }
   ],
   "source": [
    "locations_list=[]\n",
    "for i in locations_tags:\n",
    "    locations_list.append(i.text)\n",
    "locations_list[:10] "
   ]
  },
  {
   "cell_type": "code",
   "execution_count": 74,
   "id": "9df1446e",
   "metadata": {},
   "outputs": [
    {
     "name": "stdout",
     "output_type": "stream",
     "text": [
      "3\n",
      "3\n",
      "3\n",
      "3\n"
     ]
    },
    {
     "data": {
      "text/plain": [
       "(None, None, None, None)"
      ]
     },
     "execution_count": 74,
     "metadata": {},
     "output_type": "execute_result"
    }
   ],
   "source": [
    "print(len(job_titles[:10])),print(len(companies_names[:10])),print(len(experience_list[:10])),print(len(locations_list[:10])) "
   ]
  },
  {
   "cell_type": "code",
   "execution_count": 75,
   "id": "8ddb58c4",
   "metadata": {},
   "outputs": [],
   "source": [
    "jobs=pd.DataFrame({})\n",
    "jobs['title']=job_titles[:10]\n",
    "jobs['company']=companies_names[:10]\n",
    "jobs['experience_required']=experience_list[:10]\n",
    "jobs['location']=locations_list[:10]"
   ]
  },
  {
   "cell_type": "code",
   "execution_count": 76,
   "id": "41dd6603",
   "metadata": {},
   "outputs": [
    {
     "data": {
      "text/html": [
       "<div>\n",
       "<style scoped>\n",
       "    .dataframe tbody tr th:only-of-type {\n",
       "        vertical-align: middle;\n",
       "    }\n",
       "\n",
       "    .dataframe tbody tr th {\n",
       "        vertical-align: top;\n",
       "    }\n",
       "\n",
       "    .dataframe thead th {\n",
       "        text-align: right;\n",
       "    }\n",
       "</style>\n",
       "<table border=\"1\" class=\"dataframe\">\n",
       "  <thead>\n",
       "    <tr style=\"text-align: right;\">\n",
       "      <th></th>\n",
       "      <th>title</th>\n",
       "      <th>company</th>\n",
       "      <th>experience_required</th>\n",
       "      <th>location</th>\n",
       "    </tr>\n",
       "  </thead>\n",
       "  <tbody>\n",
       "    <tr>\n",
       "      <th>0</th>\n",
       "      <td>Data Scientist/AIML Engineer</td>\n",
       "      <td>upGrad</td>\n",
       "      <td>0-2 Yrs</td>\n",
       "      <td>Bangalore/Bengaluru, Mumbai, Hyderabad/Secunde...</td>\n",
       "    </tr>\n",
       "    <tr>\n",
       "      <th>1</th>\n",
       "      <td>Data Science Intern</td>\n",
       "      <td>Wow Labz</td>\n",
       "      <td>0-1 Yrs</td>\n",
       "      <td>Bangalore/Bengaluru</td>\n",
       "    </tr>\n",
       "    <tr>\n",
       "      <th>2</th>\n",
       "      <td>Data Scientist</td>\n",
       "      <td>Amakshar Technology</td>\n",
       "      <td>0-3 Yrs</td>\n",
       "      <td>Bangalore/Bengaluru, Chennai</td>\n",
       "    </tr>\n",
       "  </tbody>\n",
       "</table>\n",
       "</div>"
      ],
      "text/plain": [
       "                          title              company experience_required  \\\n",
       "0  Data Scientist/AIML Engineer               upGrad             0-2 Yrs   \n",
       "1           Data Science Intern             Wow Labz             0-1 Yrs   \n",
       "2                Data Scientist  Amakshar Technology             0-3 Yrs   \n",
       "\n",
       "                                            location  \n",
       "0  Bangalore/Bengaluru, Mumbai, Hyderabad/Secunde...  \n",
       "1                                Bangalore/Bengaluru  \n",
       "2                       Bangalore/Bengaluru, Chennai  "
      ]
     },
     "execution_count": 76,
     "metadata": {},
     "output_type": "execute_result"
    }
   ],
   "source": [
    "jobs"
   ]
  },
  {
   "cell_type": "code",
   "execution_count": 103,
   "id": "73f339ef",
   "metadata": {},
   "outputs": [
    {
     "name": "stdout",
     "output_type": "stream",
     "text": [
      "Requirement already satisfied: selenium in c:\\users\\saranya\\anaconda3\\lib\\site-packages (4.4.3)\n",
      "Requirement already satisfied: trio~=0.17 in c:\\users\\saranya\\anaconda3\\lib\\site-packages (from selenium) (0.21.0)\n",
      "Requirement already satisfied: certifi>=2021.10.8 in c:\\users\\saranya\\anaconda3\\lib\\site-packages (from selenium) (2021.10.8)\n",
      "Requirement already satisfied: trio-websocket~=0.9 in c:\\users\\saranya\\anaconda3\\lib\\site-packages (from selenium) (0.9.2)\n",
      "Requirement already satisfied: urllib3[socks]~=1.26 in c:\\users\\saranya\\anaconda3\\lib\\site-packages (from selenium) (1.26.7)\n",
      "Requirement already satisfied: async-generator>=1.9 in c:\\users\\saranya\\anaconda3\\lib\\site-packages (from trio~=0.17->selenium) (1.10)\n",
      "Requirement already satisfied: idna in c:\\users\\saranya\\anaconda3\\lib\\site-packages (from trio~=0.17->selenium) (3.2)\n",
      "Requirement already satisfied: outcome in c:\\users\\saranya\\anaconda3\\lib\\site-packages (from trio~=0.17->selenium) (1.2.0)\n",
      "Requirement already satisfied: sniffio in c:\\users\\saranya\\anaconda3\\lib\\site-packages (from trio~=0.17->selenium) (1.2.0)\n",
      "Requirement already satisfied: sortedcontainers in c:\\users\\saranya\\anaconda3\\lib\\site-packages (from trio~=0.17->selenium) (2.4.0)\n",
      "Requirement already satisfied: cffi>=1.14 in c:\\users\\saranya\\anaconda3\\lib\\site-packages (from trio~=0.17->selenium) (1.14.6)\n",
      "Requirement already satisfied: attrs>=19.2.0 in c:\\users\\saranya\\anaconda3\\lib\\site-packages (from trio~=0.17->selenium) (21.2.0)\n",
      "Requirement already satisfied: pycparser in c:\\users\\saranya\\anaconda3\\lib\\site-packages (from cffi>=1.14->trio~=0.17->selenium) (2.20)\n",
      "Requirement already satisfied: wsproto>=0.14 in c:\\users\\saranya\\anaconda3\\lib\\site-packages (from trio-websocket~=0.9->selenium) (1.2.0)\n",
      "Requirement already satisfied: PySocks!=1.5.7,<2.0,>=1.5.6 in c:\\users\\saranya\\anaconda3\\lib\\site-packages (from urllib3[socks]~=1.26->selenium) (1.7.1)\n",
      "Requirement already satisfied: h11<1,>=0.9.0 in c:\\users\\saranya\\anaconda3\\lib\\site-packages (from wsproto>=0.14->trio-websocket~=0.9->selenium) (0.13.0)\n"
     ]
    }
   ],
   "source": [
    "! pip3 install selenium"
   ]
  },
  {
   "cell_type": "code",
   "execution_count": 104,
   "id": "0b34906e",
   "metadata": {},
   "outputs": [],
   "source": [
    "import selenium\n",
    "import pandas as pd\n",
    "from selenium import webdriver\n",
    "from selenium.webdriver.common.by import By\n",
    "import time\n",
    "from selenium.webdriver.chrome.service import Service\n",
    "import warnings\n",
    "warnings.filterwarnings('ignore')"
   ]
  },
  {
   "cell_type": "code",
   "execution_count": 105,
   "id": "c52bd80c",
   "metadata": {},
   "outputs": [
    {
     "data": {
      "text/plain": [
       "<selenium.webdriver.chrome.webdriver.WebDriver (session=\"56402241ed625c6faa1b32617af7e31f\")>"
      ]
     },
     "execution_count": 105,
     "metadata": {},
     "output_type": "execute_result"
    }
   ],
   "source": [
    "driver = webdriver.Chrome(r\"C:\\\\Users\\\\Saranya\\\\Downloads\\\\chromedriver.exe\")\n",
    "driver"
   ]
  },
  {
   "cell_type": "code",
   "execution_count": 106,
   "id": "20fceb56",
   "metadata": {},
   "outputs": [],
   "source": [
    "url = \"https://www.naukri.com\"\n",
    "driver.get(url)"
   ]
  },
  {
   "cell_type": "code",
   "execution_count": 107,
   "id": "d8b0012a",
   "metadata": {},
   "outputs": [
    {
     "data": {
      "text/plain": [
       "<selenium.webdriver.remote.webelement.WebElement (session=\"56402241ed625c6faa1b32617af7e31f\", element=\"cb0fcc01-b3b2-4fa3-b3bc-19fd768d5fb3\")>"
      ]
     },
     "execution_count": 107,
     "metadata": {},
     "output_type": "execute_result"
    }
   ],
   "source": [
    "designation = driver.find_element(By.CLASS_NAME, \"suggestor-input \")\n",
    "designation"
   ]
  },
  {
   "cell_type": "code",
   "execution_count": 108,
   "id": "f7bdec7b",
   "metadata": {},
   "outputs": [],
   "source": [
    "designation.send_keys('Data Scientist')"
   ]
  },
  {
   "cell_type": "code",
   "execution_count": 109,
   "id": "2e62cb38",
   "metadata": {},
   "outputs": [
    {
     "data": {
      "text/plain": [
       "<selenium.webdriver.remote.webelement.WebElement (session=\"56402241ed625c6faa1b32617af7e31f\", element=\"cff761e0-0fd9-4c85-89c0-a7ffe7f976b7\")>"
      ]
     },
     "execution_count": 109,
     "metadata": {},
     "output_type": "execute_result"
    }
   ],
   "source": [
    "search_btn= driver.find_element(By.CLASS_NAME,\"qsbSubmit\")\n",
    "search_btn"
   ]
  },
  {
   "cell_type": "code",
   "execution_count": 110,
   "id": "bf5f0858",
   "metadata": {},
   "outputs": [],
   "source": [
    "search_btn= driver.find_element(By.CLASS_NAME,\"qsbSubmit\")\n",
    "search_btn.click()"
   ]
  },
  {
   "cell_type": "code",
   "execution_count": 111,
   "id": "a6391b41",
   "metadata": {},
   "outputs": [
    {
     "data": {
      "text/plain": [
       "[<selenium.webdriver.remote.webelement.WebElement (session=\"56402241ed625c6faa1b32617af7e31f\", element=\"1dddeedd-dd0e-425c-975f-8f718fcf9bd7\")>,\n",
       " <selenium.webdriver.remote.webelement.WebElement (session=\"56402241ed625c6faa1b32617af7e31f\", element=\"bb3a10fc-c3f5-43be-ae11-c0cc3339934f\")>,\n",
       " <selenium.webdriver.remote.webelement.WebElement (session=\"56402241ed625c6faa1b32617af7e31f\", element=\"1b1a8691-fa41-4813-b4cd-c7fe4a3dc131\")>,\n",
       " <selenium.webdriver.remote.webelement.WebElement (session=\"56402241ed625c6faa1b32617af7e31f\", element=\"30e66a48-896f-4c79-9d31-865f6e9394fa\")>,\n",
       " <selenium.webdriver.remote.webelement.WebElement (session=\"56402241ed625c6faa1b32617af7e31f\", element=\"ecbc40f8-e59f-4ed6-9117-c7a7bc13ddc2\")>,\n",
       " <selenium.webdriver.remote.webelement.WebElement (session=\"56402241ed625c6faa1b32617af7e31f\", element=\"65e97d41-ff82-469c-b276-c5552e2b0432\")>,\n",
       " <selenium.webdriver.remote.webelement.WebElement (session=\"56402241ed625c6faa1b32617af7e31f\", element=\"42d8c0da-ed56-45e1-ad25-2d9dca81a495\")>,\n",
       " <selenium.webdriver.remote.webelement.WebElement (session=\"56402241ed625c6faa1b32617af7e31f\", element=\"b879c2b2-4916-416c-a6bf-8a9ec968455c\")>,\n",
       " <selenium.webdriver.remote.webelement.WebElement (session=\"56402241ed625c6faa1b32617af7e31f\", element=\"63d7cccb-a016-4048-a808-21eaa1b55aae\")>,\n",
       " <selenium.webdriver.remote.webelement.WebElement (session=\"56402241ed625c6faa1b32617af7e31f\", element=\"f02dd594-8588-43ee-a58c-33f7e1fc8a6d\")>,\n",
       " <selenium.webdriver.remote.webelement.WebElement (session=\"56402241ed625c6faa1b32617af7e31f\", element=\"65eb86c8-f6e3-45be-8078-7b0fea785ea2\")>,\n",
       " <selenium.webdriver.remote.webelement.WebElement (session=\"56402241ed625c6faa1b32617af7e31f\", element=\"39beb58b-f06d-4df4-9114-e72c1589bdd7\")>,\n",
       " <selenium.webdriver.remote.webelement.WebElement (session=\"56402241ed625c6faa1b32617af7e31f\", element=\"86da89c7-befe-4d40-b979-7989d3dbd04c\")>,\n",
       " <selenium.webdriver.remote.webelement.WebElement (session=\"56402241ed625c6faa1b32617af7e31f\", element=\"2840aa17-567b-4cf6-8566-e348540e453e\")>,\n",
       " <selenium.webdriver.remote.webelement.WebElement (session=\"56402241ed625c6faa1b32617af7e31f\", element=\"927c3568-2693-497f-9b05-94808bf6253a\")>,\n",
       " <selenium.webdriver.remote.webelement.WebElement (session=\"56402241ed625c6faa1b32617af7e31f\", element=\"1703df08-d92c-4786-8ea3-3ecb1cadf920\")>,\n",
       " <selenium.webdriver.remote.webelement.WebElement (session=\"56402241ed625c6faa1b32617af7e31f\", element=\"8d8407b4-cbf1-498f-82d5-75789aa364f2\")>,\n",
       " <selenium.webdriver.remote.webelement.WebElement (session=\"56402241ed625c6faa1b32617af7e31f\", element=\"035db434-5f65-4274-952a-0f3aa5be6411\")>,\n",
       " <selenium.webdriver.remote.webelement.WebElement (session=\"56402241ed625c6faa1b32617af7e31f\", element=\"e3dc1c0c-4d8f-4063-94cd-e25aa8559bac\")>]"
      ]
     },
     "execution_count": 111,
     "metadata": {},
     "output_type": "execute_result"
    }
   ],
   "source": [
    "Job_title = driver.find_elements(By.XPATH,'//a[@class=\"title fw500 ellipsis\"]')\n",
    "Job_title"
   ]
  },
  {
   "cell_type": "code",
   "execution_count": 112,
   "id": "9ea53f45",
   "metadata": {},
   "outputs": [
    {
     "data": {
      "text/plain": [
       "['Job Opportunity on Data Science_ Python with Techmahindra',\n",
       " 'Assistant Manager - Data Science',\n",
       " 'Analystics & Modeling Specialist',\n",
       " 'Hiring For DATA Scientist @ NTT DATA Business Solution India',\n",
       " 'ACN - Applied Intelligence - C4DI - Sustainability - 09',\n",
       " 'Data Scientist/AIML Engineer',\n",
       " 'Lead ML Scientist',\n",
       " 'Tcs Hiring For Data Scientist',\n",
       " 'Data Scientist - II',\n",
       " 'Data Scientist - A.P. Maersk']"
      ]
     },
     "execution_count": 112,
     "metadata": {},
     "output_type": "execute_result"
    }
   ],
   "source": [
    "job_titles=[]\n",
    "for i in Job_title:\n",
    "    if i.text is None:\n",
    "        job_titles.append('Not')\n",
    "    else:\n",
    "        job_titles.append(i.text)\n",
    "job_titles[:10] "
   ]
  },
  {
   "cell_type": "code",
   "execution_count": 113,
   "id": "03b6f0c8",
   "metadata": {},
   "outputs": [
    {
     "data": {
      "text/plain": [
       "[<selenium.webdriver.remote.webelement.WebElement (session=\"56402241ed625c6faa1b32617af7e31f\", element=\"1cb93d80-4c33-4687-ab8a-6eb09e62c6d6\")>,\n",
       " <selenium.webdriver.remote.webelement.WebElement (session=\"56402241ed625c6faa1b32617af7e31f\", element=\"70960fdb-9a22-467e-8d3f-053399d57f6c\")>,\n",
       " <selenium.webdriver.remote.webelement.WebElement (session=\"56402241ed625c6faa1b32617af7e31f\", element=\"d4c3923f-0d84-4408-9cb7-477300f3a360\")>,\n",
       " <selenium.webdriver.remote.webelement.WebElement (session=\"56402241ed625c6faa1b32617af7e31f\", element=\"36773e1f-9951-4c37-9ac6-1d20bce0caca\")>,\n",
       " <selenium.webdriver.remote.webelement.WebElement (session=\"56402241ed625c6faa1b32617af7e31f\", element=\"f39de5fd-5e9b-4271-b985-67b09d25db38\")>,\n",
       " <selenium.webdriver.remote.webelement.WebElement (session=\"56402241ed625c6faa1b32617af7e31f\", element=\"42630ad1-c5bf-4be0-a0bf-f663adf99e16\")>,\n",
       " <selenium.webdriver.remote.webelement.WebElement (session=\"56402241ed625c6faa1b32617af7e31f\", element=\"26221e21-9224-428f-b33d-a9fbe5914aec\")>,\n",
       " <selenium.webdriver.remote.webelement.WebElement (session=\"56402241ed625c6faa1b32617af7e31f\", element=\"d277c502-c5d8-40ac-8cba-06104f0cac77\")>,\n",
       " <selenium.webdriver.remote.webelement.WebElement (session=\"56402241ed625c6faa1b32617af7e31f\", element=\"d1f2e480-b514-4f0d-8eaa-e25b46c4e5c2\")>,\n",
       " <selenium.webdriver.remote.webelement.WebElement (session=\"56402241ed625c6faa1b32617af7e31f\", element=\"e65fd932-cf68-4251-ba3a-8a09786c2324\")>,\n",
       " <selenium.webdriver.remote.webelement.WebElement (session=\"56402241ed625c6faa1b32617af7e31f\", element=\"98d0bb39-f7aa-4b07-9c66-b8a920493709\")>,\n",
       " <selenium.webdriver.remote.webelement.WebElement (session=\"56402241ed625c6faa1b32617af7e31f\", element=\"965527a5-90fc-4652-a57e-504bf416a7f8\")>,\n",
       " <selenium.webdriver.remote.webelement.WebElement (session=\"56402241ed625c6faa1b32617af7e31f\", element=\"34bc23d3-d0e2-4960-8ff9-be89ff056635\")>,\n",
       " <selenium.webdriver.remote.webelement.WebElement (session=\"56402241ed625c6faa1b32617af7e31f\", element=\"047652c6-c29a-4f11-85fd-abcededd73c4\")>,\n",
       " <selenium.webdriver.remote.webelement.WebElement (session=\"56402241ed625c6faa1b32617af7e31f\", element=\"77871c5f-3271-4ea5-b554-de35973e1902\")>,\n",
       " <selenium.webdriver.remote.webelement.WebElement (session=\"56402241ed625c6faa1b32617af7e31f\", element=\"bb7104c3-0079-4041-ac4a-73f144a581d3\")>,\n",
       " <selenium.webdriver.remote.webelement.WebElement (session=\"56402241ed625c6faa1b32617af7e31f\", element=\"144df6bb-ac24-444e-a4ae-edcadfb9a744\")>,\n",
       " <selenium.webdriver.remote.webelement.WebElement (session=\"56402241ed625c6faa1b32617af7e31f\", element=\"65bf88bf-6bcf-43d3-b915-b53c24180e5e\")>,\n",
       " <selenium.webdriver.remote.webelement.WebElement (session=\"56402241ed625c6faa1b32617af7e31f\", element=\"cd252616-ef7c-4278-af1e-af6823bc59c2\")>]"
      ]
     },
     "execution_count": 113,
     "metadata": {},
     "output_type": "execute_result"
    }
   ],
   "source": [
    "company_tag=driver.find_elements(By.XPATH, \"//a[@class='subTitle ellipsis fleft']\")\n",
    "company_tag"
   ]
  },
  {
   "cell_type": "code",
   "execution_count": 114,
   "id": "b1d750d3",
   "metadata": {},
   "outputs": [
    {
     "data": {
      "text/plain": [
       "['Tech Mahindra',\n",
       " 'CitiusTech',\n",
       " 'Accenture',\n",
       " 'NTT DATA Business Solutions Private Limited',\n",
       " 'Accenture',\n",
       " 'upGrad',\n",
       " 'Fractal Analytics',\n",
       " 'TATA CONSULTANCY SERVICES (TCS)',\n",
       " 'SMARTPADDLE TECHNOLOGY PVT. LTD.',\n",
       " 'Maersk']"
      ]
     },
     "execution_count": 114,
     "metadata": {},
     "output_type": "execute_result"
    }
   ],
   "source": [
    "companies_names=[]\n",
    "\n",
    "for i in company_tag:\n",
    "    companies_names.append(i.text)\n",
    "companies_names[:10]"
   ]
  },
  {
   "cell_type": "code",
   "execution_count": 117,
   "id": "999fc5ae",
   "metadata": {},
   "outputs": [
    {
     "data": {
      "text/plain": [
       "[<selenium.webdriver.remote.webelement.WebElement (session=\"56402241ed625c6faa1b32617af7e31f\", element=\"db690cbc-efbe-4bfc-aa43-6a373d1fe639\")>,\n",
       " <selenium.webdriver.remote.webelement.WebElement (session=\"56402241ed625c6faa1b32617af7e31f\", element=\"76304f19-8034-4aec-b87d-64cdc390deed\")>,\n",
       " <selenium.webdriver.remote.webelement.WebElement (session=\"56402241ed625c6faa1b32617af7e31f\", element=\"b17a523c-0c79-4436-898a-0db89460bd25\")>,\n",
       " <selenium.webdriver.remote.webelement.WebElement (session=\"56402241ed625c6faa1b32617af7e31f\", element=\"e0b2701f-3a2c-4f67-a60f-f373cb8bfa29\")>,\n",
       " <selenium.webdriver.remote.webelement.WebElement (session=\"56402241ed625c6faa1b32617af7e31f\", element=\"85b78356-835d-4228-a617-b8b428a53a48\")>,\n",
       " <selenium.webdriver.remote.webelement.WebElement (session=\"56402241ed625c6faa1b32617af7e31f\", element=\"c97250f1-c243-4220-83ad-fd59a021f847\")>,\n",
       " <selenium.webdriver.remote.webelement.WebElement (session=\"56402241ed625c6faa1b32617af7e31f\", element=\"7f05329a-7462-4e91-a4f5-45606ac48048\")>,\n",
       " <selenium.webdriver.remote.webelement.WebElement (session=\"56402241ed625c6faa1b32617af7e31f\", element=\"c14d75ec-4179-4611-a8aa-3ac5fdaa286a\")>,\n",
       " <selenium.webdriver.remote.webelement.WebElement (session=\"56402241ed625c6faa1b32617af7e31f\", element=\"bc8df0f5-75f8-4d33-af96-54af0f07d65e\")>,\n",
       " <selenium.webdriver.remote.webelement.WebElement (session=\"56402241ed625c6faa1b32617af7e31f\", element=\"e948bc5a-8f17-4e88-a707-e453c1187f95\")>,\n",
       " <selenium.webdriver.remote.webelement.WebElement (session=\"56402241ed625c6faa1b32617af7e31f\", element=\"c5666398-f5ce-4b01-9f88-15c6782cf142\")>,\n",
       " <selenium.webdriver.remote.webelement.WebElement (session=\"56402241ed625c6faa1b32617af7e31f\", element=\"2efabd64-e98a-4a12-88af-7472476d4912\")>,\n",
       " <selenium.webdriver.remote.webelement.WebElement (session=\"56402241ed625c6faa1b32617af7e31f\", element=\"3175edb2-83c0-449e-901c-e1457230d057\")>,\n",
       " <selenium.webdriver.remote.webelement.WebElement (session=\"56402241ed625c6faa1b32617af7e31f\", element=\"e5bf98ae-0868-4a9b-90ea-d7492f209f1d\")>,\n",
       " <selenium.webdriver.remote.webelement.WebElement (session=\"56402241ed625c6faa1b32617af7e31f\", element=\"fc0676d8-c9f7-49f1-8e46-8f4db6b4b2e5\")>,\n",
       " <selenium.webdriver.remote.webelement.WebElement (session=\"56402241ed625c6faa1b32617af7e31f\", element=\"161c3184-59cb-4da9-a695-cbf4ab4f60fe\")>,\n",
       " <selenium.webdriver.remote.webelement.WebElement (session=\"56402241ed625c6faa1b32617af7e31f\", element=\"eceda219-5d0c-4e6c-afd0-4f24e7cea43b\")>,\n",
       " <selenium.webdriver.remote.webelement.WebElement (session=\"56402241ed625c6faa1b32617af7e31f\", element=\"7da49b87-2141-40cf-a758-defbb40d8ad8\")>,\n",
       " <selenium.webdriver.remote.webelement.WebElement (session=\"56402241ed625c6faa1b32617af7e31f\", element=\"fd77bc41-ed7f-490f-b28c-348d03c8d57f\")>]"
      ]
     },
     "execution_count": 117,
     "metadata": {},
     "output_type": "execute_result"
    }
   ],
   "source": [
    "experience_tags=driver.find_elements(By.XPATH,\"//li[@class='fleft grey-text br2 placeHolderLi experience'] //span\")\n",
    "experience_tags"
   ]
  },
  {
   "cell_type": "code",
   "execution_count": 118,
   "id": "edbdc394",
   "metadata": {},
   "outputs": [
    {
     "data": {
      "text/plain": [
       "['4-9 Yrs',\n",
       " '5-9 Yrs',\n",
       " '6-8 Yrs',\n",
       " '4-9 Yrs',\n",
       " '4-6 Yrs',\n",
       " '0-2 Yrs',\n",
       " '6-10 Yrs',\n",
       " '3-8 Yrs',\n",
       " '3-6 Yrs',\n",
       " '5-10 Yrs']"
      ]
     },
     "execution_count": 118,
     "metadata": {},
     "output_type": "execute_result"
    }
   ],
   "source": [
    "experience_list=[]\n",
    "for i in experience_tags:\n",
    "    experience_list.append(i.text)\n",
    "experience_list[:10] "
   ]
  },
  {
   "cell_type": "code",
   "execution_count": 119,
   "id": "93a83e9d",
   "metadata": {},
   "outputs": [
    {
     "data": {
      "text/plain": [
       "[<selenium.webdriver.remote.webelement.WebElement (session=\"56402241ed625c6faa1b32617af7e31f\", element=\"88a6bc78-21ad-412c-aa4a-5c2adb60582d\")>,\n",
       " <selenium.webdriver.remote.webelement.WebElement (session=\"56402241ed625c6faa1b32617af7e31f\", element=\"a90a7005-0679-4904-822c-ac23355402c9\")>,\n",
       " <selenium.webdriver.remote.webelement.WebElement (session=\"56402241ed625c6faa1b32617af7e31f\", element=\"fe4d401e-655c-42fa-8eee-062aaa18cc5e\")>,\n",
       " <selenium.webdriver.remote.webelement.WebElement (session=\"56402241ed625c6faa1b32617af7e31f\", element=\"9c31a394-1013-40ed-9c31-e74ebecacfe0\")>,\n",
       " <selenium.webdriver.remote.webelement.WebElement (session=\"56402241ed625c6faa1b32617af7e31f\", element=\"b18aae14-ec72-4b5f-a6c1-31c47d08551c\")>,\n",
       " <selenium.webdriver.remote.webelement.WebElement (session=\"56402241ed625c6faa1b32617af7e31f\", element=\"dd0e7be3-0ad1-4dbb-aa1c-158bd33ef63f\")>,\n",
       " <selenium.webdriver.remote.webelement.WebElement (session=\"56402241ed625c6faa1b32617af7e31f\", element=\"d57dd1cf-b4a6-40eb-b00b-a46a5011575b\")>,\n",
       " <selenium.webdriver.remote.webelement.WebElement (session=\"56402241ed625c6faa1b32617af7e31f\", element=\"9a57c32e-afe7-4d71-a428-07dc70c72289\")>,\n",
       " <selenium.webdriver.remote.webelement.WebElement (session=\"56402241ed625c6faa1b32617af7e31f\", element=\"21e55ace-4c44-4dd3-bef3-43fd01aab33b\")>,\n",
       " <selenium.webdriver.remote.webelement.WebElement (session=\"56402241ed625c6faa1b32617af7e31f\", element=\"5141defb-195d-4cc6-94b4-ebf86e5f2b33\")>,\n",
       " <selenium.webdriver.remote.webelement.WebElement (session=\"56402241ed625c6faa1b32617af7e31f\", element=\"55242862-24da-4521-bfc1-8b9efc80463f\")>,\n",
       " <selenium.webdriver.remote.webelement.WebElement (session=\"56402241ed625c6faa1b32617af7e31f\", element=\"ae9fcb8e-34fa-4c87-bc06-bd1b35ebb9a6\")>,\n",
       " <selenium.webdriver.remote.webelement.WebElement (session=\"56402241ed625c6faa1b32617af7e31f\", element=\"6761d842-dbb4-4fd0-8249-6ed968626d53\")>,\n",
       " <selenium.webdriver.remote.webelement.WebElement (session=\"56402241ed625c6faa1b32617af7e31f\", element=\"dc555475-9788-41aa-b878-f5aa63fb35ee\")>,\n",
       " <selenium.webdriver.remote.webelement.WebElement (session=\"56402241ed625c6faa1b32617af7e31f\", element=\"c54944f6-78f3-41d9-88d6-75b8b2ad7ed0\")>,\n",
       " <selenium.webdriver.remote.webelement.WebElement (session=\"56402241ed625c6faa1b32617af7e31f\", element=\"5a74aba2-f950-46af-a318-6d8ac84f5c6b\")>,\n",
       " <selenium.webdriver.remote.webelement.WebElement (session=\"56402241ed625c6faa1b32617af7e31f\", element=\"653d4927-c0d1-46da-abcd-4f10b7a1cf37\")>,\n",
       " <selenium.webdriver.remote.webelement.WebElement (session=\"56402241ed625c6faa1b32617af7e31f\", element=\"fbe5f9c3-a4be-4c06-b6fb-8bc6000e0f0f\")>,\n",
       " <selenium.webdriver.remote.webelement.WebElement (session=\"56402241ed625c6faa1b32617af7e31f\", element=\"ed7c69e5-6d51-4e8c-9f9e-72f3edf83fca\")>,\n",
       " <selenium.webdriver.remote.webelement.WebElement (session=\"56402241ed625c6faa1b32617af7e31f\", element=\"c3c577ab-5366-4d17-802d-f38077419ec6\")>]"
      ]
     },
     "execution_count": 119,
     "metadata": {},
     "output_type": "execute_result"
    }
   ],
   "source": [
    "locations_tags=driver.find_elements(By.XPATH, \"//li[@class='fleft grey-text br2 placeHolderLi location']/span\")\n",
    "locations_tags"
   ]
  },
  {
   "cell_type": "code",
   "execution_count": 120,
   "id": "7e029b9c",
   "metadata": {},
   "outputs": [
    {
     "data": {
      "text/plain": [
       "['Kolkata, Hyderabad/Secunderabad, Pune, Chennai, Bangalore/Bengaluru, Delhi / NCR, Mumbai (All Areas)',\n",
       " 'Mumbai, Pune, Bangalore/Bengaluru',\n",
       " 'Kolkata, Mumbai, Hyderabad/Secunderabad, Pune, Chennai, Bangalore/Bengaluru, delhi ncr',\n",
       " 'Noida, Hyderabad/Secunderabad, Pune, Gurgaon/Gurugram, Chennai, Bangalore/Bengaluru, Mumbai (All Areas)',\n",
       " 'Bangalore/Bengaluru',\n",
       " 'Mumbai, Hyderabad/Secunderabad, Bangalore/Bengaluru',\n",
       " 'Mumbai, Bangalore/Bengaluru',\n",
       " 'Chennai, Bangalore/Bengaluru, Mumbai (All Areas)',\n",
       " 'India, Bangalore/Bengaluru, Mumbai (All Areas)',\n",
       " 'Bangalore/Bengaluru']"
      ]
     },
     "execution_count": 120,
     "metadata": {},
     "output_type": "execute_result"
    }
   ],
   "source": [
    "locations_list=[]\n",
    "for i in locations_tags:\n",
    "    locations_list.append(i.text)\n",
    "locations_list[:10] "
   ]
  },
  {
   "cell_type": "code",
   "execution_count": 121,
   "id": "6801db71",
   "metadata": {},
   "outputs": [
    {
     "name": "stdout",
     "output_type": "stream",
     "text": [
      "10\n",
      "10\n",
      "10\n",
      "10\n"
     ]
    },
    {
     "data": {
      "text/plain": [
       "(None, None, None, None)"
      ]
     },
     "execution_count": 121,
     "metadata": {},
     "output_type": "execute_result"
    }
   ],
   "source": [
    "print(len(job_titles[:10])),print(len(companies_names[:10])),print(len(experience_list[:10])),print(len(locations_list[:10])) "
   ]
  },
  {
   "cell_type": "code",
   "execution_count": 122,
   "id": "fa4772cf",
   "metadata": {},
   "outputs": [],
   "source": [
    "jobs=pd.DataFrame({})\n",
    "jobs['title']=job_titles[:10]\n",
    "jobs['company']=companies_names[:10]\n",
    "jobs['experience_required']=experience_list[:10]\n",
    "jobs['location']=locations_list[:10]"
   ]
  },
  {
   "cell_type": "code",
   "execution_count": 123,
   "id": "d80e3a20",
   "metadata": {},
   "outputs": [
    {
     "data": {
      "text/html": [
       "<div>\n",
       "<style scoped>\n",
       "    .dataframe tbody tr th:only-of-type {\n",
       "        vertical-align: middle;\n",
       "    }\n",
       "\n",
       "    .dataframe tbody tr th {\n",
       "        vertical-align: top;\n",
       "    }\n",
       "\n",
       "    .dataframe thead th {\n",
       "        text-align: right;\n",
       "    }\n",
       "</style>\n",
       "<table border=\"1\" class=\"dataframe\">\n",
       "  <thead>\n",
       "    <tr style=\"text-align: right;\">\n",
       "      <th></th>\n",
       "      <th>title</th>\n",
       "      <th>company</th>\n",
       "      <th>experience_required</th>\n",
       "      <th>location</th>\n",
       "    </tr>\n",
       "  </thead>\n",
       "  <tbody>\n",
       "    <tr>\n",
       "      <th>0</th>\n",
       "      <td>Job Opportunity on Data Science_ Python with T...</td>\n",
       "      <td>Tech Mahindra</td>\n",
       "      <td>4-9 Yrs</td>\n",
       "      <td>Kolkata, Hyderabad/Secunderabad, Pune, Chennai...</td>\n",
       "    </tr>\n",
       "    <tr>\n",
       "      <th>1</th>\n",
       "      <td>Assistant Manager - Data Science</td>\n",
       "      <td>CitiusTech</td>\n",
       "      <td>5-9 Yrs</td>\n",
       "      <td>Mumbai, Pune, Bangalore/Bengaluru</td>\n",
       "    </tr>\n",
       "    <tr>\n",
       "      <th>2</th>\n",
       "      <td>Analystics &amp; Modeling Specialist</td>\n",
       "      <td>Accenture</td>\n",
       "      <td>6-8 Yrs</td>\n",
       "      <td>Kolkata, Mumbai, Hyderabad/Secunderabad, Pune,...</td>\n",
       "    </tr>\n",
       "    <tr>\n",
       "      <th>3</th>\n",
       "      <td>Hiring For DATA Scientist @ NTT DATA Business ...</td>\n",
       "      <td>NTT DATA Business Solutions Private Limited</td>\n",
       "      <td>4-9 Yrs</td>\n",
       "      <td>Noida, Hyderabad/Secunderabad, Pune, Gurgaon/G...</td>\n",
       "    </tr>\n",
       "    <tr>\n",
       "      <th>4</th>\n",
       "      <td>ACN - Applied Intelligence - C4DI - Sustainabi...</td>\n",
       "      <td>Accenture</td>\n",
       "      <td>4-6 Yrs</td>\n",
       "      <td>Bangalore/Bengaluru</td>\n",
       "    </tr>\n",
       "    <tr>\n",
       "      <th>5</th>\n",
       "      <td>Data Scientist/AIML Engineer</td>\n",
       "      <td>upGrad</td>\n",
       "      <td>0-2 Yrs</td>\n",
       "      <td>Mumbai, Hyderabad/Secunderabad, Bangalore/Beng...</td>\n",
       "    </tr>\n",
       "    <tr>\n",
       "      <th>6</th>\n",
       "      <td>Lead ML Scientist</td>\n",
       "      <td>Fractal Analytics</td>\n",
       "      <td>6-10 Yrs</td>\n",
       "      <td>Mumbai, Bangalore/Bengaluru</td>\n",
       "    </tr>\n",
       "    <tr>\n",
       "      <th>7</th>\n",
       "      <td>Tcs Hiring For Data Scientist</td>\n",
       "      <td>TATA CONSULTANCY SERVICES (TCS)</td>\n",
       "      <td>3-8 Yrs</td>\n",
       "      <td>Chennai, Bangalore/Bengaluru, Mumbai (All Areas)</td>\n",
       "    </tr>\n",
       "    <tr>\n",
       "      <th>8</th>\n",
       "      <td>Data Scientist - II</td>\n",
       "      <td>SMARTPADDLE TECHNOLOGY PVT. LTD.</td>\n",
       "      <td>3-6 Yrs</td>\n",
       "      <td>India, Bangalore/Bengaluru, Mumbai (All Areas)</td>\n",
       "    </tr>\n",
       "    <tr>\n",
       "      <th>9</th>\n",
       "      <td>Data Scientist - A.P. Maersk</td>\n",
       "      <td>Maersk</td>\n",
       "      <td>5-10 Yrs</td>\n",
       "      <td>Bangalore/Bengaluru</td>\n",
       "    </tr>\n",
       "  </tbody>\n",
       "</table>\n",
       "</div>"
      ],
      "text/plain": [
       "                                               title  \\\n",
       "0  Job Opportunity on Data Science_ Python with T...   \n",
       "1                   Assistant Manager - Data Science   \n",
       "2                   Analystics & Modeling Specialist   \n",
       "3  Hiring For DATA Scientist @ NTT DATA Business ...   \n",
       "4  ACN - Applied Intelligence - C4DI - Sustainabi...   \n",
       "5                       Data Scientist/AIML Engineer   \n",
       "6                                  Lead ML Scientist   \n",
       "7                      Tcs Hiring For Data Scientist   \n",
       "8                                Data Scientist - II   \n",
       "9                       Data Scientist - A.P. Maersk   \n",
       "\n",
       "                                       company experience_required  \\\n",
       "0                                Tech Mahindra             4-9 Yrs   \n",
       "1                                   CitiusTech             5-9 Yrs   \n",
       "2                                    Accenture             6-8 Yrs   \n",
       "3  NTT DATA Business Solutions Private Limited             4-9 Yrs   \n",
       "4                                    Accenture             4-6 Yrs   \n",
       "5                                       upGrad             0-2 Yrs   \n",
       "6                            Fractal Analytics            6-10 Yrs   \n",
       "7              TATA CONSULTANCY SERVICES (TCS)             3-8 Yrs   \n",
       "8             SMARTPADDLE TECHNOLOGY PVT. LTD.             3-6 Yrs   \n",
       "9                                       Maersk            5-10 Yrs   \n",
       "\n",
       "                                            location  \n",
       "0  Kolkata, Hyderabad/Secunderabad, Pune, Chennai...  \n",
       "1                  Mumbai, Pune, Bangalore/Bengaluru  \n",
       "2  Kolkata, Mumbai, Hyderabad/Secunderabad, Pune,...  \n",
       "3  Noida, Hyderabad/Secunderabad, Pune, Gurgaon/G...  \n",
       "4                                Bangalore/Bengaluru  \n",
       "5  Mumbai, Hyderabad/Secunderabad, Bangalore/Beng...  \n",
       "6                        Mumbai, Bangalore/Bengaluru  \n",
       "7   Chennai, Bangalore/Bengaluru, Mumbai (All Areas)  \n",
       "8     India, Bangalore/Bengaluru, Mumbai (All Areas)  \n",
       "9                                Bangalore/Bengaluru  "
      ]
     },
     "execution_count": 123,
     "metadata": {},
     "output_type": "execute_result"
    }
   ],
   "source": [
    "jobs"
   ]
  },
  {
   "cell_type": "code",
   "execution_count": 156,
   "id": "b13d00f3",
   "metadata": {},
   "outputs": [
    {
     "name": "stdout",
     "output_type": "stream",
     "text": [
      "Requirement already satisfied: selenium in c:\\users\\saranya\\anaconda3\\lib\\site-packages (4.4.3)\n",
      "Requirement already satisfied: certifi>=2021.10.8 in c:\\users\\saranya\\anaconda3\\lib\\site-packages (from selenium) (2021.10.8)\n",
      "Requirement already satisfied: urllib3[socks]~=1.26 in c:\\users\\saranya\\anaconda3\\lib\\site-packages (from selenium) (1.26.7)\n",
      "Requirement already satisfied: trio-websocket~=0.9 in c:\\users\\saranya\\anaconda3\\lib\\site-packages (from selenium) (0.9.2)\n",
      "Requirement already satisfied: trio~=0.17 in c:\\users\\saranya\\anaconda3\\lib\\site-packages (from selenium) (0.21.0)\n",
      "Requirement already satisfied: sortedcontainers in c:\\users\\saranya\\anaconda3\\lib\\site-packages (from trio~=0.17->selenium) (2.4.0)\n",
      "Requirement already satisfied: sniffio in c:\\users\\saranya\\anaconda3\\lib\\site-packages (from trio~=0.17->selenium) (1.2.0)\n",
      "Requirement already satisfied: idna in c:\\users\\saranya\\anaconda3\\lib\\site-packages (from trio~=0.17->selenium) (3.2)\n",
      "Requirement already satisfied: attrs>=19.2.0 in c:\\users\\saranya\\anaconda3\\lib\\site-packages (from trio~=0.17->selenium) (21.2.0)\n",
      "Requirement already satisfied: async-generator>=1.9 in c:\\users\\saranya\\anaconda3\\lib\\site-packages (from trio~=0.17->selenium) (1.10)\n",
      "Requirement already satisfied: cffi>=1.14 in c:\\users\\saranya\\anaconda3\\lib\\site-packages (from trio~=0.17->selenium) (1.14.6)\n",
      "Requirement already satisfied: outcome in c:\\users\\saranya\\anaconda3\\lib\\site-packages (from trio~=0.17->selenium) (1.2.0)\n",
      "Requirement already satisfied: pycparser in c:\\users\\saranya\\anaconda3\\lib\\site-packages (from cffi>=1.14->trio~=0.17->selenium) (2.20)\n",
      "Requirement already satisfied: wsproto>=0.14 in c:\\users\\saranya\\anaconda3\\lib\\site-packages (from trio-websocket~=0.9->selenium) (1.2.0)\n",
      "Requirement already satisfied: PySocks!=1.5.7,<2.0,>=1.5.6 in c:\\users\\saranya\\anaconda3\\lib\\site-packages (from urllib3[socks]~=1.26->selenium) (1.7.1)\n",
      "Requirement already satisfied: h11<1,>=0.9.0 in c:\\users\\saranya\\anaconda3\\lib\\site-packages (from wsproto>=0.14->trio-websocket~=0.9->selenium) (0.13.0)\n"
     ]
    }
   ],
   "source": [
    "! pip3 install selenium"
   ]
  },
  {
   "cell_type": "code",
   "execution_count": 157,
   "id": "2a93df14",
   "metadata": {},
   "outputs": [],
   "source": [
    "import selenium\n",
    "import pandas as pd\n",
    "from selenium import webdriver\n",
    "from selenium.webdriver.common.by import By\n",
    "import time\n",
    "from selenium.webdriver.chrome.service import Service\n",
    "import warnings\n",
    "warnings.filterwarnings('ignore')"
   ]
  },
  {
   "cell_type": "code",
   "execution_count": 158,
   "id": "123ca5bd",
   "metadata": {},
   "outputs": [
    {
     "data": {
      "text/plain": [
       "<selenium.webdriver.chrome.webdriver.WebDriver (session=\"6433401b699cbf84c010ef45dbb1cc0b\")>"
      ]
     },
     "execution_count": 158,
     "metadata": {},
     "output_type": "execute_result"
    }
   ],
   "source": [
    "driver = webdriver.Chrome(r\"C:\\\\Users\\\\Saranya\\\\Downloads\\\\chromedriver.exe\")\n",
    "driver"
   ]
  },
  {
   "cell_type": "code",
   "execution_count": 159,
   "id": "6196bb67",
   "metadata": {},
   "outputs": [],
   "source": [
    "url = \"https://www.flipkart.com\"\n",
    "driver.get(url)"
   ]
  },
  {
   "cell_type": "code",
   "execution_count": 160,
   "id": "f102468a",
   "metadata": {},
   "outputs": [
    {
     "data": {
      "text/plain": [
       "<selenium.webdriver.remote.webelement.WebElement (session=\"6433401b699cbf84c010ef45dbb1cc0b\", element=\"19af24bf-b57e-4a28-b4e2-d3301e7a3b1c\")>"
      ]
     },
     "execution_count": 160,
     "metadata": {},
     "output_type": "execute_result"
    }
   ],
   "source": [
    "search_g= driver.find_element(By.XPATH, \"//input[@type='text']\")\n",
    "search_g"
   ]
  },
  {
   "cell_type": "code",
   "execution_count": 161,
   "id": "a33c97ad",
   "metadata": {},
   "outputs": [],
   "source": [
    "search_g.send_keys('sunglasses')"
   ]
  },
  {
   "cell_type": "code",
   "execution_count": 162,
   "id": "b1769762",
   "metadata": {},
   "outputs": [
    {
     "data": {
      "text/plain": [
       "<selenium.webdriver.remote.webelement.WebElement (session=\"6433401b699cbf84c010ef45dbb1cc0b\", element=\"c27f0447-d06d-46ab-bb6c-7f5ce9651ae8\")>"
      ]
     },
     "execution_count": 162,
     "metadata": {},
     "output_type": "execute_result"
    }
   ],
   "source": [
    "search_btn=driver.find_element(By.XPATH, \"//button[@class='L0Z3Pu']\")\n",
    "search_btn"
   ]
  },
  {
   "cell_type": "code",
   "execution_count": 164,
   "id": "20da6c6d",
   "metadata": {},
   "outputs": [],
   "source": [
    "search_btn= driver.find_element(By.CLASS_NAME,\"L0Z3Pu\")\n",
    "search_btn.click()"
   ]
  },
  {
   "cell_type": "code",
   "execution_count": 165,
   "id": "532a7d44",
   "metadata": {},
   "outputs": [],
   "source": [
    "B_name=[]\n",
    "Price=[]\n",
    "P_desc=[]\n",
    "Discount=[]"
   ]
  },
  {
   "cell_type": "code",
   "execution_count": 167,
   "id": "4359ec0e",
   "metadata": {},
   "outputs": [],
   "source": [
    "for i in range(3):\n",
    "    b_name=driver.find_elements(By.XPATH, \"//div[@class='_2WkVRV']\")\n",
    "    p_desc=driver.find_elements(By.XPATH, \"//a[@class='IRpwTa']\")\n",
    "    price =driver.find_elements(By.XPATH,\"//div[@class='_25b18c']\")\n",
    "    discount=driver.find_elements(By.XPATH,\"//div[@class='_3Ay6Sb']\")\n",
    "    \n",
    "    for j  in b_name:\n",
    "        B_name.append(j.text)\n",
    "    B_name[:100]    \n",
    "    \n",
    "    \n",
    "    \n",
    "    for k in p_desc:\n",
    "        P_desc.append(k.text)\n",
    "    P_desc[:100] \n",
    "    \n",
    "    \n",
    "    for l in price:\n",
    "        Price.append(l.text)\n",
    "    Price[:100] \n",
    "    \n",
    "    \n",
    "    for t in discount:\n",
    "        Discount.append(t.text)\n",
    "    Discount[:100]"
   ]
  },
  {
   "cell_type": "code",
   "execution_count": 168,
   "id": "86bda6f7",
   "metadata": {},
   "outputs": [
    {
     "data": {
      "text/plain": [
       "['ROZZETTA CRAFT',\n",
       " 'ROZZETTA CRAFT',\n",
       " 'Fastrack',\n",
       " 'VINCENT CHASE',\n",
       " 'ROZZETTA CRAFT',\n",
       " 'ROZZETTA CRAFT',\n",
       " 'AISLIN',\n",
       " 'VINCENT CHASE',\n",
       " 'CRYSTAL CART',\n",
       " 'Fastrack',\n",
       " 'ROZZETTA CRAFT',\n",
       " 'VINCENT CHASE',\n",
       " 'VINCENT CHASE',\n",
       " 'Mi',\n",
       " 'ROYAL SON',\n",
       " 'TheWhoop',\n",
       " 'kingsunglasses',\n",
       " 'Fastrack',\n",
       " 'ROYAL SON',\n",
       " 'Singco India',\n",
       " 'Fastrack',\n",
       " 'PIRASO',\n",
       " 'AISLIN',\n",
       " 'VINCENT CHASE',\n",
       " 'ROYAL SON',\n",
       " 'SKYZA INDIA',\n",
       " 'Fastrack',\n",
       " 'VINCENT CHASE',\n",
       " 'ROZZETTA CRAFT',\n",
       " 'GHAWK',\n",
       " 'WROGN',\n",
       " 'VINCENT CHASE',\n",
       " 'VINCENT CHASE',\n",
       " 'VINCENT CHASE',\n",
       " 'PHENOMENAL',\n",
       " 'VINCENT CHASE',\n",
       " 'ROZZETTA CRAFT',\n",
       " 'Rich Club',\n",
       " 'Rich Club',\n",
       " 'ROYAL SON',\n",
       " 'ROZZETTA CRAFT',\n",
       " 'ROZZETTA CRAFT',\n",
       " 'Fastrack',\n",
       " 'VINCENT CHASE',\n",
       " 'ROZZETTA CRAFT',\n",
       " 'ROZZETTA CRAFT',\n",
       " 'AISLIN',\n",
       " 'VINCENT CHASE',\n",
       " 'CRYSTAL CART',\n",
       " 'Fastrack',\n",
       " 'ROZZETTA CRAFT',\n",
       " 'VINCENT CHASE',\n",
       " 'VINCENT CHASE',\n",
       " 'Mi',\n",
       " 'ROYAL SON',\n",
       " 'TheWhoop',\n",
       " 'kingsunglasses',\n",
       " 'Fastrack',\n",
       " 'ROYAL SON',\n",
       " 'Singco India',\n",
       " 'Fastrack',\n",
       " 'PIRASO',\n",
       " 'AISLIN',\n",
       " 'VINCENT CHASE',\n",
       " 'ROYAL SON',\n",
       " 'SKYZA INDIA',\n",
       " 'Fastrack',\n",
       " 'VINCENT CHASE',\n",
       " 'ROZZETTA CRAFT',\n",
       " 'GHAWK',\n",
       " 'WROGN',\n",
       " 'VINCENT CHASE',\n",
       " 'VINCENT CHASE',\n",
       " 'VINCENT CHASE',\n",
       " 'PHENOMENAL',\n",
       " 'VINCENT CHASE',\n",
       " 'ROZZETTA CRAFT',\n",
       " 'Rich Club',\n",
       " 'Rich Club',\n",
       " 'ROYAL SON',\n",
       " 'ROZZETTA CRAFT',\n",
       " 'ROZZETTA CRAFT',\n",
       " 'Fastrack',\n",
       " 'VINCENT CHASE',\n",
       " 'ROZZETTA CRAFT',\n",
       " 'ROZZETTA CRAFT',\n",
       " 'AISLIN',\n",
       " 'VINCENT CHASE',\n",
       " 'CRYSTAL CART',\n",
       " 'Fastrack',\n",
       " 'ROZZETTA CRAFT',\n",
       " 'VINCENT CHASE',\n",
       " 'VINCENT CHASE',\n",
       " 'Mi',\n",
       " 'ROYAL SON',\n",
       " 'TheWhoop',\n",
       " 'kingsunglasses',\n",
       " 'Fastrack',\n",
       " 'ROYAL SON',\n",
       " 'Singco India']"
      ]
     },
     "execution_count": 168,
     "metadata": {},
     "output_type": "execute_result"
    }
   ],
   "source": [
    "B_name[:100]"
   ]
  },
  {
   "cell_type": "code",
   "execution_count": 169,
   "id": "ca31d942",
   "metadata": {},
   "outputs": [
    {
     "name": "stdout",
     "output_type": "stream",
     "text": [
      "100\n",
      "100\n",
      "100\n",
      "100\n"
     ]
    },
    {
     "data": {
      "text/plain": [
       "(None, None, None, None)"
      ]
     },
     "execution_count": 169,
     "metadata": {},
     "output_type": "execute_result"
    }
   ],
   "source": [
    "print(len(B_name[:100])),print(len(Price[:100])),print(len(P_desc[:100])),print(len(Discount[:100]))"
   ]
  },
  {
   "cell_type": "code",
   "execution_count": 170,
   "id": "7ee43c18",
   "metadata": {},
   "outputs": [],
   "source": [
    "sun_gl=pd.DataFrame({})\n",
    "sun_gl['Brand_name']=B_name[:100]\n",
    "sun_gl['P_price']=Price[:100]\n",
    "sun_gl['Pr_desc']=P_desc[:100]\n",
    "sun_gl['P_discount']=Discount[:100]"
   ]
  },
  {
   "cell_type": "code",
   "execution_count": 171,
   "id": "30161c0a",
   "metadata": {},
   "outputs": [
    {
     "data": {
      "text/html": [
       "<div>\n",
       "<style scoped>\n",
       "    .dataframe tbody tr th:only-of-type {\n",
       "        vertical-align: middle;\n",
       "    }\n",
       "\n",
       "    .dataframe tbody tr th {\n",
       "        vertical-align: top;\n",
       "    }\n",
       "\n",
       "    .dataframe thead th {\n",
       "        text-align: right;\n",
       "    }\n",
       "</style>\n",
       "<table border=\"1\" class=\"dataframe\">\n",
       "  <thead>\n",
       "    <tr style=\"text-align: right;\">\n",
       "      <th></th>\n",
       "      <th>Brand_name</th>\n",
       "      <th>P_price</th>\n",
       "      <th>Pr_desc</th>\n",
       "      <th>P_discount</th>\n",
       "    </tr>\n",
       "  </thead>\n",
       "  <tbody>\n",
       "    <tr>\n",
       "      <th>0</th>\n",
       "      <td>ROZZETTA CRAFT</td>\n",
       "      <td>₹359₹1,99982% off</td>\n",
       "      <td>UV Protection Cat-eye Sunglasses (Free Size)</td>\n",
       "      <td>82% off</td>\n",
       "    </tr>\n",
       "    <tr>\n",
       "      <th>1</th>\n",
       "      <td>ROZZETTA CRAFT</td>\n",
       "      <td>₹359₹1,99982% off</td>\n",
       "      <td>UV Protection, Gradient Rectangular Sunglasses...</td>\n",
       "      <td>82% off</td>\n",
       "    </tr>\n",
       "    <tr>\n",
       "      <th>2</th>\n",
       "      <td>Fastrack</td>\n",
       "      <td>₹799₹99920% off</td>\n",
       "      <td>UV Protection Wayfarer Sunglasses (Free Size)</td>\n",
       "      <td>20% off</td>\n",
       "    </tr>\n",
       "    <tr>\n",
       "      <th>3</th>\n",
       "      <td>VINCENT CHASE</td>\n",
       "      <td>₹901₹1,99954% off</td>\n",
       "      <td>by Lenskart Polarized, UV Protection Retro Squ...</td>\n",
       "      <td>54% off</td>\n",
       "    </tr>\n",
       "    <tr>\n",
       "      <th>4</th>\n",
       "      <td>ROZZETTA CRAFT</td>\n",
       "      <td>₹449₹2,22579% off</td>\n",
       "      <td>UV Protection Retro Square Sunglasses (Free Size)</td>\n",
       "      <td>79% off</td>\n",
       "    </tr>\n",
       "    <tr>\n",
       "      <th>...</th>\n",
       "      <td>...</td>\n",
       "      <td>...</td>\n",
       "      <td>...</td>\n",
       "      <td>...</td>\n",
       "    </tr>\n",
       "    <tr>\n",
       "      <th>95</th>\n",
       "      <td>TheWhoop</td>\n",
       "      <td>₹319₹1,99984% off</td>\n",
       "      <td>UV Protection Round Sunglasses (52)</td>\n",
       "      <td>75% off</td>\n",
       "    </tr>\n",
       "    <tr>\n",
       "      <th>96</th>\n",
       "      <td>kingsunglasses</td>\n",
       "      <td>₹443₹1,52570% off</td>\n",
       "      <td>Polarized Rectangular Sunglasses (60)</td>\n",
       "      <td>79% off</td>\n",
       "    </tr>\n",
       "    <tr>\n",
       "      <th>97</th>\n",
       "      <td>Fastrack</td>\n",
       "      <td>₹1,049₹1,99947% off</td>\n",
       "      <td>Gradient, Toughened Glass Lens, UV Protection ...</td>\n",
       "      <td>25% off</td>\n",
       "    </tr>\n",
       "    <tr>\n",
       "      <th>98</th>\n",
       "      <td>ROYAL SON</td>\n",
       "      <td>₹476₹2,09977% off</td>\n",
       "      <td>UV Protection Shield Sunglasses (Free Size)</td>\n",
       "      <td>72% off</td>\n",
       "    </tr>\n",
       "    <tr>\n",
       "      <th>99</th>\n",
       "      <td>Singco India</td>\n",
       "      <td>₹1,169₹1,29910% off</td>\n",
       "      <td>UV Protection Over-sized Sunglasses (65)</td>\n",
       "      <td>79% off</td>\n",
       "    </tr>\n",
       "  </tbody>\n",
       "</table>\n",
       "<p>100 rows × 4 columns</p>\n",
       "</div>"
      ],
      "text/plain": [
       "        Brand_name              P_price  \\\n",
       "0   ROZZETTA CRAFT    ₹359₹1,99982% off   \n",
       "1   ROZZETTA CRAFT    ₹359₹1,99982% off   \n",
       "2         Fastrack      ₹799₹99920% off   \n",
       "3    VINCENT CHASE    ₹901₹1,99954% off   \n",
       "4   ROZZETTA CRAFT    ₹449₹2,22579% off   \n",
       "..             ...                  ...   \n",
       "95        TheWhoop    ₹319₹1,99984% off   \n",
       "96  kingsunglasses    ₹443₹1,52570% off   \n",
       "97        Fastrack  ₹1,049₹1,99947% off   \n",
       "98       ROYAL SON    ₹476₹2,09977% off   \n",
       "99    Singco India  ₹1,169₹1,29910% off   \n",
       "\n",
       "                                              Pr_desc P_discount  \n",
       "0        UV Protection Cat-eye Sunglasses (Free Size)    82% off  \n",
       "1   UV Protection, Gradient Rectangular Sunglasses...    82% off  \n",
       "2       UV Protection Wayfarer Sunglasses (Free Size)    20% off  \n",
       "3   by Lenskart Polarized, UV Protection Retro Squ...    54% off  \n",
       "4   UV Protection Retro Square Sunglasses (Free Size)    79% off  \n",
       "..                                                ...        ...  \n",
       "95                UV Protection Round Sunglasses (52)    75% off  \n",
       "96              Polarized Rectangular Sunglasses (60)    79% off  \n",
       "97  Gradient, Toughened Glass Lens, UV Protection ...    25% off  \n",
       "98        UV Protection Shield Sunglasses (Free Size)    72% off  \n",
       "99           UV Protection Over-sized Sunglasses (65)    79% off  \n",
       "\n",
       "[100 rows x 4 columns]"
      ]
     },
     "execution_count": 171,
     "metadata": {},
     "output_type": "execute_result"
    }
   ],
   "source": [
    "sun_gl"
   ]
  },
  {
   "cell_type": "code",
   "execution_count": 205,
   "id": "3ce07539",
   "metadata": {},
   "outputs": [
    {
     "name": "stdout",
     "output_type": "stream",
     "text": [
      "Requirement already satisfied: selenium in c:\\users\\saranya\\anaconda3\\lib\\site-packages (4.4.3)\n",
      "Requirement already satisfied: certifi>=2021.10.8 in c:\\users\\saranya\\anaconda3\\lib\\site-packages (from selenium) (2021.10.8)\n",
      "Requirement already satisfied: trio~=0.17 in c:\\users\\saranya\\anaconda3\\lib\\site-packages (from selenium) (0.21.0)\n",
      "Requirement already satisfied: trio-websocket~=0.9 in c:\\users\\saranya\\anaconda3\\lib\\site-packages (from selenium) (0.9.2)\n",
      "Requirement already satisfied: urllib3[socks]~=1.26 in c:\\users\\saranya\\anaconda3\\lib\\site-packages (from selenium) (1.26.7)\n",
      "Requirement already satisfied: sniffio in c:\\users\\saranya\\anaconda3\\lib\\site-packages (from trio~=0.17->selenium) (1.2.0)\n",
      "Requirement already satisfied: async-generator>=1.9 in c:\\users\\saranya\\anaconda3\\lib\\site-packages (from trio~=0.17->selenium) (1.10)\n",
      "Requirement already satisfied: sortedcontainers in c:\\users\\saranya\\anaconda3\\lib\\site-packages (from trio~=0.17->selenium) (2.4.0)\n",
      "Requirement already satisfied: attrs>=19.2.0 in c:\\users\\saranya\\anaconda3\\lib\\site-packages (from trio~=0.17->selenium) (21.2.0)\n",
      "Requirement already satisfied: idna in c:\\users\\saranya\\anaconda3\\lib\\site-packages (from trio~=0.17->selenium) (3.2)\n",
      "Requirement already satisfied: outcome in c:\\users\\saranya\\anaconda3\\lib\\site-packages (from trio~=0.17->selenium) (1.2.0)\n",
      "Requirement already satisfied: cffi>=1.14 in c:\\users\\saranya\\anaconda3\\lib\\site-packages (from trio~=0.17->selenium) (1.14.6)\n",
      "Requirement already satisfied: pycparser in c:\\users\\saranya\\anaconda3\\lib\\site-packages (from cffi>=1.14->trio~=0.17->selenium) (2.20)\n",
      "Requirement already satisfied: wsproto>=0.14 in c:\\users\\saranya\\anaconda3\\lib\\site-packages (from trio-websocket~=0.9->selenium) (1.2.0)\n",
      "Requirement already satisfied: PySocks!=1.5.7,<2.0,>=1.5.6 in c:\\users\\saranya\\anaconda3\\lib\\site-packages (from urllib3[socks]~=1.26->selenium) (1.7.1)\n",
      "Requirement already satisfied: h11<1,>=0.9.0 in c:\\users\\saranya\\anaconda3\\lib\\site-packages (from wsproto>=0.14->trio-websocket~=0.9->selenium) (0.13.0)\n"
     ]
    }
   ],
   "source": [
    "! pip3 install selenium"
   ]
  },
  {
   "cell_type": "code",
   "execution_count": 206,
   "id": "065d1611",
   "metadata": {},
   "outputs": [],
   "source": [
    "import selenium\n",
    "import pandas as pd\n",
    "from selenium import webdriver\n",
    "from selenium.webdriver.common.by import By\n",
    "import time\n",
    "from selenium.webdriver.chrome.service import Service\n",
    "import warnings\n",
    "warnings.filterwarnings('ignore')"
   ]
  },
  {
   "cell_type": "code",
   "execution_count": 207,
   "id": "10bc831a",
   "metadata": {},
   "outputs": [
    {
     "data": {
      "text/plain": [
       "<selenium.webdriver.chrome.webdriver.WebDriver (session=\"220fdc539c583200cb01d364afd95384\")>"
      ]
     },
     "execution_count": 207,
     "metadata": {},
     "output_type": "execute_result"
    }
   ],
   "source": [
    "driver = webdriver.Chrome(r\"C:\\\\Users\\\\Saranya\\\\Downloads\\\\chromedriver.exe\")\n",
    "driver"
   ]
  },
  {
   "cell_type": "code",
   "execution_count": 208,
   "id": "20e12bca",
   "metadata": {},
   "outputs": [],
   "source": [
    "url = \"https://www.flipkart.com\"\n",
    "driver.get(url)"
   ]
  },
  {
   "cell_type": "code",
   "execution_count": 209,
   "id": "669253f3",
   "metadata": {},
   "outputs": [
    {
     "data": {
      "text/plain": [
       "<selenium.webdriver.remote.webelement.WebElement (session=\"220fdc539c583200cb01d364afd95384\", element=\"842eae69-1884-4b08-a722-9142f3e02d7d\")>"
      ]
     },
     "execution_count": 209,
     "metadata": {},
     "output_type": "execute_result"
    }
   ],
   "source": [
    "search_g= driver.find_element(By.XPATH, \"//input[@type='text']\")\n",
    "search_g"
   ]
  },
  {
   "cell_type": "code",
   "execution_count": 210,
   "id": "dbd7b6c5",
   "metadata": {},
   "outputs": [],
   "source": [
    "search_g.send_keys('iphone 11')"
   ]
  },
  {
   "cell_type": "code",
   "execution_count": 215,
   "id": "cda302fe",
   "metadata": {},
   "outputs": [
    {
     "data": {
      "text/plain": [
       "<selenium.webdriver.remote.webelement.WebElement (session=\"220fdc539c583200cb01d364afd95384\", element=\"3103b0cc-6544-4201-bca6-2dc13ad445fe\")>"
      ]
     },
     "execution_count": 215,
     "metadata": {},
     "output_type": "execute_result"
    }
   ],
   "source": [
    "search_btn=driver.find_element(By.XPATH, \"//button[@class='L0Z3Pu']\")\n",
    "search_btn"
   ]
  },
  {
   "cell_type": "code",
   "execution_count": 216,
   "id": "ba15e5a9",
   "metadata": {},
   "outputs": [],
   "source": [
    "search_btn= driver.find_element(By.CLASS_NAME,\"L0Z3Pu\")\n",
    "search_btn.click()"
   ]
  },
  {
   "cell_type": "code",
   "execution_count": 217,
   "id": "7fd303ec",
   "metadata": {},
   "outputs": [],
   "source": [
    "Rating=[]\n",
    "Rev_sum=[]\n",
    "Full_Rev=[]"
   ]
  },
  {
   "cell_type": "code",
   "execution_count": 218,
   "id": "78c3097c",
   "metadata": {},
   "outputs": [],
   "source": [
    "for i in range(3):\n",
    "    Rating=driver.find_elements(By.XPATH, \"//div[@class='_3LWZlK _1BLPMq']\")\n",
    "    Rev_sum=driver.find_elements(By.XPATH, \"//p[@class='_2-N8zT']\")\n",
    "    Full_Rev =driver.find_elements(By.XPATH,\"//div[@class='t-ZTKy']\")\n",
    "    \n",
    "    for j  in Rating:\n",
    "        Rating.append(j.text)\n",
    "    Rating[:100]    \n",
    "    \n",
    "        \n",
    "    for k in Rev_sum:\n",
    "        rev_sum.append(k.text)\n",
    "    Rev_sum[:100] \n",
    "    \n",
    "    \n",
    "    for l in Full_Rev:\n",
    "        Full_Rev.append(l.text)\n",
    "    Full_Rev[:100] \n",
    " "
   ]
  },
  {
   "cell_type": "code",
   "execution_count": 219,
   "id": "a00fcc87",
   "metadata": {},
   "outputs": [
    {
     "data": {
      "text/plain": [
       "[]"
      ]
     },
     "execution_count": 219,
     "metadata": {},
     "output_type": "execute_result"
    }
   ],
   "source": [
    "Rating[:100]"
   ]
  },
  {
   "cell_type": "code",
   "execution_count": 220,
   "id": "17c9c10f",
   "metadata": {},
   "outputs": [
    {
     "name": "stdout",
     "output_type": "stream",
     "text": [
      "0\n",
      "0\n",
      "0\n"
     ]
    },
    {
     "data": {
      "text/plain": [
       "(None, None, None)"
      ]
     },
     "execution_count": 220,
     "metadata": {},
     "output_type": "execute_result"
    }
   ],
   "source": [
    "print(len(Rating[:100])),print(len(Rev_sum[:100])),print(len(Full_Rev[:100]))"
   ]
  },
  {
   "cell_type": "code",
   "execution_count": 221,
   "id": "55f0e3e6",
   "metadata": {},
   "outputs": [],
   "source": [
    "i_phone11=pd.DataFrame({})\n",
    "i_phone11['Rating']=Rating[:100]\n",
    "i_phone11['Rev_sum']=Rev_sum[:100]\n",
    "i_phone11['Full_Rev']=Full_Rev[:100]"
   ]
  },
  {
   "cell_type": "code",
   "execution_count": 222,
   "id": "c245b2de",
   "metadata": {},
   "outputs": [
    {
     "data": {
      "text/html": [
       "<div>\n",
       "<style scoped>\n",
       "    .dataframe tbody tr th:only-of-type {\n",
       "        vertical-align: middle;\n",
       "    }\n",
       "\n",
       "    .dataframe tbody tr th {\n",
       "        vertical-align: top;\n",
       "    }\n",
       "\n",
       "    .dataframe thead th {\n",
       "        text-align: right;\n",
       "    }\n",
       "</style>\n",
       "<table border=\"1\" class=\"dataframe\">\n",
       "  <thead>\n",
       "    <tr style=\"text-align: right;\">\n",
       "      <th></th>\n",
       "      <th>Rating</th>\n",
       "      <th>Rev_sum</th>\n",
       "      <th>Full_Rev</th>\n",
       "    </tr>\n",
       "  </thead>\n",
       "  <tbody>\n",
       "  </tbody>\n",
       "</table>\n",
       "</div>"
      ],
      "text/plain": [
       "Empty DataFrame\n",
       "Columns: [Rating, Rev_sum, Full_Rev]\n",
       "Index: []"
      ]
     },
     "execution_count": 222,
     "metadata": {},
     "output_type": "execute_result"
    }
   ],
   "source": [
    "i_phone11"
   ]
  },
  {
   "cell_type": "code",
   "execution_count": 223,
   "id": "b9cbe472",
   "metadata": {},
   "outputs": [
    {
     "name": "stdout",
     "output_type": "stream",
     "text": [
      "Requirement already satisfied: selenium in c:\\users\\saranya\\anaconda3\\lib\\site-packages (4.4.3)\n",
      "Requirement already satisfied: trio~=0.17 in c:\\users\\saranya\\anaconda3\\lib\\site-packages (from selenium) (0.21.0)\n",
      "Requirement already satisfied: urllib3[socks]~=1.26 in c:\\users\\saranya\\anaconda3\\lib\\site-packages (from selenium) (1.26.7)\n",
      "Requirement already satisfied: certifi>=2021.10.8 in c:\\users\\saranya\\anaconda3\\lib\\site-packages (from selenium) (2021.10.8)\n",
      "Requirement already satisfied: trio-websocket~=0.9 in c:\\users\\saranya\\anaconda3\\lib\\site-packages (from selenium) (0.9.2)\n",
      "Requirement already satisfied: cffi>=1.14 in c:\\users\\saranya\\anaconda3\\lib\\site-packages (from trio~=0.17->selenium) (1.14.6)\n",
      "Requirement already satisfied: sortedcontainers in c:\\users\\saranya\\anaconda3\\lib\\site-packages (from trio~=0.17->selenium) (2.4.0)\n",
      "Requirement already satisfied: idna in c:\\users\\saranya\\anaconda3\\lib\\site-packages (from trio~=0.17->selenium) (3.2)\n",
      "Requirement already satisfied: outcome in c:\\users\\saranya\\anaconda3\\lib\\site-packages (from trio~=0.17->selenium) (1.2.0)\n",
      "Requirement already satisfied: attrs>=19.2.0 in c:\\users\\saranya\\anaconda3\\lib\\site-packages (from trio~=0.17->selenium) (21.2.0)\n",
      "Requirement already satisfied: sniffio in c:\\users\\saranya\\anaconda3\\lib\\site-packages (from trio~=0.17->selenium) (1.2.0)\n",
      "Requirement already satisfied: async-generator>=1.9 in c:\\users\\saranya\\anaconda3\\lib\\site-packages (from trio~=0.17->selenium) (1.10)\n",
      "Requirement already satisfied: pycparser in c:\\users\\saranya\\anaconda3\\lib\\site-packages (from cffi>=1.14->trio~=0.17->selenium) (2.20)\n",
      "Requirement already satisfied: wsproto>=0.14 in c:\\users\\saranya\\anaconda3\\lib\\site-packages (from trio-websocket~=0.9->selenium) (1.2.0)\n",
      "Requirement already satisfied: PySocks!=1.5.7,<2.0,>=1.5.6 in c:\\users\\saranya\\anaconda3\\lib\\site-packages (from urllib3[socks]~=1.26->selenium) (1.7.1)\n",
      "Requirement already satisfied: h11<1,>=0.9.0 in c:\\users\\saranya\\anaconda3\\lib\\site-packages (from wsproto>=0.14->trio-websocket~=0.9->selenium) (0.13.0)\n"
     ]
    }
   ],
   "source": [
    "! pip3 install selenium"
   ]
  },
  {
   "cell_type": "code",
   "execution_count": 224,
   "id": "21794654",
   "metadata": {},
   "outputs": [],
   "source": [
    "import selenium\n",
    "import pandas as pd\n",
    "from selenium import webdriver\n",
    "from selenium.webdriver.common.by import By\n",
    "import time\n",
    "from selenium.webdriver.chrome.service import Service\n",
    "import warnings\n",
    "warnings.filterwarnings('ignore')"
   ]
  },
  {
   "cell_type": "code",
   "execution_count": 225,
   "id": "0eb7273e",
   "metadata": {},
   "outputs": [
    {
     "data": {
      "text/plain": [
       "<selenium.webdriver.chrome.webdriver.WebDriver (session=\"77436dd9146bee1cb62556876f109423\")>"
      ]
     },
     "execution_count": 225,
     "metadata": {},
     "output_type": "execute_result"
    }
   ],
   "source": [
    "driver = webdriver.Chrome(r\"C:\\\\Users\\\\Saranya\\\\Downloads\\\\chromedriver.exe\")\n",
    "driver"
   ]
  },
  {
   "cell_type": "code",
   "execution_count": 226,
   "id": "743b320a",
   "metadata": {},
   "outputs": [],
   "source": [
    "url = \"https://www.flipkart.com\"\n",
    "driver.get(url)"
   ]
  },
  {
   "cell_type": "code",
   "execution_count": 228,
   "id": "ca82686d",
   "metadata": {},
   "outputs": [
    {
     "data": {
      "text/plain": [
       "<selenium.webdriver.remote.webelement.WebElement (session=\"77436dd9146bee1cb62556876f109423\", element=\"55bc4f02-cb78-4705-ba82-02249ef3ff66\")>"
      ]
     },
     "execution_count": 228,
     "metadata": {},
     "output_type": "execute_result"
    }
   ],
   "source": [
    "search_g= driver.find_element(By.XPATH, \"//input[@type='text']\")\n",
    "search_g"
   ]
  },
  {
   "cell_type": "code",
   "execution_count": 229,
   "id": "e7f3213d",
   "metadata": {},
   "outputs": [],
   "source": [
    "search_g.send_keys('sneakers')"
   ]
  },
  {
   "cell_type": "code",
   "execution_count": 230,
   "id": "2f81a808",
   "metadata": {},
   "outputs": [
    {
     "data": {
      "text/plain": [
       "<selenium.webdriver.remote.webelement.WebElement (session=\"77436dd9146bee1cb62556876f109423\", element=\"82a4679c-7f0d-4406-a543-1bfba7ed0409\")>"
      ]
     },
     "execution_count": 230,
     "metadata": {},
     "output_type": "execute_result"
    }
   ],
   "source": [
    "search_btn=driver.find_element(By.XPATH, \"//button[@class='L0Z3Pu']\")\n",
    "search_btn"
   ]
  },
  {
   "cell_type": "code",
   "execution_count": 231,
   "id": "564d3fd5",
   "metadata": {},
   "outputs": [],
   "source": [
    "search_btn= driver.find_element(By.CLASS_NAME,\"L0Z3Pu\")\n",
    "search_btn.click()"
   ]
  },
  {
   "cell_type": "code",
   "execution_count": 232,
   "id": "d3d474a5",
   "metadata": {},
   "outputs": [],
   "source": [
    "B_name=[]\n",
    "Price=[]\n",
    "P_desc=[]\n",
    "Discount=[]"
   ]
  },
  {
   "cell_type": "code",
   "execution_count": 233,
   "id": "df60dc78",
   "metadata": {},
   "outputs": [],
   "source": [
    "for i in range(3):\n",
    "    b_name=driver.find_elements(By.XPATH, \"//div[@class='_2WkVRV']\")\n",
    "    p_desc=driver.find_elements(By.XPATH, \"//a[@class='IRpwTa']\")\n",
    "    price =driver.find_elements(By.XPATH,\"//div[@class='_25b18c']\")\n",
    "    discount=driver.find_elements(By.XPATH,\"//div[@class='_3Ay6Sb']\")\n",
    "    \n",
    "    for j  in b_name:\n",
    "        B_name.append(j.text)\n",
    "    B_name[:100]    \n",
    "    \n",
    "        \n",
    "    for k in p_desc:\n",
    "        P_desc.append(k.text)\n",
    "    P_desc[:100] \n",
    "    \n",
    "    \n",
    "    for l in price:\n",
    "        Price.append(l.text)\n",
    "    Price[:100] \n",
    "    \n",
    "    \n",
    "    for t in discount:\n",
    "        Discount.append(t.text)\n",
    "    Discount[:100]"
   ]
  },
  {
   "cell_type": "code",
   "execution_count": 234,
   "id": "5cca355d",
   "metadata": {},
   "outputs": [
    {
     "data": {
      "text/plain": [
       "['BRUTON',\n",
       " 'soleivo',\n",
       " 'Labbin',\n",
       " 'TR',\n",
       " 'Layasa',\n",
       " 'Shozie',\n",
       " 'Kraasa',\n",
       " 'bluemaker',\n",
       " 'Chevit',\n",
       " 'Chevit',\n",
       " 'Robbie jones',\n",
       " 'Nilatin',\n",
       " 'BRUTON',\n",
       " 'DUNKASTON',\n",
       " 'aadi',\n",
       " 'Rzisbo',\n",
       " 'Deals4you',\n",
       " 'Shozie',\n",
       " 'Robbie jones',\n",
       " 'BIRDE',\n",
       " 'Layasa',\n",
       " 'BRUTON',\n",
       " 'Robbie jones',\n",
       " 'PUMA',\n",
       " 'RapidBox',\n",
       " 'Kzaara',\n",
       " 'HOTSTYLE',\n",
       " 'BIRDE',\n",
       " 'SCATCHITE',\n",
       " 'Layasa',\n",
       " 'Kraasa',\n",
       " 'BRUTON',\n",
       " 'asian',\n",
       " 'Deals4you',\n",
       " 'Xtoon',\n",
       " 'Echor',\n",
       " 'Deals4you',\n",
       " 'World Wear Footwear',\n",
       " 'BRUTON',\n",
       " 'Nilatin',\n",
       " 'BRUTON',\n",
       " 'soleivo',\n",
       " 'Labbin',\n",
       " 'TR',\n",
       " 'Layasa',\n",
       " 'Shozie',\n",
       " 'Kraasa',\n",
       " 'bluemaker',\n",
       " 'Chevit',\n",
       " 'Chevit',\n",
       " 'Robbie jones',\n",
       " 'Nilatin',\n",
       " 'BRUTON',\n",
       " 'DUNKASTON',\n",
       " 'aadi',\n",
       " 'Rzisbo',\n",
       " 'Deals4you',\n",
       " 'Shozie',\n",
       " 'Robbie jones',\n",
       " 'BIRDE',\n",
       " 'Layasa',\n",
       " 'BRUTON',\n",
       " 'Robbie jones',\n",
       " 'PUMA',\n",
       " 'RapidBox',\n",
       " 'Kzaara',\n",
       " 'HOTSTYLE',\n",
       " 'BIRDE',\n",
       " 'SCATCHITE',\n",
       " 'Layasa',\n",
       " 'Kraasa',\n",
       " 'BRUTON',\n",
       " 'asian',\n",
       " 'Deals4you',\n",
       " 'Xtoon',\n",
       " 'Echor',\n",
       " 'Deals4you',\n",
       " 'World Wear Footwear',\n",
       " 'BRUTON',\n",
       " 'Nilatin',\n",
       " 'BRUTON',\n",
       " 'soleivo',\n",
       " 'Labbin',\n",
       " 'TR',\n",
       " 'Layasa',\n",
       " 'Shozie',\n",
       " 'Kraasa',\n",
       " 'bluemaker',\n",
       " 'Chevit',\n",
       " 'Chevit',\n",
       " 'Robbie jones',\n",
       " 'Nilatin',\n",
       " 'BRUTON',\n",
       " 'DUNKASTON',\n",
       " 'aadi',\n",
       " 'Rzisbo',\n",
       " 'Deals4you',\n",
       " 'Shozie',\n",
       " 'Robbie jones',\n",
       " 'BIRDE']"
      ]
     },
     "execution_count": 234,
     "metadata": {},
     "output_type": "execute_result"
    }
   ],
   "source": [
    "B_name[:100]"
   ]
  },
  {
   "cell_type": "code",
   "execution_count": 235,
   "id": "2098819c",
   "metadata": {},
   "outputs": [
    {
     "name": "stdout",
     "output_type": "stream",
     "text": [
      "100\n",
      "100\n",
      "100\n",
      "100\n"
     ]
    },
    {
     "data": {
      "text/plain": [
       "(None, None, None, None)"
      ]
     },
     "execution_count": 235,
     "metadata": {},
     "output_type": "execute_result"
    }
   ],
   "source": [
    "print(len(B_name[:100])),print(len(Price[:100])),print(len(P_desc[:100])),print(len(Discount[:100]))"
   ]
  },
  {
   "cell_type": "code",
   "execution_count": 236,
   "id": "0b103123",
   "metadata": {},
   "outputs": [],
   "source": [
    "sneakers=pd.DataFrame({})\n",
    "sneakers['Brand_name']=B_name[:100]\n",
    "sneakers['P_price']=Price[:100]\n",
    "sneakers['Pr_desc']=P_desc[:100]\n",
    "sneakers['P_discount']=Discount[:100]"
   ]
  },
  {
   "cell_type": "code",
   "execution_count": 237,
   "id": "6ea0da64",
   "metadata": {},
   "outputs": [
    {
     "data": {
      "text/html": [
       "<div>\n",
       "<style scoped>\n",
       "    .dataframe tbody tr th:only-of-type {\n",
       "        vertical-align: middle;\n",
       "    }\n",
       "\n",
       "    .dataframe tbody tr th {\n",
       "        vertical-align: top;\n",
       "    }\n",
       "\n",
       "    .dataframe thead th {\n",
       "        text-align: right;\n",
       "    }\n",
       "</style>\n",
       "<table border=\"1\" class=\"dataframe\">\n",
       "  <thead>\n",
       "    <tr style=\"text-align: right;\">\n",
       "      <th></th>\n",
       "      <th>Brand_name</th>\n",
       "      <th>P_price</th>\n",
       "      <th>Pr_desc</th>\n",
       "      <th>P_discount</th>\n",
       "    </tr>\n",
       "  </thead>\n",
       "  <tbody>\n",
       "    <tr>\n",
       "      <th>0</th>\n",
       "      <td>BRUTON</td>\n",
       "      <td>₹499₹3,49985% off</td>\n",
       "      <td>Combo Pack Of 4 Casual Shoes Loafer Shoes Snea...</td>\n",
       "      <td>85% off</td>\n",
       "    </tr>\n",
       "    <tr>\n",
       "      <th>1</th>\n",
       "      <td>soleivo</td>\n",
       "      <td>₹589₹89934% off</td>\n",
       "      <td>Sneakers For Men</td>\n",
       "      <td>34% off</td>\n",
       "    </tr>\n",
       "    <tr>\n",
       "      <th>2</th>\n",
       "      <td>Labbin</td>\n",
       "      <td>₹499₹99950% off</td>\n",
       "      <td>Sneakers For Men</td>\n",
       "      <td>50% off</td>\n",
       "    </tr>\n",
       "    <tr>\n",
       "      <th>3</th>\n",
       "      <td>TR</td>\n",
       "      <td>₹295₹1,49980% off</td>\n",
       "      <td>supr Sneakers For Men</td>\n",
       "      <td>80% off</td>\n",
       "    </tr>\n",
       "    <tr>\n",
       "      <th>4</th>\n",
       "      <td>Layasa</td>\n",
       "      <td>₹199₹99980% off</td>\n",
       "      <td>Breathable, Walking, Running, Casual, Gym Shoe...</td>\n",
       "      <td>80% off</td>\n",
       "    </tr>\n",
       "    <tr>\n",
       "      <th>...</th>\n",
       "      <td>...</td>\n",
       "      <td>...</td>\n",
       "      <td>...</td>\n",
       "      <td>...</td>\n",
       "    </tr>\n",
       "    <tr>\n",
       "      <th>95</th>\n",
       "      <td>Rzisbo</td>\n",
       "      <td>₹379₹99962% off</td>\n",
       "      <td>Modern Trendy Sneakers Shoes Sneakers For Men</td>\n",
       "      <td>58% off</td>\n",
       "    </tr>\n",
       "    <tr>\n",
       "      <th>96</th>\n",
       "      <td>Deals4you</td>\n",
       "      <td>₹428₹99957% off</td>\n",
       "      <td>Sneakers For Men</td>\n",
       "      <td>70% off</td>\n",
       "    </tr>\n",
       "    <tr>\n",
       "      <th>97</th>\n",
       "      <td>Shozie</td>\n",
       "      <td>₹479₹99952% off</td>\n",
       "      <td>X-Ray Game Wmn s Valentine s Sneakers For Women</td>\n",
       "      <td>61% off</td>\n",
       "    </tr>\n",
       "    <tr>\n",
       "      <th>98</th>\n",
       "      <td>Robbie jones</td>\n",
       "      <td>₹407₹1,49872% off</td>\n",
       "      <td>Sneakers For Men</td>\n",
       "      <td>60% off</td>\n",
       "    </tr>\n",
       "    <tr>\n",
       "      <th>99</th>\n",
       "      <td>BIRDE</td>\n",
       "      <td>₹498₹1,89873% off</td>\n",
       "      <td>Sneakers For Men</td>\n",
       "      <td>55% off</td>\n",
       "    </tr>\n",
       "  </tbody>\n",
       "</table>\n",
       "<p>100 rows × 4 columns</p>\n",
       "</div>"
      ],
      "text/plain": [
       "      Brand_name            P_price  \\\n",
       "0         BRUTON  ₹499₹3,49985% off   \n",
       "1        soleivo    ₹589₹89934% off   \n",
       "2         Labbin    ₹499₹99950% off   \n",
       "3             TR  ₹295₹1,49980% off   \n",
       "4         Layasa    ₹199₹99980% off   \n",
       "..           ...                ...   \n",
       "95        Rzisbo    ₹379₹99962% off   \n",
       "96     Deals4you    ₹428₹99957% off   \n",
       "97        Shozie    ₹479₹99952% off   \n",
       "98  Robbie jones  ₹407₹1,49872% off   \n",
       "99         BIRDE  ₹498₹1,89873% off   \n",
       "\n",
       "                                              Pr_desc P_discount  \n",
       "0   Combo Pack Of 4 Casual Shoes Loafer Shoes Snea...    85% off  \n",
       "1                                    Sneakers For Men    34% off  \n",
       "2                                    Sneakers For Men    50% off  \n",
       "3                               supr Sneakers For Men    80% off  \n",
       "4   Breathable, Walking, Running, Casual, Gym Shoe...    80% off  \n",
       "..                                                ...        ...  \n",
       "95      Modern Trendy Sneakers Shoes Sneakers For Men    58% off  \n",
       "96                                   Sneakers For Men    70% off  \n",
       "97    X-Ray Game Wmn s Valentine s Sneakers For Women    61% off  \n",
       "98                                   Sneakers For Men    60% off  \n",
       "99                                   Sneakers For Men    55% off  \n",
       "\n",
       "[100 rows x 4 columns]"
      ]
     },
     "execution_count": 237,
     "metadata": {},
     "output_type": "execute_result"
    }
   ],
   "source": [
    "sneakers"
   ]
  },
  {
   "cell_type": "code",
   "execution_count": 238,
   "id": "246de4ce",
   "metadata": {},
   "outputs": [
    {
     "name": "stdout",
     "output_type": "stream",
     "text": [
      "Requirement already satisfied: selenium in c:\\users\\saranya\\anaconda3\\lib\\site-packages (4.4.3)\n",
      "Requirement already satisfied: certifi>=2021.10.8 in c:\\users\\saranya\\anaconda3\\lib\\site-packages (from selenium) (2021.10.8)\n",
      "Requirement already satisfied: urllib3[socks]~=1.26 in c:\\users\\saranya\\anaconda3\\lib\\site-packages (from selenium) (1.26.7)\n",
      "Requirement already satisfied: trio-websocket~=0.9 in c:\\users\\saranya\\anaconda3\\lib\\site-packages (from selenium) (0.9.2)\n",
      "Requirement already satisfied: trio~=0.17 in c:\\users\\saranya\\anaconda3\\lib\\site-packages (from selenium) (0.21.0)\n",
      "Requirement already satisfied: sniffio in c:\\users\\saranya\\anaconda3\\lib\\site-packages (from trio~=0.17->selenium) (1.2.0)\n",
      "Requirement already satisfied: outcome in c:\\users\\saranya\\anaconda3\\lib\\site-packages (from trio~=0.17->selenium) (1.2.0)\n",
      "Requirement already satisfied: sortedcontainers in c:\\users\\saranya\\anaconda3\\lib\\site-packages (from trio~=0.17->selenium) (2.4.0)\n",
      "Requirement already satisfied: async-generator>=1.9 in c:\\users\\saranya\\anaconda3\\lib\\site-packages (from trio~=0.17->selenium) (1.10)\n",
      "Requirement already satisfied: idna in c:\\users\\saranya\\anaconda3\\lib\\site-packages (from trio~=0.17->selenium) (3.2)\n",
      "Requirement already satisfied: attrs>=19.2.0 in c:\\users\\saranya\\anaconda3\\lib\\site-packages (from trio~=0.17->selenium) (21.2.0)\n",
      "Requirement already satisfied: cffi>=1.14 in c:\\users\\saranya\\anaconda3\\lib\\site-packages (from trio~=0.17->selenium) (1.14.6)\n",
      "Requirement already satisfied: pycparser in c:\\users\\saranya\\anaconda3\\lib\\site-packages (from cffi>=1.14->trio~=0.17->selenium) (2.20)\n",
      "Requirement already satisfied: wsproto>=0.14 in c:\\users\\saranya\\anaconda3\\lib\\site-packages (from trio-websocket~=0.9->selenium) (1.2.0)\n",
      "Requirement already satisfied: PySocks!=1.5.7,<2.0,>=1.5.6 in c:\\users\\saranya\\anaconda3\\lib\\site-packages (from urllib3[socks]~=1.26->selenium) (1.7.1)\n",
      "Requirement already satisfied: h11<1,>=0.9.0 in c:\\users\\saranya\\anaconda3\\lib\\site-packages (from wsproto>=0.14->trio-websocket~=0.9->selenium) (0.13.0)\n"
     ]
    }
   ],
   "source": [
    "! pip3 install selenium"
   ]
  },
  {
   "cell_type": "code",
   "execution_count": 259,
   "id": "c8dd6fe7",
   "metadata": {},
   "outputs": [],
   "source": [
    "import selenium\n",
    "import pandas as pd\n",
    "from selenium import webdriver\n",
    "from selenium.webdriver.common.by import By\n",
    "import time\n",
    "from selenium.webdriver.chrome.service import Service\n",
    "import warnings\n",
    "warnings.filterwarnings('ignore')"
   ]
  },
  {
   "cell_type": "code",
   "execution_count": 260,
   "id": "9afab75d",
   "metadata": {},
   "outputs": [
    {
     "data": {
      "text/plain": [
       "<selenium.webdriver.chrome.webdriver.WebDriver (session=\"80d8c9e9202cae9a17e58c66ecea01a5\")>"
      ]
     },
     "execution_count": 260,
     "metadata": {},
     "output_type": "execute_result"
    }
   ],
   "source": [
    "driver = webdriver.Chrome(r\"C:\\\\Users\\\\Saranya\\\\Downloads\\\\chromedriver.exe\")\n",
    "driver"
   ]
  },
  {
   "cell_type": "code",
   "execution_count": 261,
   "id": "1531586a",
   "metadata": {},
   "outputs": [],
   "source": [
    "url = \"https://www.myntra.com/shoes\"\n",
    "driver.get(url)"
   ]
  },
  {
   "cell_type": "code",
   "execution_count": 262,
   "id": "4939018c",
   "metadata": {},
   "outputs": [
    {
     "ename": "SyntaxError",
     "evalue": "invalid syntax (Temp/ipykernel_20920/2301539119.py, line 3)",
     "output_type": "error",
     "traceback": [
      "\u001b[1;36m  File \u001b[1;32m\"C:\\Users\\Saranya\\AppData\\Local\\Temp/ipykernel_20920/2301539119.py\"\u001b[1;36m, line \u001b[1;32m3\u001b[0m\n\u001b[1;33m    if i.text==:\u001b[0m\n\u001b[1;37m               ^\u001b[0m\n\u001b[1;31mSyntaxError\u001b[0m\u001b[1;31m:\u001b[0m invalid syntax\n"
     ]
    }
   ],
   "source": [
    "filter_button=driver.find_elements(By.XPATH, \"\")\n",
    "for i in filter_button:\n",
    "    if i.text==:\n",
    "        i.click()\n",
    "        break"
   ]
  },
  {
   "cell_type": "markdown",
   "id": "f2698e38",
   "metadata": {},
   "source": [
    "could not inspect from the given website and tried on google also but could not inspect"
   ]
  },
  {
   "cell_type": "code",
   "execution_count": 242,
   "id": "f4674347",
   "metadata": {},
   "outputs": [
    {
     "name": "stdout",
     "output_type": "stream",
     "text": [
      "Requirement already satisfied: selenium in c:\\users\\saranya\\anaconda3\\lib\\site-packages (4.4.3)\n",
      "Requirement already satisfied: certifi>=2021.10.8 in c:\\users\\saranya\\anaconda3\\lib\\site-packages (from selenium) (2021.10.8)\n",
      "Requirement already satisfied: trio~=0.17 in c:\\users\\saranya\\anaconda3\\lib\\site-packages (from selenium) (0.21.0)\n",
      "Requirement already satisfied: trio-websocket~=0.9 in c:\\users\\saranya\\anaconda3\\lib\\site-packages (from selenium) (0.9.2)\n",
      "Requirement already satisfied: urllib3[socks]~=1.26 in c:\\users\\saranya\\anaconda3\\lib\\site-packages (from selenium) (1.26.7)\n",
      "Requirement already satisfied: attrs>=19.2.0 in c:\\users\\saranya\\anaconda3\\lib\\site-packages (from trio~=0.17->selenium) (21.2.0)\n",
      "Requirement already satisfied: idna in c:\\users\\saranya\\anaconda3\\lib\\site-packages (from trio~=0.17->selenium) (3.2)\n",
      "Requirement already satisfied: cffi>=1.14 in c:\\users\\saranya\\anaconda3\\lib\\site-packages (from trio~=0.17->selenium) (1.14.6)\n",
      "Requirement already satisfied: async-generator>=1.9 in c:\\users\\saranya\\anaconda3\\lib\\site-packages (from trio~=0.17->selenium) (1.10)\n",
      "Requirement already satisfied: sortedcontainers in c:\\users\\saranya\\anaconda3\\lib\\site-packages (from trio~=0.17->selenium) (2.4.0)\n",
      "Requirement already satisfied: sniffio in c:\\users\\saranya\\anaconda3\\lib\\site-packages (from trio~=0.17->selenium) (1.2.0)\n",
      "Requirement already satisfied: outcome in c:\\users\\saranya\\anaconda3\\lib\\site-packages (from trio~=0.17->selenium) (1.2.0)\n",
      "Requirement already satisfied: pycparser in c:\\users\\saranya\\anaconda3\\lib\\site-packages (from cffi>=1.14->trio~=0.17->selenium) (2.20)\n",
      "Requirement already satisfied: wsproto>=0.14 in c:\\users\\saranya\\anaconda3\\lib\\site-packages (from trio-websocket~=0.9->selenium) (1.2.0)\n",
      "Requirement already satisfied: PySocks!=1.5.7,<2.0,>=1.5.6 in c:\\users\\saranya\\anaconda3\\lib\\site-packages (from urllib3[socks]~=1.26->selenium) (1.7.1)\n",
      "Requirement already satisfied: h11<1,>=0.9.0 in c:\\users\\saranya\\anaconda3\\lib\\site-packages (from wsproto>=0.14->trio-websocket~=0.9->selenium) (0.13.0)\n"
     ]
    }
   ],
   "source": [
    "! pip3 install selenium"
   ]
  },
  {
   "cell_type": "code",
   "execution_count": 263,
   "id": "d8613fd3",
   "metadata": {},
   "outputs": [],
   "source": [
    "import selenium\n",
    "import pandas as pd\n",
    "from selenium import webdriver\n",
    "from selenium.webdriver.common.by import By\n",
    "import time\n",
    "from selenium.webdriver.chrome.service import Service\n",
    "import warnings\n",
    "warnings.filterwarnings('ignore')"
   ]
  },
  {
   "cell_type": "code",
   "execution_count": 264,
   "id": "4d5196c4",
   "metadata": {},
   "outputs": [
    {
     "data": {
      "text/plain": [
       "<selenium.webdriver.chrome.webdriver.WebDriver (session=\"130bbd0bcff7caa427f2efc9e30c192c\")>"
      ]
     },
     "execution_count": 264,
     "metadata": {},
     "output_type": "execute_result"
    }
   ],
   "source": [
    "driver = webdriver.Chrome(r\"C:\\\\Users\\\\Saranya\\\\Downloads\\\\chromedriver.exe\")\n",
    "driver"
   ]
  },
  {
   "cell_type": "code",
   "execution_count": 265,
   "id": "5101c64a",
   "metadata": {},
   "outputs": [],
   "source": [
    "url = \"https://www.amazon.in\"\n",
    "driver.get(url)"
   ]
  },
  {
   "cell_type": "code",
   "execution_count": 266,
   "id": "9dabf0bf",
   "metadata": {},
   "outputs": [
    {
     "data": {
      "text/plain": [
       "<selenium.webdriver.remote.webelement.WebElement (session=\"130bbd0bcff7caa427f2efc9e30c192c\", element=\"195ef9db-44d4-40cc-81d0-ad3e2ede1423\")>"
      ]
     },
     "execution_count": 266,
     "metadata": {},
     "output_type": "execute_result"
    }
   ],
   "source": [
    "search_g= driver.find_element(By.XPATH, \"//input[@type='text']\")\n",
    "search_g"
   ]
  },
  {
   "cell_type": "code",
   "execution_count": 267,
   "id": "c740f6d3",
   "metadata": {},
   "outputs": [],
   "source": [
    "search_g.send_keys('laptop')"
   ]
  },
  {
   "cell_type": "code",
   "execution_count": 277,
   "id": "d359e158",
   "metadata": {},
   "outputs": [
    {
     "ename": "WebDriverException",
     "evalue": "Message: chrome not reachable\n  (Session info: chrome=105.0.5195.102)\nStacktrace:\nBacktrace:\n\tOrdinal0 [0x0065DF13+2219795]\n\tOrdinal0 [0x005F2841+1779777]\n\tOrdinal0 [0x00504100+803072]\n\tOrdinal0 [0x004F9BF2+760818]\n\tOrdinal0 [0x004ECD35+707893]\n\tOrdinal0 [0x004F1122+725282]\n\tOrdinal0 [0x004F5699+743065]\n\tOrdinal0 [0x00505610+808464]\n\tOrdinal0 [0x0055E93A+1173818]\n\tOrdinal0 [0x0054E616+1107478]\n\tOrdinal0 [0x00527F89+950153]\n\tOrdinal0 [0x00528F56+954198]\n\tGetHandleVerifier [0x00952CB2+3040210]\n\tGetHandleVerifier [0x00942BB4+2974420]\n\tGetHandleVerifier [0x006F6A0A+565546]\n\tGetHandleVerifier [0x006F5680+560544]\n\tOrdinal0 [0x005F9A5C+1808988]\n\tOrdinal0 [0x005FE3A8+1827752]\n\tOrdinal0 [0x005FE495+1827989]\n\tOrdinal0 [0x006080A4+1867940]\n\tBaseThreadInitThunk [0x7567FA29+25]\n\tRtlGetAppContainerNamedObjectPath [0x77407A9E+286]\n\tRtlGetAppContainerNamedObjectPath [0x77407A6E+238]\n",
     "output_type": "error",
     "traceback": [
      "\u001b[1;31m---------------------------------------------------------------------------\u001b[0m",
      "\u001b[1;31mWebDriverException\u001b[0m                        Traceback (most recent call last)",
      "\u001b[1;32m~\\AppData\\Local\\Temp/ipykernel_20920/220695294.py\u001b[0m in \u001b[0;36m<module>\u001b[1;34m\u001b[0m\n\u001b[1;32m----> 1\u001b[1;33m \u001b[0msearch_btn\u001b[0m\u001b[1;33m=\u001b[0m\u001b[0mdriver\u001b[0m\u001b[1;33m.\u001b[0m\u001b[0mfind_element\u001b[0m\u001b[1;33m(\u001b[0m\u001b[0mBy\u001b[0m\u001b[1;33m.\u001b[0m\u001b[0mXPATH\u001b[0m\u001b[1;33m,\u001b[0m \u001b[1;34m\"//input[@id='nav-search-submit-button']\"\u001b[0m\u001b[1;33m)\u001b[0m\u001b[1;33m\u001b[0m\u001b[1;33m\u001b[0m\u001b[0m\n\u001b[0m\u001b[0;32m      2\u001b[0m \u001b[0msearch_btn\u001b[0m\u001b[1;33m\u001b[0m\u001b[1;33m\u001b[0m\u001b[0m\n",
      "\u001b[1;32m~\\anaconda3\\lib\\site-packages\\selenium\\webdriver\\remote\\webdriver.py\u001b[0m in \u001b[0;36mfind_element\u001b[1;34m(self, by, value)\u001b[0m\n\u001b[0;32m    853\u001b[0m             \u001b[0mvalue\u001b[0m \u001b[1;33m=\u001b[0m \u001b[1;34m'[name=\"%s\"]'\u001b[0m \u001b[1;33m%\u001b[0m \u001b[0mvalue\u001b[0m\u001b[1;33m\u001b[0m\u001b[1;33m\u001b[0m\u001b[0m\n\u001b[0;32m    854\u001b[0m \u001b[1;33m\u001b[0m\u001b[0m\n\u001b[1;32m--> 855\u001b[1;33m         return self.execute(Command.FIND_ELEMENT, {\n\u001b[0m\u001b[0;32m    856\u001b[0m             \u001b[1;34m'using'\u001b[0m\u001b[1;33m:\u001b[0m \u001b[0mby\u001b[0m\u001b[1;33m,\u001b[0m\u001b[1;33m\u001b[0m\u001b[1;33m\u001b[0m\u001b[0m\n\u001b[0;32m    857\u001b[0m             'value': value})['value']\n",
      "\u001b[1;32m~\\anaconda3\\lib\\site-packages\\selenium\\webdriver\\remote\\webdriver.py\u001b[0m in \u001b[0;36mexecute\u001b[1;34m(self, driver_command, params)\u001b[0m\n\u001b[0;32m    426\u001b[0m         \u001b[0mresponse\u001b[0m \u001b[1;33m=\u001b[0m \u001b[0mself\u001b[0m\u001b[1;33m.\u001b[0m\u001b[0mcommand_executor\u001b[0m\u001b[1;33m.\u001b[0m\u001b[0mexecute\u001b[0m\u001b[1;33m(\u001b[0m\u001b[0mdriver_command\u001b[0m\u001b[1;33m,\u001b[0m \u001b[0mparams\u001b[0m\u001b[1;33m)\u001b[0m\u001b[1;33m\u001b[0m\u001b[1;33m\u001b[0m\u001b[0m\n\u001b[0;32m    427\u001b[0m         \u001b[1;32mif\u001b[0m \u001b[0mresponse\u001b[0m\u001b[1;33m:\u001b[0m\u001b[1;33m\u001b[0m\u001b[1;33m\u001b[0m\u001b[0m\n\u001b[1;32m--> 428\u001b[1;33m             \u001b[0mself\u001b[0m\u001b[1;33m.\u001b[0m\u001b[0merror_handler\u001b[0m\u001b[1;33m.\u001b[0m\u001b[0mcheck_response\u001b[0m\u001b[1;33m(\u001b[0m\u001b[0mresponse\u001b[0m\u001b[1;33m)\u001b[0m\u001b[1;33m\u001b[0m\u001b[1;33m\u001b[0m\u001b[0m\n\u001b[0m\u001b[0;32m    429\u001b[0m             response['value'] = self._unwrap_value(\n\u001b[0;32m    430\u001b[0m                 response.get('value', None))\n",
      "\u001b[1;32m~\\anaconda3\\lib\\site-packages\\selenium\\webdriver\\remote\\errorhandler.py\u001b[0m in \u001b[0;36mcheck_response\u001b[1;34m(self, response)\u001b[0m\n\u001b[0;32m    241\u001b[0m                 \u001b[0malert_text\u001b[0m \u001b[1;33m=\u001b[0m \u001b[0mvalue\u001b[0m\u001b[1;33m[\u001b[0m\u001b[1;34m'alert'\u001b[0m\u001b[1;33m]\u001b[0m\u001b[1;33m.\u001b[0m\u001b[0mget\u001b[0m\u001b[1;33m(\u001b[0m\u001b[1;34m'text'\u001b[0m\u001b[1;33m)\u001b[0m\u001b[1;33m\u001b[0m\u001b[1;33m\u001b[0m\u001b[0m\n\u001b[0;32m    242\u001b[0m             \u001b[1;32mraise\u001b[0m \u001b[0mexception_class\u001b[0m\u001b[1;33m(\u001b[0m\u001b[0mmessage\u001b[0m\u001b[1;33m,\u001b[0m \u001b[0mscreen\u001b[0m\u001b[1;33m,\u001b[0m \u001b[0mstacktrace\u001b[0m\u001b[1;33m,\u001b[0m \u001b[0malert_text\u001b[0m\u001b[1;33m)\u001b[0m  \u001b[1;31m# type: ignore[call-arg]  # mypy is not smart enough here\u001b[0m\u001b[1;33m\u001b[0m\u001b[1;33m\u001b[0m\u001b[0m\n\u001b[1;32m--> 243\u001b[1;33m         \u001b[1;32mraise\u001b[0m \u001b[0mexception_class\u001b[0m\u001b[1;33m(\u001b[0m\u001b[0mmessage\u001b[0m\u001b[1;33m,\u001b[0m \u001b[0mscreen\u001b[0m\u001b[1;33m,\u001b[0m \u001b[0mstacktrace\u001b[0m\u001b[1;33m)\u001b[0m\u001b[1;33m\u001b[0m\u001b[1;33m\u001b[0m\u001b[0m\n\u001b[0m",
      "\u001b[1;31mWebDriverException\u001b[0m: Message: chrome not reachable\n  (Session info: chrome=105.0.5195.102)\nStacktrace:\nBacktrace:\n\tOrdinal0 [0x0065DF13+2219795]\n\tOrdinal0 [0x005F2841+1779777]\n\tOrdinal0 [0x00504100+803072]\n\tOrdinal0 [0x004F9BF2+760818]\n\tOrdinal0 [0x004ECD35+707893]\n\tOrdinal0 [0x004F1122+725282]\n\tOrdinal0 [0x004F5699+743065]\n\tOrdinal0 [0x00505610+808464]\n\tOrdinal0 [0x0055E93A+1173818]\n\tOrdinal0 [0x0054E616+1107478]\n\tOrdinal0 [0x00527F89+950153]\n\tOrdinal0 [0x00528F56+954198]\n\tGetHandleVerifier [0x00952CB2+3040210]\n\tGetHandleVerifier [0x00942BB4+2974420]\n\tGetHandleVerifier [0x006F6A0A+565546]\n\tGetHandleVerifier [0x006F5680+560544]\n\tOrdinal0 [0x005F9A5C+1808988]\n\tOrdinal0 [0x005FE3A8+1827752]\n\tOrdinal0 [0x005FE495+1827989]\n\tOrdinal0 [0x006080A4+1867940]\n\tBaseThreadInitThunk [0x7567FA29+25]\n\tRtlGetAppContainerNamedObjectPath [0x77407A9E+286]\n\tRtlGetAppContainerNamedObjectPath [0x77407A6E+238]\n"
     ]
    }
   ],
   "source": [
    "search_btn=driver.find_element(By.XPATH, \"//input[@id='nav-search-submit-button']\")\n",
    "search_btn"
   ]
  },
  {
   "cell_type": "code",
   "execution_count": null,
   "id": "2e89c3b1",
   "metadata": {},
   "outputs": [],
   "source": [
    "search_btn= driver.find_element(By.XPATH, \"//input[@id='nav-search-submit-button']\")\n",
    "search_btn.click()"
   ]
  },
  {
   "cell_type": "code",
   "execution_count": null,
   "id": "a0dfa259",
   "metadata": {},
   "outputs": [],
   "source": [
    "Title=[]\n",
    "Price=[]\n",
    "Rating=[]"
   ]
  },
  {
   "cell_type": "code",
   "execution_count": 278,
   "id": "0bbabf74",
   "metadata": {},
   "outputs": [
    {
     "ename": "WebDriverException",
     "evalue": "Message: chrome not reachable\n  (Session info: chrome=105.0.5195.102)\nStacktrace:\nBacktrace:\n\tOrdinal0 [0x0065DF13+2219795]\n\tOrdinal0 [0x005F2841+1779777]\n\tOrdinal0 [0x00504100+803072]\n\tOrdinal0 [0x004F9BF2+760818]\n\tOrdinal0 [0x004ECD35+707893]\n\tOrdinal0 [0x004F1122+725282]\n\tOrdinal0 [0x004F5699+743065]\n\tOrdinal0 [0x00505610+808464]\n\tOrdinal0 [0x0055E93A+1173818]\n\tOrdinal0 [0x0054E616+1107478]\n\tOrdinal0 [0x00527F89+950153]\n\tOrdinal0 [0x00528F56+954198]\n\tGetHandleVerifier [0x00952CB2+3040210]\n\tGetHandleVerifier [0x00942BB4+2974420]\n\tGetHandleVerifier [0x006F6A0A+565546]\n\tGetHandleVerifier [0x006F5680+560544]\n\tOrdinal0 [0x005F9A5C+1808988]\n\tOrdinal0 [0x005FE3A8+1827752]\n\tOrdinal0 [0x005FE495+1827989]\n\tOrdinal0 [0x006080A4+1867940]\n\tBaseThreadInitThunk [0x7567FA29+25]\n\tRtlGetAppContainerNamedObjectPath [0x77407A9E+286]\n\tRtlGetAppContainerNamedObjectPath [0x77407A6E+238]\n",
     "output_type": "error",
     "traceback": [
      "\u001b[1;31m---------------------------------------------------------------------------\u001b[0m",
      "\u001b[1;31mWebDriverException\u001b[0m                        Traceback (most recent call last)",
      "\u001b[1;32m~\\AppData\\Local\\Temp/ipykernel_20920/1733736148.py\u001b[0m in \u001b[0;36m<module>\u001b[1;34m\u001b[0m\n\u001b[0;32m      1\u001b[0m \u001b[1;32mfor\u001b[0m \u001b[0mi\u001b[0m \u001b[1;32min\u001b[0m \u001b[0mrange\u001b[0m\u001b[1;33m(\u001b[0m\u001b[1;36m3\u001b[0m\u001b[1;33m)\u001b[0m\u001b[1;33m:\u001b[0m\u001b[1;33m\u001b[0m\u001b[1;33m\u001b[0m\u001b[0m\n\u001b[1;32m----> 2\u001b[1;33m     \u001b[0mtitle\u001b[0m\u001b[1;33m=\u001b[0m\u001b[0mdriver\u001b[0m\u001b[1;33m.\u001b[0m\u001b[0mfind_elements\u001b[0m\u001b[1;33m(\u001b[0m\u001b[0mBy\u001b[0m\u001b[1;33m.\u001b[0m\u001b[0mXPATH\u001b[0m\u001b[1;33m,\u001b[0m \u001b[1;34m\"//a[@class='a-size-medium a-color-base a-text-normal']/span\"\u001b[0m\u001b[1;33m)\u001b[0m\u001b[1;33m\u001b[0m\u001b[1;33m\u001b[0m\u001b[0m\n\u001b[0m\u001b[0;32m      3\u001b[0m     \u001b[0mprice\u001b[0m\u001b[1;33m=\u001b[0m\u001b[0mdriver\u001b[0m\u001b[1;33m.\u001b[0m\u001b[0mfind_elements\u001b[0m\u001b[1;33m(\u001b[0m\u001b[0mBy\u001b[0m\u001b[1;33m.\u001b[0m\u001b[0mXPATH\u001b[0m\u001b[1;33m,\u001b[0m \u001b[1;34m\"//a[@class='a-price-whole']/span\"\u001b[0m\u001b[1;33m)\u001b[0m\u001b[1;33m\u001b[0m\u001b[1;33m\u001b[0m\u001b[0m\n\u001b[0;32m      4\u001b[0m     \u001b[0mrating\u001b[0m \u001b[1;33m=\u001b[0m\u001b[0mdriver\u001b[0m\u001b[1;33m.\u001b[0m\u001b[0mfind_elements\u001b[0m\u001b[1;33m(\u001b[0m\u001b[0mBy\u001b[0m\u001b[1;33m.\u001b[0m\u001b[0mXPATH\u001b[0m\u001b[1;33m,\u001b[0m\u001b[1;34m\"//i[@class='a-icon a-icon-star-small a-star-small-4 aok-align-bottom']\"\u001b[0m\u001b[1;33m)\u001b[0m\u001b[1;33m\u001b[0m\u001b[1;33m\u001b[0m\u001b[0m\n\u001b[0;32m      5\u001b[0m \u001b[1;33m\u001b[0m\u001b[0m\n",
      "\u001b[1;32m~\\anaconda3\\lib\\site-packages\\selenium\\webdriver\\remote\\webdriver.py\u001b[0m in \u001b[0;36mfind_elements\u001b[1;34m(self, by, value)\u001b[0m\n\u001b[0;32m    886\u001b[0m         \u001b[1;31m# Return empty list if driver returns null\u001b[0m\u001b[1;33m\u001b[0m\u001b[1;33m\u001b[0m\u001b[0m\n\u001b[0;32m    887\u001b[0m         \u001b[1;31m# See https://github.com/SeleniumHQ/selenium/issues/4555\u001b[0m\u001b[1;33m\u001b[0m\u001b[1;33m\u001b[0m\u001b[0m\n\u001b[1;32m--> 888\u001b[1;33m         return self.execute(Command.FIND_ELEMENTS, {\n\u001b[0m\u001b[0;32m    889\u001b[0m             \u001b[1;34m'using'\u001b[0m\u001b[1;33m:\u001b[0m \u001b[0mby\u001b[0m\u001b[1;33m,\u001b[0m\u001b[1;33m\u001b[0m\u001b[1;33m\u001b[0m\u001b[0m\n\u001b[0;32m    890\u001b[0m             'value': value})['value'] or []\n",
      "\u001b[1;32m~\\anaconda3\\lib\\site-packages\\selenium\\webdriver\\remote\\webdriver.py\u001b[0m in \u001b[0;36mexecute\u001b[1;34m(self, driver_command, params)\u001b[0m\n\u001b[0;32m    426\u001b[0m         \u001b[0mresponse\u001b[0m \u001b[1;33m=\u001b[0m \u001b[0mself\u001b[0m\u001b[1;33m.\u001b[0m\u001b[0mcommand_executor\u001b[0m\u001b[1;33m.\u001b[0m\u001b[0mexecute\u001b[0m\u001b[1;33m(\u001b[0m\u001b[0mdriver_command\u001b[0m\u001b[1;33m,\u001b[0m \u001b[0mparams\u001b[0m\u001b[1;33m)\u001b[0m\u001b[1;33m\u001b[0m\u001b[1;33m\u001b[0m\u001b[0m\n\u001b[0;32m    427\u001b[0m         \u001b[1;32mif\u001b[0m \u001b[0mresponse\u001b[0m\u001b[1;33m:\u001b[0m\u001b[1;33m\u001b[0m\u001b[1;33m\u001b[0m\u001b[0m\n\u001b[1;32m--> 428\u001b[1;33m             \u001b[0mself\u001b[0m\u001b[1;33m.\u001b[0m\u001b[0merror_handler\u001b[0m\u001b[1;33m.\u001b[0m\u001b[0mcheck_response\u001b[0m\u001b[1;33m(\u001b[0m\u001b[0mresponse\u001b[0m\u001b[1;33m)\u001b[0m\u001b[1;33m\u001b[0m\u001b[1;33m\u001b[0m\u001b[0m\n\u001b[0m\u001b[0;32m    429\u001b[0m             response['value'] = self._unwrap_value(\n\u001b[0;32m    430\u001b[0m                 response.get('value', None))\n",
      "\u001b[1;32m~\\anaconda3\\lib\\site-packages\\selenium\\webdriver\\remote\\errorhandler.py\u001b[0m in \u001b[0;36mcheck_response\u001b[1;34m(self, response)\u001b[0m\n\u001b[0;32m    241\u001b[0m                 \u001b[0malert_text\u001b[0m \u001b[1;33m=\u001b[0m \u001b[0mvalue\u001b[0m\u001b[1;33m[\u001b[0m\u001b[1;34m'alert'\u001b[0m\u001b[1;33m]\u001b[0m\u001b[1;33m.\u001b[0m\u001b[0mget\u001b[0m\u001b[1;33m(\u001b[0m\u001b[1;34m'text'\u001b[0m\u001b[1;33m)\u001b[0m\u001b[1;33m\u001b[0m\u001b[1;33m\u001b[0m\u001b[0m\n\u001b[0;32m    242\u001b[0m             \u001b[1;32mraise\u001b[0m \u001b[0mexception_class\u001b[0m\u001b[1;33m(\u001b[0m\u001b[0mmessage\u001b[0m\u001b[1;33m,\u001b[0m \u001b[0mscreen\u001b[0m\u001b[1;33m,\u001b[0m \u001b[0mstacktrace\u001b[0m\u001b[1;33m,\u001b[0m \u001b[0malert_text\u001b[0m\u001b[1;33m)\u001b[0m  \u001b[1;31m# type: ignore[call-arg]  # mypy is not smart enough here\u001b[0m\u001b[1;33m\u001b[0m\u001b[1;33m\u001b[0m\u001b[0m\n\u001b[1;32m--> 243\u001b[1;33m         \u001b[1;32mraise\u001b[0m \u001b[0mexception_class\u001b[0m\u001b[1;33m(\u001b[0m\u001b[0mmessage\u001b[0m\u001b[1;33m,\u001b[0m \u001b[0mscreen\u001b[0m\u001b[1;33m,\u001b[0m \u001b[0mstacktrace\u001b[0m\u001b[1;33m)\u001b[0m\u001b[1;33m\u001b[0m\u001b[1;33m\u001b[0m\u001b[0m\n\u001b[0m",
      "\u001b[1;31mWebDriverException\u001b[0m: Message: chrome not reachable\n  (Session info: chrome=105.0.5195.102)\nStacktrace:\nBacktrace:\n\tOrdinal0 [0x0065DF13+2219795]\n\tOrdinal0 [0x005F2841+1779777]\n\tOrdinal0 [0x00504100+803072]\n\tOrdinal0 [0x004F9BF2+760818]\n\tOrdinal0 [0x004ECD35+707893]\n\tOrdinal0 [0x004F1122+725282]\n\tOrdinal0 [0x004F5699+743065]\n\tOrdinal0 [0x00505610+808464]\n\tOrdinal0 [0x0055E93A+1173818]\n\tOrdinal0 [0x0054E616+1107478]\n\tOrdinal0 [0x00527F89+950153]\n\tOrdinal0 [0x00528F56+954198]\n\tGetHandleVerifier [0x00952CB2+3040210]\n\tGetHandleVerifier [0x00942BB4+2974420]\n\tGetHandleVerifier [0x006F6A0A+565546]\n\tGetHandleVerifier [0x006F5680+560544]\n\tOrdinal0 [0x005F9A5C+1808988]\n\tOrdinal0 [0x005FE3A8+1827752]\n\tOrdinal0 [0x005FE495+1827989]\n\tOrdinal0 [0x006080A4+1867940]\n\tBaseThreadInitThunk [0x7567FA29+25]\n\tRtlGetAppContainerNamedObjectPath [0x77407A9E+286]\n\tRtlGetAppContainerNamedObjectPath [0x77407A6E+238]\n"
     ]
    }
   ],
   "source": [
    "for i in range(3):\n",
    "    title=driver.find_elements(By.XPATH, \"//a[@class='a-size-medium a-color-base a-text-normal']/span\")\n",
    "    price=driver.find_elements(By.XPATH, \"//a[@class='a-price-whole']/span\")\n",
    "    rating =driver.find_elements(By.XPATH,\"//i[@class='a-icon a-icon-star-small a-star-small-4 aok-align-bottom']\")\n",
    "    \n",
    "    \n",
    "    for j  in Title:\n",
    "        Title.append(j.text)\n",
    "    Title[:100]    \n",
    "    \n",
    "        \n",
    "    for k in Price:\n",
    "        Price.append(k.text)\n",
    "    Price[:100] \n",
    "    \n",
    "    \n",
    "    for l in Rating:\n",
    "        Rating.append(l.text)\n",
    "    Rating[:100] \n",
    "    "
   ]
  },
  {
   "cell_type": "code",
   "execution_count": 275,
   "id": "a30adb6d",
   "metadata": {},
   "outputs": [
    {
     "name": "stdout",
     "output_type": "stream",
     "text": [
      "Requirement already satisfied: selenium in c:\\users\\saranya\\anaconda3\\lib\\site-packages (4.4.3)\n",
      "Requirement already satisfied: certifi>=2021.10.8 in c:\\users\\saranya\\anaconda3\\lib\\site-packages (from selenium) (2021.10.8)\n",
      "Requirement already satisfied: trio~=0.17 in c:\\users\\saranya\\anaconda3\\lib\\site-packages (from selenium) (0.21.0)\n",
      "Requirement already satisfied: trio-websocket~=0.9 in c:\\users\\saranya\\anaconda3\\lib\\site-packages (from selenium) (0.9.2)\n",
      "Requirement already satisfied: urllib3[socks]~=1.26 in c:\\users\\saranya\\anaconda3\\lib\\site-packages (from selenium) (1.26.7)\n",
      "Requirement already satisfied: sniffio in c:\\users\\saranya\\anaconda3\\lib\\site-packages (from trio~=0.17->selenium) (1.2.0)\n",
      "Requirement already satisfied: idna in c:\\users\\saranya\\anaconda3\\lib\\site-packages (from trio~=0.17->selenium) (3.2)\n",
      "Requirement already satisfied: sortedcontainers in c:\\users\\saranya\\anaconda3\\lib\\site-packages (from trio~=0.17->selenium) (2.4.0)\n",
      "Requirement already satisfied: outcome in c:\\users\\saranya\\anaconda3\\lib\\site-packages (from trio~=0.17->selenium) (1.2.0)\n",
      "Requirement already satisfied: async-generator>=1.9 in c:\\users\\saranya\\anaconda3\\lib\\site-packages (from trio~=0.17->selenium) (1.10)\n",
      "Requirement already satisfied: cffi>=1.14 in c:\\users\\saranya\\anaconda3\\lib\\site-packages (from trio~=0.17->selenium) (1.14.6)\n",
      "Requirement already satisfied: attrs>=19.2.0 in c:\\users\\saranya\\anaconda3\\lib\\site-packages (from trio~=0.17->selenium) (21.2.0)\n",
      "Requirement already satisfied: pycparser in c:\\users\\saranya\\anaconda3\\lib\\site-packages (from cffi>=1.14->trio~=0.17->selenium) (2.20)\n",
      "Requirement already satisfied: wsproto>=0.14 in c:\\users\\saranya\\anaconda3\\lib\\site-packages (from trio-websocket~=0.9->selenium) (1.2.0)\n",
      "Requirement already satisfied: PySocks!=1.5.7,<2.0,>=1.5.6 in c:\\users\\saranya\\anaconda3\\lib\\site-packages (from urllib3[socks]~=1.26->selenium) (1.7.1)\n",
      "Requirement already satisfied: h11<1,>=0.9.0 in c:\\users\\saranya\\anaconda3\\lib\\site-packages (from wsproto>=0.14->trio-websocket~=0.9->selenium) (0.13.0)\n"
     ]
    }
   ],
   "source": [
    "! pip3 install selenium"
   ]
  },
  {
   "cell_type": "code",
   "execution_count": 292,
   "id": "dc6cbd7d",
   "metadata": {},
   "outputs": [],
   "source": [
    "import selenium\n",
    "import pandas as pd\n",
    "from selenium import webdriver\n",
    "from selenium.webdriver.common.by import By\n",
    "import time\n",
    "from selenium.webdriver.chrome.service import Service\n",
    "import warnings\n",
    "warnings.filterwarnings('ignore')"
   ]
  },
  {
   "cell_type": "code",
   "execution_count": 293,
   "id": "0000eb77",
   "metadata": {},
   "outputs": [
    {
     "data": {
      "text/plain": [
       "<selenium.webdriver.chrome.webdriver.WebDriver (session=\"60cd1bae41b6e9e6137ec22c7269d441\")>"
      ]
     },
     "execution_count": 293,
     "metadata": {},
     "output_type": "execute_result"
    }
   ],
   "source": [
    "driver = webdriver.Chrome(r\"C:\\\\Users\\\\Saranya\\\\Downloads\\\\chromedriver.exe\")\n",
    "driver"
   ]
  },
  {
   "cell_type": "code",
   "execution_count": 294,
   "id": "d80d6336",
   "metadata": {},
   "outputs": [],
   "source": [
    "url = \"https://www.ambitionbox.com\"\n",
    "driver.get(url)"
   ]
  },
  {
   "cell_type": "code",
   "execution_count": 296,
   "id": "7e345dca",
   "metadata": {},
   "outputs": [
    {
     "data": {
      "text/plain": [
       "<selenium.webdriver.remote.webelement.WebElement (session=\"60cd1bae41b6e9e6137ec22c7269d441\", element=\"60058208-f59b-4aa5-87ec-fc191317eb2a\")>"
      ]
     },
     "execution_count": 296,
     "metadata": {},
     "output_type": "execute_result"
    }
   ],
   "source": [
    "search_job= driver.find_element(By.XPATH, \"//a[@class='title noclick']\")\n",
    "search_job"
   ]
  },
  {
   "cell_type": "code",
   "execution_count": 297,
   "id": "31f16508",
   "metadata": {},
   "outputs": [
    {
     "ename": "WebDriverException",
     "evalue": "Message: chrome not reachable\n  (Session info: chrome=105.0.5195.102)\nStacktrace:\nBacktrace:\n\tOrdinal0 [0x0065DF13+2219795]\n\tOrdinal0 [0x005F2841+1779777]\n\tOrdinal0 [0x00504100+803072]\n\tOrdinal0 [0x004F9BF2+760818]\n\tOrdinal0 [0x004ECD35+707893]\n\tOrdinal0 [0x004F1122+725282]\n\tOrdinal0 [0x004F5699+743065]\n\tOrdinal0 [0x00505610+808464]\n\tOrdinal0 [0x0055E93A+1173818]\n\tOrdinal0 [0x0054E616+1107478]\n\tOrdinal0 [0x00527F89+950153]\n\tOrdinal0 [0x00528F56+954198]\n\tGetHandleVerifier [0x00952CB2+3040210]\n\tGetHandleVerifier [0x00942BB4+2974420]\n\tGetHandleVerifier [0x006F6A0A+565546]\n\tGetHandleVerifier [0x006F5680+560544]\n\tOrdinal0 [0x005F9A5C+1808988]\n\tOrdinal0 [0x005FE3A8+1827752]\n\tOrdinal0 [0x005FE495+1827989]\n\tOrdinal0 [0x006080A4+1867940]\n\tBaseThreadInitThunk [0x7567FA29+25]\n\tRtlGetAppContainerNamedObjectPath [0x77407A9E+286]\n\tRtlGetAppContainerNamedObjectPath [0x77407A6E+238]\n",
     "output_type": "error",
     "traceback": [
      "\u001b[1;31m---------------------------------------------------------------------------\u001b[0m",
      "\u001b[1;31mWebDriverException\u001b[0m                        Traceback (most recent call last)",
      "\u001b[1;32m~\\AppData\\Local\\Temp/ipykernel_20920/1087248952.py\u001b[0m in \u001b[0;36m<module>\u001b[1;34m\u001b[0m\n\u001b[1;32m----> 1\u001b[1;33m \u001b[0mdesignation\u001b[0m\u001b[1;33m.\u001b[0m\u001b[0msend_keys\u001b[0m\u001b[1;33m(\u001b[0m\u001b[1;34m'Quality Engineer'\u001b[0m\u001b[1;33m)\u001b[0m\u001b[1;33m\u001b[0m\u001b[1;33m\u001b[0m\u001b[0m\n\u001b[0m",
      "\u001b[1;32m~\\anaconda3\\lib\\site-packages\\selenium\\webdriver\\remote\\webelement.py\u001b[0m in \u001b[0;36msend_keys\u001b[1;34m(self, *value)\u001b[0m\n\u001b[0;32m    221\u001b[0m                 \u001b[0mvalue\u001b[0m \u001b[1;33m=\u001b[0m \u001b[1;34m'\\n'\u001b[0m\u001b[1;33m.\u001b[0m\u001b[0mjoin\u001b[0m\u001b[1;33m(\u001b[0m\u001b[0mremote_files\u001b[0m\u001b[1;33m)\u001b[0m\u001b[1;33m\u001b[0m\u001b[1;33m\u001b[0m\u001b[0m\n\u001b[0;32m    222\u001b[0m \u001b[1;33m\u001b[0m\u001b[0m\n\u001b[1;32m--> 223\u001b[1;33m         self._execute(Command.SEND_KEYS_TO_ELEMENT,\n\u001b[0m\u001b[0;32m    224\u001b[0m                       {'text': \"\".join(keys_to_typing(value)),\n\u001b[0;32m    225\u001b[0m                        'value': keys_to_typing(value)})\n",
      "\u001b[1;32m~\\anaconda3\\lib\\site-packages\\selenium\\webdriver\\remote\\webelement.py\u001b[0m in \u001b[0;36m_execute\u001b[1;34m(self, command, params)\u001b[0m\n\u001b[0;32m    394\u001b[0m             \u001b[0mparams\u001b[0m \u001b[1;33m=\u001b[0m \u001b[1;33m{\u001b[0m\u001b[1;33m}\u001b[0m\u001b[1;33m\u001b[0m\u001b[1;33m\u001b[0m\u001b[0m\n\u001b[0;32m    395\u001b[0m         \u001b[0mparams\u001b[0m\u001b[1;33m[\u001b[0m\u001b[1;34m'id'\u001b[0m\u001b[1;33m]\u001b[0m \u001b[1;33m=\u001b[0m \u001b[0mself\u001b[0m\u001b[1;33m.\u001b[0m\u001b[0m_id\u001b[0m\u001b[1;33m\u001b[0m\u001b[1;33m\u001b[0m\u001b[0m\n\u001b[1;32m--> 396\u001b[1;33m         \u001b[1;32mreturn\u001b[0m \u001b[0mself\u001b[0m\u001b[1;33m.\u001b[0m\u001b[0m_parent\u001b[0m\u001b[1;33m.\u001b[0m\u001b[0mexecute\u001b[0m\u001b[1;33m(\u001b[0m\u001b[0mcommand\u001b[0m\u001b[1;33m,\u001b[0m \u001b[0mparams\u001b[0m\u001b[1;33m)\u001b[0m\u001b[1;33m\u001b[0m\u001b[1;33m\u001b[0m\u001b[0m\n\u001b[0m\u001b[0;32m    397\u001b[0m \u001b[1;33m\u001b[0m\u001b[0m\n\u001b[0;32m    398\u001b[0m     \u001b[1;32mdef\u001b[0m \u001b[0mfind_element\u001b[0m\u001b[1;33m(\u001b[0m\u001b[0mself\u001b[0m\u001b[1;33m,\u001b[0m \u001b[0mby\u001b[0m\u001b[1;33m=\u001b[0m\u001b[0mBy\u001b[0m\u001b[1;33m.\u001b[0m\u001b[0mID\u001b[0m\u001b[1;33m,\u001b[0m \u001b[0mvalue\u001b[0m\u001b[1;33m=\u001b[0m\u001b[1;32mNone\u001b[0m\u001b[1;33m)\u001b[0m \u001b[1;33m->\u001b[0m \u001b[0mWebElement\u001b[0m\u001b[1;33m:\u001b[0m\u001b[1;33m\u001b[0m\u001b[1;33m\u001b[0m\u001b[0m\n",
      "\u001b[1;32m~\\anaconda3\\lib\\site-packages\\selenium\\webdriver\\remote\\webdriver.py\u001b[0m in \u001b[0;36mexecute\u001b[1;34m(self, driver_command, params)\u001b[0m\n\u001b[0;32m    426\u001b[0m         \u001b[0mresponse\u001b[0m \u001b[1;33m=\u001b[0m \u001b[0mself\u001b[0m\u001b[1;33m.\u001b[0m\u001b[0mcommand_executor\u001b[0m\u001b[1;33m.\u001b[0m\u001b[0mexecute\u001b[0m\u001b[1;33m(\u001b[0m\u001b[0mdriver_command\u001b[0m\u001b[1;33m,\u001b[0m \u001b[0mparams\u001b[0m\u001b[1;33m)\u001b[0m\u001b[1;33m\u001b[0m\u001b[1;33m\u001b[0m\u001b[0m\n\u001b[0;32m    427\u001b[0m         \u001b[1;32mif\u001b[0m \u001b[0mresponse\u001b[0m\u001b[1;33m:\u001b[0m\u001b[1;33m\u001b[0m\u001b[1;33m\u001b[0m\u001b[0m\n\u001b[1;32m--> 428\u001b[1;33m             \u001b[0mself\u001b[0m\u001b[1;33m.\u001b[0m\u001b[0merror_handler\u001b[0m\u001b[1;33m.\u001b[0m\u001b[0mcheck_response\u001b[0m\u001b[1;33m(\u001b[0m\u001b[0mresponse\u001b[0m\u001b[1;33m)\u001b[0m\u001b[1;33m\u001b[0m\u001b[1;33m\u001b[0m\u001b[0m\n\u001b[0m\u001b[0;32m    429\u001b[0m             response['value'] = self._unwrap_value(\n\u001b[0;32m    430\u001b[0m                 response.get('value', None))\n",
      "\u001b[1;32m~\\anaconda3\\lib\\site-packages\\selenium\\webdriver\\remote\\errorhandler.py\u001b[0m in \u001b[0;36mcheck_response\u001b[1;34m(self, response)\u001b[0m\n\u001b[0;32m    241\u001b[0m                 \u001b[0malert_text\u001b[0m \u001b[1;33m=\u001b[0m \u001b[0mvalue\u001b[0m\u001b[1;33m[\u001b[0m\u001b[1;34m'alert'\u001b[0m\u001b[1;33m]\u001b[0m\u001b[1;33m.\u001b[0m\u001b[0mget\u001b[0m\u001b[1;33m(\u001b[0m\u001b[1;34m'text'\u001b[0m\u001b[1;33m)\u001b[0m\u001b[1;33m\u001b[0m\u001b[1;33m\u001b[0m\u001b[0m\n\u001b[0;32m    242\u001b[0m             \u001b[1;32mraise\u001b[0m \u001b[0mexception_class\u001b[0m\u001b[1;33m(\u001b[0m\u001b[0mmessage\u001b[0m\u001b[1;33m,\u001b[0m \u001b[0mscreen\u001b[0m\u001b[1;33m,\u001b[0m \u001b[0mstacktrace\u001b[0m\u001b[1;33m,\u001b[0m \u001b[0malert_text\u001b[0m\u001b[1;33m)\u001b[0m  \u001b[1;31m# type: ignore[call-arg]  # mypy is not smart enough here\u001b[0m\u001b[1;33m\u001b[0m\u001b[1;33m\u001b[0m\u001b[0m\n\u001b[1;32m--> 243\u001b[1;33m         \u001b[1;32mraise\u001b[0m \u001b[0mexception_class\u001b[0m\u001b[1;33m(\u001b[0m\u001b[0mmessage\u001b[0m\u001b[1;33m,\u001b[0m \u001b[0mscreen\u001b[0m\u001b[1;33m,\u001b[0m \u001b[0mstacktrace\u001b[0m\u001b[1;33m)\u001b[0m\u001b[1;33m\u001b[0m\u001b[1;33m\u001b[0m\u001b[0m\n\u001b[0m",
      "\u001b[1;31mWebDriverException\u001b[0m: Message: chrome not reachable\n  (Session info: chrome=105.0.5195.102)\nStacktrace:\nBacktrace:\n\tOrdinal0 [0x0065DF13+2219795]\n\tOrdinal0 [0x005F2841+1779777]\n\tOrdinal0 [0x00504100+803072]\n\tOrdinal0 [0x004F9BF2+760818]\n\tOrdinal0 [0x004ECD35+707893]\n\tOrdinal0 [0x004F1122+725282]\n\tOrdinal0 [0x004F5699+743065]\n\tOrdinal0 [0x00505610+808464]\n\tOrdinal0 [0x0055E93A+1173818]\n\tOrdinal0 [0x0054E616+1107478]\n\tOrdinal0 [0x00527F89+950153]\n\tOrdinal0 [0x00528F56+954198]\n\tGetHandleVerifier [0x00952CB2+3040210]\n\tGetHandleVerifier [0x00942BB4+2974420]\n\tGetHandleVerifier [0x006F6A0A+565546]\n\tGetHandleVerifier [0x006F5680+560544]\n\tOrdinal0 [0x005F9A5C+1808988]\n\tOrdinal0 [0x005FE3A8+1827752]\n\tOrdinal0 [0x005FE495+1827989]\n\tOrdinal0 [0x006080A4+1867940]\n\tBaseThreadInitThunk [0x7567FA29+25]\n\tRtlGetAppContainerNamedObjectPath [0x77407A9E+286]\n\tRtlGetAppContainerNamedObjectPath [0x77407A6E+238]\n"
     ]
    }
   ],
   "source": [
    "designation.send_keys('Quality Engineer')"
   ]
  },
  {
   "cell_type": "code",
   "execution_count": 298,
   "id": "55934b70",
   "metadata": {},
   "outputs": [
    {
     "name": "stdout",
     "output_type": "stream",
     "text": [
      "Requirement already satisfied: selenium in c:\\users\\saranya\\anaconda3\\lib\\site-packages (4.4.3)\n",
      "Requirement already satisfied: trio~=0.17 in c:\\users\\saranya\\anaconda3\\lib\\site-packages (from selenium) (0.21.0)\n",
      "Requirement already satisfied: certifi>=2021.10.8 in c:\\users\\saranya\\anaconda3\\lib\\site-packages (from selenium) (2021.10.8)\n",
      "Requirement already satisfied: trio-websocket~=0.9 in c:\\users\\saranya\\anaconda3\\lib\\site-packages (from selenium) (0.9.2)\n",
      "Requirement already satisfied: urllib3[socks]~=1.26 in c:\\users\\saranya\\anaconda3\\lib\\site-packages (from selenium) (1.26.7)\n",
      "Requirement already satisfied: attrs>=19.2.0 in c:\\users\\saranya\\anaconda3\\lib\\site-packages (from trio~=0.17->selenium) (21.2.0)\n",
      "Requirement already satisfied: sniffio in c:\\users\\saranya\\anaconda3\\lib\\site-packages (from trio~=0.17->selenium) (1.2.0)\n",
      "Requirement already satisfied: async-generator>=1.9 in c:\\users\\saranya\\anaconda3\\lib\\site-packages (from trio~=0.17->selenium) (1.10)\n",
      "Requirement already satisfied: cffi>=1.14 in c:\\users\\saranya\\anaconda3\\lib\\site-packages (from trio~=0.17->selenium) (1.14.6)\n",
      "Requirement already satisfied: sortedcontainers in c:\\users\\saranya\\anaconda3\\lib\\site-packages (from trio~=0.17->selenium) (2.4.0)\n",
      "Requirement already satisfied: idna in c:\\users\\saranya\\anaconda3\\lib\\site-packages (from trio~=0.17->selenium) (3.2)\n",
      "Requirement already satisfied: outcome in c:\\users\\saranya\\anaconda3\\lib\\site-packages (from trio~=0.17->selenium) (1.2.0)\n",
      "Requirement already satisfied: pycparser in c:\\users\\saranya\\anaconda3\\lib\\site-packages (from cffi>=1.14->trio~=0.17->selenium) (2.20)\n",
      "Requirement already satisfied: wsproto>=0.14 in c:\\users\\saranya\\anaconda3\\lib\\site-packages (from trio-websocket~=0.9->selenium) (1.2.0)\n",
      "Requirement already satisfied: PySocks!=1.5.7,<2.0,>=1.5.6 in c:\\users\\saranya\\anaconda3\\lib\\site-packages (from urllib3[socks]~=1.26->selenium) (1.7.1)\n",
      "Requirement already satisfied: h11<1,>=0.9.0 in c:\\users\\saranya\\anaconda3\\lib\\site-packages (from wsproto>=0.14->trio-websocket~=0.9->selenium) (0.13.0)\n"
     ]
    }
   ],
   "source": [
    "! pip3 install selenium"
   ]
  },
  {
   "cell_type": "code",
   "execution_count": 299,
   "id": "a94cbe44",
   "metadata": {},
   "outputs": [],
   "source": [
    "import selenium\n",
    "import pandas as pd\n",
    "from selenium import webdriver\n",
    "from selenium.webdriver.common.by import By\n",
    "import time\n",
    "from selenium.webdriver.chrome.service import Service\n",
    "import warnings\n",
    "warnings.filterwarnings('ignore')"
   ]
  },
  {
   "cell_type": "code",
   "execution_count": 300,
   "id": "e43289bb",
   "metadata": {},
   "outputs": [
    {
     "data": {
      "text/plain": [
       "<selenium.webdriver.chrome.webdriver.WebDriver (session=\"f578b39facd10ef1132f95f062d1e883\")>"
      ]
     },
     "execution_count": 300,
     "metadata": {},
     "output_type": "execute_result"
    }
   ],
   "source": [
    "driver = webdriver.Chrome(r\"C:\\\\Users\\\\Saranya\\\\Downloads\\\\chromedriver.exe\")\n",
    "driver"
   ]
  },
  {
   "cell_type": "code",
   "execution_count": 301,
   "id": "67f14ce6",
   "metadata": {},
   "outputs": [],
   "source": [
    "url = \"https://www.ambitionbox.com\"\n",
    "driver.get(url)"
   ]
  },
  {
   "cell_type": "code",
   "execution_count": 304,
   "id": "6ebf64ef",
   "metadata": {},
   "outputs": [
    {
     "data": {
      "text/plain": [
       "<selenium.webdriver.remote.webelement.WebElement (session=\"f578b39facd10ef1132f95f062d1e883\", element=\"0b3a99a7-83b2-48fd-b072-f2419cf3b0e2\")>"
      ]
     },
     "execution_count": 304,
     "metadata": {},
     "output_type": "execute_result"
    }
   ],
   "source": [
    "search_job = driver.find_element(By.XPATH, \"//input[@type='searchbox']\")\n",
    "search_job"
   ]
  },
  {
   "cell_type": "code",
   "execution_count": 305,
   "id": "4d45d1fd",
   "metadata": {},
   "outputs": [
    {
     "ename": "WebDriverException",
     "evalue": "Message: chrome not reachable\n  (Session info: chrome=105.0.5195.102)\nStacktrace:\nBacktrace:\n\tOrdinal0 [0x0065DF13+2219795]\n\tOrdinal0 [0x005F2841+1779777]\n\tOrdinal0 [0x00504100+803072]\n\tOrdinal0 [0x004F9BF2+760818]\n\tOrdinal0 [0x004ECD35+707893]\n\tOrdinal0 [0x004F1122+725282]\n\tOrdinal0 [0x004F5699+743065]\n\tOrdinal0 [0x00505610+808464]\n\tOrdinal0 [0x0055E93A+1173818]\n\tOrdinal0 [0x0054E616+1107478]\n\tOrdinal0 [0x00527F89+950153]\n\tOrdinal0 [0x00528F56+954198]\n\tGetHandleVerifier [0x00952CB2+3040210]\n\tGetHandleVerifier [0x00942BB4+2974420]\n\tGetHandleVerifier [0x006F6A0A+565546]\n\tGetHandleVerifier [0x006F5680+560544]\n\tOrdinal0 [0x005F9A5C+1808988]\n\tOrdinal0 [0x005FE3A8+1827752]\n\tOrdinal0 [0x005FE495+1827989]\n\tOrdinal0 [0x006080A4+1867940]\n\tBaseThreadInitThunk [0x7567FA29+25]\n\tRtlGetAppContainerNamedObjectPath [0x77407A9E+286]\n\tRtlGetAppContainerNamedObjectPath [0x77407A6E+238]\n",
     "output_type": "error",
     "traceback": [
      "\u001b[1;31m---------------------------------------------------------------------------\u001b[0m",
      "\u001b[1;31mWebDriverException\u001b[0m                        Traceback (most recent call last)",
      "\u001b[1;32m~\\AppData\\Local\\Temp/ipykernel_20920/1143740107.py\u001b[0m in \u001b[0;36m<module>\u001b[1;34m\u001b[0m\n\u001b[1;32m----> 1\u001b[1;33m \u001b[0mdesignation\u001b[0m\u001b[1;33m.\u001b[0m\u001b[0msend_keys\u001b[0m\u001b[1;33m(\u001b[0m\u001b[1;34m'Data Scientist'\u001b[0m\u001b[1;33m)\u001b[0m\u001b[1;33m\u001b[0m\u001b[1;33m\u001b[0m\u001b[0m\n\u001b[0m",
      "\u001b[1;32m~\\anaconda3\\lib\\site-packages\\selenium\\webdriver\\remote\\webelement.py\u001b[0m in \u001b[0;36msend_keys\u001b[1;34m(self, *value)\u001b[0m\n\u001b[0;32m    221\u001b[0m                 \u001b[0mvalue\u001b[0m \u001b[1;33m=\u001b[0m \u001b[1;34m'\\n'\u001b[0m\u001b[1;33m.\u001b[0m\u001b[0mjoin\u001b[0m\u001b[1;33m(\u001b[0m\u001b[0mremote_files\u001b[0m\u001b[1;33m)\u001b[0m\u001b[1;33m\u001b[0m\u001b[1;33m\u001b[0m\u001b[0m\n\u001b[0;32m    222\u001b[0m \u001b[1;33m\u001b[0m\u001b[0m\n\u001b[1;32m--> 223\u001b[1;33m         self._execute(Command.SEND_KEYS_TO_ELEMENT,\n\u001b[0m\u001b[0;32m    224\u001b[0m                       {'text': \"\".join(keys_to_typing(value)),\n\u001b[0;32m    225\u001b[0m                        'value': keys_to_typing(value)})\n",
      "\u001b[1;32m~\\anaconda3\\lib\\site-packages\\selenium\\webdriver\\remote\\webelement.py\u001b[0m in \u001b[0;36m_execute\u001b[1;34m(self, command, params)\u001b[0m\n\u001b[0;32m    394\u001b[0m             \u001b[0mparams\u001b[0m \u001b[1;33m=\u001b[0m \u001b[1;33m{\u001b[0m\u001b[1;33m}\u001b[0m\u001b[1;33m\u001b[0m\u001b[1;33m\u001b[0m\u001b[0m\n\u001b[0;32m    395\u001b[0m         \u001b[0mparams\u001b[0m\u001b[1;33m[\u001b[0m\u001b[1;34m'id'\u001b[0m\u001b[1;33m]\u001b[0m \u001b[1;33m=\u001b[0m \u001b[0mself\u001b[0m\u001b[1;33m.\u001b[0m\u001b[0m_id\u001b[0m\u001b[1;33m\u001b[0m\u001b[1;33m\u001b[0m\u001b[0m\n\u001b[1;32m--> 396\u001b[1;33m         \u001b[1;32mreturn\u001b[0m \u001b[0mself\u001b[0m\u001b[1;33m.\u001b[0m\u001b[0m_parent\u001b[0m\u001b[1;33m.\u001b[0m\u001b[0mexecute\u001b[0m\u001b[1;33m(\u001b[0m\u001b[0mcommand\u001b[0m\u001b[1;33m,\u001b[0m \u001b[0mparams\u001b[0m\u001b[1;33m)\u001b[0m\u001b[1;33m\u001b[0m\u001b[1;33m\u001b[0m\u001b[0m\n\u001b[0m\u001b[0;32m    397\u001b[0m \u001b[1;33m\u001b[0m\u001b[0m\n\u001b[0;32m    398\u001b[0m     \u001b[1;32mdef\u001b[0m \u001b[0mfind_element\u001b[0m\u001b[1;33m(\u001b[0m\u001b[0mself\u001b[0m\u001b[1;33m,\u001b[0m \u001b[0mby\u001b[0m\u001b[1;33m=\u001b[0m\u001b[0mBy\u001b[0m\u001b[1;33m.\u001b[0m\u001b[0mID\u001b[0m\u001b[1;33m,\u001b[0m \u001b[0mvalue\u001b[0m\u001b[1;33m=\u001b[0m\u001b[1;32mNone\u001b[0m\u001b[1;33m)\u001b[0m \u001b[1;33m->\u001b[0m \u001b[0mWebElement\u001b[0m\u001b[1;33m:\u001b[0m\u001b[1;33m\u001b[0m\u001b[1;33m\u001b[0m\u001b[0m\n",
      "\u001b[1;32m~\\anaconda3\\lib\\site-packages\\selenium\\webdriver\\remote\\webdriver.py\u001b[0m in \u001b[0;36mexecute\u001b[1;34m(self, driver_command, params)\u001b[0m\n\u001b[0;32m    426\u001b[0m         \u001b[0mresponse\u001b[0m \u001b[1;33m=\u001b[0m \u001b[0mself\u001b[0m\u001b[1;33m.\u001b[0m\u001b[0mcommand_executor\u001b[0m\u001b[1;33m.\u001b[0m\u001b[0mexecute\u001b[0m\u001b[1;33m(\u001b[0m\u001b[0mdriver_command\u001b[0m\u001b[1;33m,\u001b[0m \u001b[0mparams\u001b[0m\u001b[1;33m)\u001b[0m\u001b[1;33m\u001b[0m\u001b[1;33m\u001b[0m\u001b[0m\n\u001b[0;32m    427\u001b[0m         \u001b[1;32mif\u001b[0m \u001b[0mresponse\u001b[0m\u001b[1;33m:\u001b[0m\u001b[1;33m\u001b[0m\u001b[1;33m\u001b[0m\u001b[0m\n\u001b[1;32m--> 428\u001b[1;33m             \u001b[0mself\u001b[0m\u001b[1;33m.\u001b[0m\u001b[0merror_handler\u001b[0m\u001b[1;33m.\u001b[0m\u001b[0mcheck_response\u001b[0m\u001b[1;33m(\u001b[0m\u001b[0mresponse\u001b[0m\u001b[1;33m)\u001b[0m\u001b[1;33m\u001b[0m\u001b[1;33m\u001b[0m\u001b[0m\n\u001b[0m\u001b[0;32m    429\u001b[0m             response['value'] = self._unwrap_value(\n\u001b[0;32m    430\u001b[0m                 response.get('value', None))\n",
      "\u001b[1;32m~\\anaconda3\\lib\\site-packages\\selenium\\webdriver\\remote\\errorhandler.py\u001b[0m in \u001b[0;36mcheck_response\u001b[1;34m(self, response)\u001b[0m\n\u001b[0;32m    241\u001b[0m                 \u001b[0malert_text\u001b[0m \u001b[1;33m=\u001b[0m \u001b[0mvalue\u001b[0m\u001b[1;33m[\u001b[0m\u001b[1;34m'alert'\u001b[0m\u001b[1;33m]\u001b[0m\u001b[1;33m.\u001b[0m\u001b[0mget\u001b[0m\u001b[1;33m(\u001b[0m\u001b[1;34m'text'\u001b[0m\u001b[1;33m)\u001b[0m\u001b[1;33m\u001b[0m\u001b[1;33m\u001b[0m\u001b[0m\n\u001b[0;32m    242\u001b[0m             \u001b[1;32mraise\u001b[0m \u001b[0mexception_class\u001b[0m\u001b[1;33m(\u001b[0m\u001b[0mmessage\u001b[0m\u001b[1;33m,\u001b[0m \u001b[0mscreen\u001b[0m\u001b[1;33m,\u001b[0m \u001b[0mstacktrace\u001b[0m\u001b[1;33m,\u001b[0m \u001b[0malert_text\u001b[0m\u001b[1;33m)\u001b[0m  \u001b[1;31m# type: ignore[call-arg]  # mypy is not smart enough here\u001b[0m\u001b[1;33m\u001b[0m\u001b[1;33m\u001b[0m\u001b[0m\n\u001b[1;32m--> 243\u001b[1;33m         \u001b[1;32mraise\u001b[0m \u001b[0mexception_class\u001b[0m\u001b[1;33m(\u001b[0m\u001b[0mmessage\u001b[0m\u001b[1;33m,\u001b[0m \u001b[0mscreen\u001b[0m\u001b[1;33m,\u001b[0m \u001b[0mstacktrace\u001b[0m\u001b[1;33m)\u001b[0m\u001b[1;33m\u001b[0m\u001b[1;33m\u001b[0m\u001b[0m\n\u001b[0m",
      "\u001b[1;31mWebDriverException\u001b[0m: Message: chrome not reachable\n  (Session info: chrome=105.0.5195.102)\nStacktrace:\nBacktrace:\n\tOrdinal0 [0x0065DF13+2219795]\n\tOrdinal0 [0x005F2841+1779777]\n\tOrdinal0 [0x00504100+803072]\n\tOrdinal0 [0x004F9BF2+760818]\n\tOrdinal0 [0x004ECD35+707893]\n\tOrdinal0 [0x004F1122+725282]\n\tOrdinal0 [0x004F5699+743065]\n\tOrdinal0 [0x00505610+808464]\n\tOrdinal0 [0x0055E93A+1173818]\n\tOrdinal0 [0x0054E616+1107478]\n\tOrdinal0 [0x00527F89+950153]\n\tOrdinal0 [0x00528F56+954198]\n\tGetHandleVerifier [0x00952CB2+3040210]\n\tGetHandleVerifier [0x00942BB4+2974420]\n\tGetHandleVerifier [0x006F6A0A+565546]\n\tGetHandleVerifier [0x006F5680+560544]\n\tOrdinal0 [0x005F9A5C+1808988]\n\tOrdinal0 [0x005FE3A8+1827752]\n\tOrdinal0 [0x005FE495+1827989]\n\tOrdinal0 [0x006080A4+1867940]\n\tBaseThreadInitThunk [0x7567FA29+25]\n\tRtlGetAppContainerNamedObjectPath [0x77407A9E+286]\n\tRtlGetAppContainerNamedObjectPath [0x77407A6E+238]\n"
     ]
    }
   ],
   "source": [
    "designation.send_keys('Data Scientist')"
   ]
  },
  {
   "cell_type": "code",
   "execution_count": 306,
   "id": "9bd1b1b1",
   "metadata": {},
   "outputs": [
    {
     "data": {
      "text/plain": [
       "[<selenium.webdriver.remote.webelement.WebElement (session=\"f578b39facd10ef1132f95f062d1e883\", element=\"47fb5726-5758-43e5-9997-bb37480d2644\")>]"
      ]
     },
     "execution_count": 306,
     "metadata": {},
     "output_type": "execute_result"
    }
   ],
   "source": [
    "company_tag=driver.find_elements(By.XPATH, \"//a[@title='Walmart Data Scientist Salary']\")\n",
    "company_tag"
   ]
  },
  {
   "cell_type": "code",
   "execution_count": 307,
   "id": "4a79ce31",
   "metadata": {},
   "outputs": [
    {
     "data": {
      "text/plain": [
       "['Walmart\\nData Scientist Salary']"
      ]
     },
     "execution_count": 307,
     "metadata": {},
     "output_type": "execute_result"
    }
   ],
   "source": [
    "companies_names=[]\n",
    "\n",
    "for i in company_tag:\n",
    "    companies_names.append(i.text)\n",
    "companies_names[:10] "
   ]
  },
  {
   "cell_type": "code",
   "execution_count": 310,
   "id": "f085d480",
   "metadata": {},
   "outputs": [
    {
     "data": {
      "text/plain": [
       "[]"
      ]
     },
     "execution_count": 310,
     "metadata": {},
     "output_type": "execute_result"
    }
   ],
   "source": [
    "salary_tag=driver.find_elements(By.XPATH, \"//data-v-4c07f399[@class='jp']/span\")\n",
    "salary_tag"
   ]
  },
  {
   "cell_type": "code",
   "execution_count": 314,
   "id": "179c07b9",
   "metadata": {},
   "outputs": [
    {
     "data": {
      "text/plain": [
       "[<selenium.webdriver.remote.webelement.WebElement (session=\"f578b39facd10ef1132f95f062d1e883\", element=\"a99f07ca-af0b-467f-af5c-01c23d056c07\")>,\n",
       " <selenium.webdriver.remote.webelement.WebElement (session=\"f578b39facd10ef1132f95f062d1e883\", element=\"d991e9af-0cea-41db-9aa2-cb8a3fcaca3f\")>,\n",
       " <selenium.webdriver.remote.webelement.WebElement (session=\"f578b39facd10ef1132f95f062d1e883\", element=\"40462705-6684-49c0-8f7c-bd238c4f5145\")>,\n",
       " <selenium.webdriver.remote.webelement.WebElement (session=\"f578b39facd10ef1132f95f062d1e883\", element=\"24d0a902-8798-434e-9ff4-018cf297114f\")>,\n",
       " <selenium.webdriver.remote.webelement.WebElement (session=\"f578b39facd10ef1132f95f062d1e883\", element=\"78a55918-6297-4d34-95c3-77aefcfddece\")>,\n",
       " <selenium.webdriver.remote.webelement.WebElement (session=\"f578b39facd10ef1132f95f062d1e883\", element=\"f41d12db-d1b2-4aa2-9c27-cac005cd21ce\")>,\n",
       " <selenium.webdriver.remote.webelement.WebElement (session=\"f578b39facd10ef1132f95f062d1e883\", element=\"43814f1d-bdb8-40f5-9eac-1c975cc0b4b1\")>,\n",
       " <selenium.webdriver.remote.webelement.WebElement (session=\"f578b39facd10ef1132f95f062d1e883\", element=\"0b877eb9-ca6c-4e26-837f-854b9b203f9e\")>,\n",
       " <selenium.webdriver.remote.webelement.WebElement (session=\"f578b39facd10ef1132f95f062d1e883\", element=\"a03334c3-d491-40f3-8c98-4387c1d51449\")>,\n",
       " <selenium.webdriver.remote.webelement.WebElement (session=\"f578b39facd10ef1132f95f062d1e883\", element=\"89704d3c-0b93-415c-b66c-6f1a27563cc5\")>]"
      ]
     },
     "execution_count": 314,
     "metadata": {},
     "output_type": "execute_result"
    }
   ],
   "source": [
    "experience_tag=driver.find_elements(By.XPATH, \"//div[@class='sbold-list-header']\")\n",
    "experience_tag"
   ]
  },
  {
   "cell_type": "code",
   "execution_count": 317,
   "id": "ac435690",
   "metadata": {},
   "outputs": [
    {
     "data": {
      "text/plain": [
       "[]"
      ]
     },
     "execution_count": 317,
     "metadata": {},
     "output_type": "execute_result"
    }
   ],
   "source": [
    "experience_tag=[]\n",
    "for i in experience_tag:\n",
    "    experience_tag.append(i.text)\n",
    "experience_tag[:10] "
   ]
  },
  {
   "cell_type": "code",
   "execution_count": 319,
   "id": "dff3463b",
   "metadata": {},
   "outputs": [
    {
     "data": {
      "text/plain": [
       "[<selenium.webdriver.remote.webelement.WebElement (session=\"f578b39facd10ef1132f95f062d1e883\", element=\"2cfd0f01-7865-42de-92b0-d0b00a25115a\")>,\n",
       " <selenium.webdriver.remote.webelement.WebElement (session=\"f578b39facd10ef1132f95f062d1e883\", element=\"f6167fbb-f99d-4b6b-aa8e-a8937fd16354\")>,\n",
       " <selenium.webdriver.remote.webelement.WebElement (session=\"f578b39facd10ef1132f95f062d1e883\", element=\"70822327-85a7-4546-a854-57aa5f660586\")>,\n",
       " <selenium.webdriver.remote.webelement.WebElement (session=\"f578b39facd10ef1132f95f062d1e883\", element=\"95193f78-ac73-4a13-a922-e6b7d26eb467\")>,\n",
       " <selenium.webdriver.remote.webelement.WebElement (session=\"f578b39facd10ef1132f95f062d1e883\", element=\"1bbc0ab6-b717-4ee9-bcbf-b3fc0be13149\")>,\n",
       " <selenium.webdriver.remote.webelement.WebElement (session=\"f578b39facd10ef1132f95f062d1e883\", element=\"7c129822-f1b5-4600-b4a0-adee18d5385b\")>,\n",
       " <selenium.webdriver.remote.webelement.WebElement (session=\"f578b39facd10ef1132f95f062d1e883\", element=\"c8d44e9e-699d-4fca-9c9f-b1032f640e4c\")>,\n",
       " <selenium.webdriver.remote.webelement.WebElement (session=\"f578b39facd10ef1132f95f062d1e883\", element=\"a0be8099-aa2a-45ad-8394-4c7bb8840626\")>,\n",
       " <selenium.webdriver.remote.webelement.WebElement (session=\"f578b39facd10ef1132f95f062d1e883\", element=\"95a1c290-f65b-4e0b-a842-4ec86a681923\")>,\n",
       " <selenium.webdriver.remote.webelement.WebElement (session=\"f578b39facd10ef1132f95f062d1e883\", element=\"4d0c876f-4bdd-4ae3-8359-80a9948c6297\")>,\n",
       " <selenium.webdriver.remote.webelement.WebElement (session=\"f578b39facd10ef1132f95f062d1e883\", element=\"6e05fae1-eaf8-4a66-a6ff-3b5f8d28992c\")>,\n",
       " <selenium.webdriver.remote.webelement.WebElement (session=\"f578b39facd10ef1132f95f062d1e883\", element=\"d8a645ca-d744-48cd-b5f5-9009047f1a60\")>,\n",
       " <selenium.webdriver.remote.webelement.WebElement (session=\"f578b39facd10ef1132f95f062d1e883\", element=\"1685fef5-cc67-427a-9444-52b1326a979e\")>,\n",
       " <selenium.webdriver.remote.webelement.WebElement (session=\"f578b39facd10ef1132f95f062d1e883\", element=\"7f08b73d-8160-4e2c-bcbb-1704b55804d1\")>,\n",
       " <selenium.webdriver.remote.webelement.WebElement (session=\"f578b39facd10ef1132f95f062d1e883\", element=\"ba2f4819-fa71-431c-8110-66ed6412548b\")>,\n",
       " <selenium.webdriver.remote.webelement.WebElement (session=\"f578b39facd10ef1132f95f062d1e883\", element=\"4c65b464-d4b2-4da2-903e-d54d9ea3186e\")>,\n",
       " <selenium.webdriver.remote.webelement.WebElement (session=\"f578b39facd10ef1132f95f062d1e883\", element=\"f1c391b5-f717-437e-b96a-88c918a9a368\")>,\n",
       " <selenium.webdriver.remote.webelement.WebElement (session=\"f578b39facd10ef1132f95f062d1e883\", element=\"a2c7fd42-abc0-4cbb-bda4-4ff109684a00\")>,\n",
       " <selenium.webdriver.remote.webelement.WebElement (session=\"f578b39facd10ef1132f95f062d1e883\", element=\"cd77eee3-63a3-4ddc-8d50-f1fa6cfa5634\")>,\n",
       " <selenium.webdriver.remote.webelement.WebElement (session=\"f578b39facd10ef1132f95f062d1e883\", element=\"72789249-a43d-4fba-8096-b129decb9a25\")>]"
      ]
     },
     "execution_count": 319,
     "metadata": {},
     "output_type": "execute_result"
    }
   ],
   "source": [
    "M_salary_Avg=driver.find_elements(By.XPATH, \"//div[@class='value body-medium']\")\n",
    "M_salary_Avg"
   ]
  },
  {
   "cell_type": "code",
   "execution_count": 321,
   "id": "d30a2af0",
   "metadata": {},
   "outputs": [
    {
     "data": {
      "text/plain": [
       "[]"
      ]
     },
     "execution_count": 321,
     "metadata": {},
     "output_type": "execute_result"
    }
   ],
   "source": [
    "M_salary_Avg=[]\n",
    "for i in M_salary_Avg:\n",
    "    M_salary_Avg.append(i.text)\n",
    "M_salary_Avg[:10] "
   ]
  },
  {
   "cell_type": "code",
   "execution_count": 322,
   "id": "9e4d197d",
   "metadata": {},
   "outputs": [
    {
     "data": {
      "text/plain": [
       "[<selenium.webdriver.remote.webelement.WebElement (session=\"f578b39facd10ef1132f95f062d1e883\", element=\"30ec33a8-b336-40b1-a691-518d4ed93496\")>,\n",
       " <selenium.webdriver.remote.webelement.WebElement (session=\"f578b39facd10ef1132f95f062d1e883\", element=\"0851490b-5e6f-4e83-863d-da51ba87d588\")>,\n",
       " <selenium.webdriver.remote.webelement.WebElement (session=\"f578b39facd10ef1132f95f062d1e883\", element=\"ff73a44e-6f3d-4739-b39d-c650a5456ade\")>,\n",
       " <selenium.webdriver.remote.webelement.WebElement (session=\"f578b39facd10ef1132f95f062d1e883\", element=\"a6c8c9c8-d27a-4ef0-8d30-813095d6b66e\")>,\n",
       " <selenium.webdriver.remote.webelement.WebElement (session=\"f578b39facd10ef1132f95f062d1e883\", element=\"35329ae4-273c-406e-8353-4847a3097e4e\")>,\n",
       " <selenium.webdriver.remote.webelement.WebElement (session=\"f578b39facd10ef1132f95f062d1e883\", element=\"3d0786bc-1b5d-4c44-967e-121d47223410\")>,\n",
       " <selenium.webdriver.remote.webelement.WebElement (session=\"f578b39facd10ef1132f95f062d1e883\", element=\"6d88a71b-4526-4bfe-91e9-7a5295acc312\")>,\n",
       " <selenium.webdriver.remote.webelement.WebElement (session=\"f578b39facd10ef1132f95f062d1e883\", element=\"eb83b159-aff3-4100-b66c-8492388e1e49\")>,\n",
       " <selenium.webdriver.remote.webelement.WebElement (session=\"f578b39facd10ef1132f95f062d1e883\", element=\"7ae3fc66-da74-41b0-b24d-4a084ef8d096\")>,\n",
       " <selenium.webdriver.remote.webelement.WebElement (session=\"f578b39facd10ef1132f95f062d1e883\", element=\"29db3a86-fe05-4f9a-b154-3b61968a7595\")>]"
      ]
     },
     "execution_count": 322,
     "metadata": {},
     "output_type": "execute_result"
    }
   ],
   "source": [
    "A_salary_Avg=driver.find_elements(By.XPATH, \"//p[@class='averageCtc']\")\n",
    "A_salary_Avg"
   ]
  },
  {
   "cell_type": "code",
   "execution_count": 323,
   "id": "81197105",
   "metadata": {},
   "outputs": [
    {
     "data": {
      "text/plain": [
       "[]"
      ]
     },
     "execution_count": 323,
     "metadata": {},
     "output_type": "execute_result"
    }
   ],
   "source": [
    "A_salary_Avg=[]\n",
    "for i in A_salary_Avg:\n",
    "    A_salary_Avg.append(i.text)\n",
    "A_salary_Avg[:10] "
   ]
  },
  {
   "cell_type": "code",
   "execution_count": 324,
   "id": "f5bfd71b",
   "metadata": {},
   "outputs": [
    {
     "data": {
      "text/plain": [
       "[<selenium.webdriver.remote.webelement.WebElement (session=\"f578b39facd10ef1132f95f062d1e883\", element=\"2cfd0f01-7865-42de-92b0-d0b00a25115a\")>,\n",
       " <selenium.webdriver.remote.webelement.WebElement (session=\"f578b39facd10ef1132f95f062d1e883\", element=\"f6167fbb-f99d-4b6b-aa8e-a8937fd16354\")>,\n",
       " <selenium.webdriver.remote.webelement.WebElement (session=\"f578b39facd10ef1132f95f062d1e883\", element=\"70822327-85a7-4546-a854-57aa5f660586\")>,\n",
       " <selenium.webdriver.remote.webelement.WebElement (session=\"f578b39facd10ef1132f95f062d1e883\", element=\"95193f78-ac73-4a13-a922-e6b7d26eb467\")>,\n",
       " <selenium.webdriver.remote.webelement.WebElement (session=\"f578b39facd10ef1132f95f062d1e883\", element=\"1bbc0ab6-b717-4ee9-bcbf-b3fc0be13149\")>,\n",
       " <selenium.webdriver.remote.webelement.WebElement (session=\"f578b39facd10ef1132f95f062d1e883\", element=\"7c129822-f1b5-4600-b4a0-adee18d5385b\")>,\n",
       " <selenium.webdriver.remote.webelement.WebElement (session=\"f578b39facd10ef1132f95f062d1e883\", element=\"c8d44e9e-699d-4fca-9c9f-b1032f640e4c\")>,\n",
       " <selenium.webdriver.remote.webelement.WebElement (session=\"f578b39facd10ef1132f95f062d1e883\", element=\"a0be8099-aa2a-45ad-8394-4c7bb8840626\")>,\n",
       " <selenium.webdriver.remote.webelement.WebElement (session=\"f578b39facd10ef1132f95f062d1e883\", element=\"95a1c290-f65b-4e0b-a842-4ec86a681923\")>,\n",
       " <selenium.webdriver.remote.webelement.WebElement (session=\"f578b39facd10ef1132f95f062d1e883\", element=\"4d0c876f-4bdd-4ae3-8359-80a9948c6297\")>,\n",
       " <selenium.webdriver.remote.webelement.WebElement (session=\"f578b39facd10ef1132f95f062d1e883\", element=\"6e05fae1-eaf8-4a66-a6ff-3b5f8d28992c\")>,\n",
       " <selenium.webdriver.remote.webelement.WebElement (session=\"f578b39facd10ef1132f95f062d1e883\", element=\"d8a645ca-d744-48cd-b5f5-9009047f1a60\")>,\n",
       " <selenium.webdriver.remote.webelement.WebElement (session=\"f578b39facd10ef1132f95f062d1e883\", element=\"1685fef5-cc67-427a-9444-52b1326a979e\")>,\n",
       " <selenium.webdriver.remote.webelement.WebElement (session=\"f578b39facd10ef1132f95f062d1e883\", element=\"7f08b73d-8160-4e2c-bcbb-1704b55804d1\")>,\n",
       " <selenium.webdriver.remote.webelement.WebElement (session=\"f578b39facd10ef1132f95f062d1e883\", element=\"ba2f4819-fa71-431c-8110-66ed6412548b\")>,\n",
       " <selenium.webdriver.remote.webelement.WebElement (session=\"f578b39facd10ef1132f95f062d1e883\", element=\"4c65b464-d4b2-4da2-903e-d54d9ea3186e\")>,\n",
       " <selenium.webdriver.remote.webelement.WebElement (session=\"f578b39facd10ef1132f95f062d1e883\", element=\"f1c391b5-f717-437e-b96a-88c918a9a368\")>,\n",
       " <selenium.webdriver.remote.webelement.WebElement (session=\"f578b39facd10ef1132f95f062d1e883\", element=\"a2c7fd42-abc0-4cbb-bda4-4ff109684a00\")>,\n",
       " <selenium.webdriver.remote.webelement.WebElement (session=\"f578b39facd10ef1132f95f062d1e883\", element=\"cd77eee3-63a3-4ddc-8d50-f1fa6cfa5634\")>,\n",
       " <selenium.webdriver.remote.webelement.WebElement (session=\"f578b39facd10ef1132f95f062d1e883\", element=\"72789249-a43d-4fba-8096-b129decb9a25\")>]"
      ]
     },
     "execution_count": 324,
     "metadata": {},
     "output_type": "execute_result"
    }
   ],
   "source": [
    "V_salary_Avg=driver.find_elements(By.XPATH, \"//div[@class='value body-medium']\")\n",
    "V_salary_Avg"
   ]
  },
  {
   "cell_type": "code",
   "execution_count": 325,
   "id": "076896b4",
   "metadata": {},
   "outputs": [
    {
     "data": {
      "text/plain": [
       "[]"
      ]
     },
     "execution_count": 325,
     "metadata": {},
     "output_type": "execute_result"
    }
   ],
   "source": [
    "V_salary_Avg=[]\n",
    "for i in V_salary_Avg:\n",
    "    V_salary_Avg.append(i.text)\n",
    "V_salary_Avg[:10] "
   ]
  },
  {
   "cell_type": "code",
   "execution_count": null,
   "id": "46894c39",
   "metadata": {},
   "outputs": [],
   "source": []
  }
 ],
 "metadata": {
  "kernelspec": {
   "display_name": "Python 3 (ipykernel)",
   "language": "python",
   "name": "python3"
  },
  "language_info": {
   "codemirror_mode": {
    "name": "ipython",
    "version": 3
   },
   "file_extension": ".py",
   "mimetype": "text/x-python",
   "name": "python",
   "nbconvert_exporter": "python",
   "pygments_lexer": "ipython3",
   "version": "3.9.7"
  }
 },
 "nbformat": 4,
 "nbformat_minor": 5
}
